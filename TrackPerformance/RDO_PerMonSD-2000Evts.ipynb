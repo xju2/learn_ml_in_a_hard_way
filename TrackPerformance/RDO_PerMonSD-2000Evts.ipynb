{
 "cells": [
  {
   "cell_type": "code",
   "execution_count": 1,
   "metadata": {},
   "outputs": [],
   "source": [
    "import pickle\n",
    "import matplotlib.pyplot as plt\n",
    "%matplotlib inline\n",
    "\n",
    "import pandas as pd\n",
    "import numpy as np\n",
    "import pprint"
   ]
  },
  {
   "cell_type": "code",
   "execution_count": 2,
   "metadata": {},
   "outputs": [],
   "source": [
    "pp = pprint.PrettyPrinter(indent=2)"
   ]
  },
  {
   "cell_type": "code",
   "execution_count": 3,
   "metadata": {},
   "outputs": [],
   "source": [
    "data = pickle.load(open(\"../data/permon_2000evts.txt\", 'rb'))"
   ]
  },
  {
   "cell_type": "code",
   "execution_count": 4,
   "metadata": {},
   "outputs": [],
   "source": [
    "info = data[0]"
   ]
  },
  {
   "cell_type": "code",
   "execution_count": 5,
   "metadata": {},
   "outputs": [
    {
     "name": "stdout",
     "output_type": "stream",
     "text": [
      "dict_keys(['full_info', 'version', 'evt_max_info', 'fulloutput_file', 'steps_comps', 'steps_totals', 'special'])\n"
     ]
    }
   ],
   "source": [
    "print(info.keys())"
   ]
  },
  {
   "cell_type": "code",
   "execution_count": 6,
   "metadata": {},
   "outputs": [
    {
     "name": "stdout",
     "output_type": "stream",
     "text": [
      "full_info: True\n",
      "version: (1, 0)\n",
      "fulloutput_file: ntuple_rdotoesdaod.pmon.gz\n",
      "steps_totals: {'preLoadProxy': {'[total_for_9_comps]': {'vmem': 300.0, 'malloc': 2260.0, 'cpu': 117.0, 'order': 570, 'n': 20}, '[total_for_5_comps]': {'vmem': 0.0, 'malloc': 0.0, 'cpu': 0.0, 'order': 566, 'n': 4}, '[total_for_133_comps]': {'vmem': 0.0, 'malloc': 26.0, 'cpu': 0.0, 'order': 564, 'n': 2}, '[total_for_1_comps]:n=9': {'vmem': 0.0, 'malloc': 0.0, 'cpu': 0.0, 'order': 569, 'n': 9}, '[total_for_380_comps]': {'vmem': 1036688.0, 'malloc': 355008.0, 'cpu': 15460.0, 'order': 563, 'n': 1}, '[total_for_25_comps]': {'vmem': 0.0, 'malloc': 5.0, 'cpu': 0.0, 'order': 565, 'n': 3}, '[total_for_1_comps]': {'vmem': 0.0, 'malloc': 0.0, 'cpu': 0.0, 'order': 568, 'n': 7}, '[total_for_4_comps]': {'vmem': 0.0, 'malloc': 1.0, 'cpu': 0.0, 'order': 567, 'n': 5}, '[total_for_1_comps]:n=22': {'vmem': 0.0, 'malloc': 0.0, 'cpu': 0.0, 'order': 572, 'n': 22}, '[total_for_4_comps]:n=21': {'vmem': 0.0, 'malloc': 0.0, 'cpu': 0.0, 'order': 571, 'n': 21}}, 'cbk': {'[total_for_90_comps]': {'vmem': 20.0, 'malloc': 35739.0, 'cpu': 7160.0, 'order': 93, 'n': 1}, '[total_for_3_comps]': {'vmem': 0.0, 'malloc': 0.0, 'cpu': 3.0, 'order': 94, 'n': 20}}, 'dso': {'[total_for_723_comps]': {'vmem': 341604.0, 'malloc': 39954.0, 'cpu': 8690.0, 'order': 723, 'n': 1}}, 'ini': {'[total_for_482_comps]': {'vmem': 183472.0, 'malloc': 190658.0, 'cpu': 3230.0, 'order': 482, 'n': 1}}, '1st': {'[total_for_102_comps]': {'vmem': 0.0, 'malloc': 478380.0, 'cpu': 23900.0, 'order': 102, 'n': 1}}, 'evt': {'[total_for_102_comps]': {'vmem': 154.0, 'malloc': 161737.0, 'cpu': 8474.0, 'order': 102, 'n': 1999}}, 'fin': {'[total_for_485_comps]': {'vmem': 0.0, 'malloc': -475692.0, 'cpu': 670.0, 'order': 485, 'n': 1}}}\n",
      "special: {'leaks': {'leakperevt_evt101plus': {'vmem': 75.0, 'malloc': 12.0, 'n': 1899}, 'leakperevt_evt11to100': {'vmem': 0.0, 'malloc': 66.0, 'n': 91}}, 'values': {'rss_mean': 1748204.0, 'cpu_res': 10.0, 'cpu_bmips': 5187.0, 'pmonsd_cost_perevt': 5.0, 'jobcfg_walltime': 34206.0, 'pycintex_vmemfix': 0.0, 'cpu_model': 'Intel(R)_Xeon(R)_CPU_E5-2670_0_@_2.60GHz/20480_KB', 'malloc': 'libtcmalloc_minimal.so/ok', 'release': '21.0.53/x86_64-slc6-gcc62-opt', 'vmem_mean': 2820716.0, 'jobstart': '2018-10-29T18:48:14+0000', 'pmonsd_cost_onceperjob': 75.0, 'vmem_peak': 2858148.0}, 'snapshots': {'snapshot_post_1stevt': {'wall': 586972.0, 'vmem': 2548928.0, 'malloc': 1231759.0, 'cpu': 60000.0, 'n': 1}, 'snapshot_post_fin': {'wall': 18141281.0, 'vmem': 2858144.0, 'malloc': 670134.0, 'cpu': 17374590.0, 'n': 1}, 'snapshot_post_ini': {'wall': 549779.0, 'vmem': 2522212.0, 'malloc': 1050960.0, 'cpu': 34020.0, 'n': 1}, 'snapshot_pre_ini': {'wall': 0.0, 'vmem': 963880.0, 'malloc': 386853.0, 'cpu': 0.0, 'n': 1}, 'snapshot_post_lastevt': {'wall': 18140515.0, 'vmem': 2858144.0, 'malloc': 1145819.0, 'cpu': 17373910.0, 'n': 1}}, 'timings': {'evtloop_time': {'wall': 8781.0, 'cpu': 8661.0, 'n': 2000}, 'overhead_time': {'wall': 578958.0, 'cpu': 52019.0, 'n': 1}}, 'nevts': 2000}\n"
     ]
    }
   ],
   "source": [
    "for key in info.keys():\n",
    "    if key == 'evt_max_info' or key == 'steps_comps':\n",
    "        continue\n",
    "    print(\"{}: {}\".format(key, info[key]))"
   ]
  },
  {
   "cell_type": "markdown",
   "metadata": {},
   "source": [
    "Total recourses used for 'evt' part:"
   ]
  },
  {
   "cell_type": "code",
   "execution_count": 7,
   "metadata": {},
   "outputs": [
    {
     "name": "stdout",
     "output_type": "stream",
     "text": [
      "CPU: 8.474 s\n",
      "malloc: 161.737 MB\n"
     ]
    }
   ],
   "source": [
    "total_evts_info = info['steps_totals']['evt']['[total_for_102_comps]']\n",
    "print('CPU: {} s'.format(total_evts_info['cpu']/1e3))\n",
    "print('malloc: {} MB'.format(total_evts_info['malloc']/1e3))"
   ]
  },
  {
   "cell_type": "code",
   "execution_count": 8,
   "metadata": {},
   "outputs": [
    {
     "name": "stdout",
     "output_type": "stream",
     "text": [
      "{ '1st': { '[total_for_102_comps]': { 'cpu': 23900.0,\n",
      "                                      'malloc': 478380.0,\n",
      "                                      'n': 1,\n",
      "                                      'order': 102,\n",
      "                                      'vmem': 0.0}},\n",
      "  'cbk': { '[total_for_3_comps]': { 'cpu': 3.0,\n",
      "                                    'malloc': 0.0,\n",
      "                                    'n': 20,\n",
      "                                    'order': 94,\n",
      "                                    'vmem': 0.0},\n",
      "           '[total_for_90_comps]': { 'cpu': 7160.0,\n",
      "                                     'malloc': 35739.0,\n",
      "                                     'n': 1,\n",
      "                                     'order': 93,\n",
      "                                     'vmem': 20.0}},\n",
      "  'dso': { '[total_for_723_comps]': { 'cpu': 8690.0,\n",
      "                                      'malloc': 39954.0,\n",
      "                                      'n': 1,\n",
      "                                      'order': 723,\n",
      "                                      'vmem': 341604.0}},\n",
      "  'evt': { '[total_for_102_comps]': { 'cpu': 8474.0,\n",
      "                                      'malloc': 161737.0,\n",
      "                                      'n': 1999,\n",
      "                                      'order': 102,\n",
      "                                      'vmem': 154.0}},\n",
      "  'fin': { '[total_for_485_comps]': { 'cpu': 670.0,\n",
      "                                      'malloc': -475692.0,\n",
      "                                      'n': 1,\n",
      "                                      'order': 485,\n",
      "                                      'vmem': 0.0}},\n",
      "  'ini': { '[total_for_482_comps]': { 'cpu': 3230.0,\n",
      "                                      'malloc': 190658.0,\n",
      "                                      'n': 1,\n",
      "                                      'order': 482,\n",
      "                                      'vmem': 183472.0}},\n",
      "  'preLoadProxy': { '[total_for_133_comps]': { 'cpu': 0.0,\n",
      "                                               'malloc': 26.0,\n",
      "                                               'n': 2,\n",
      "                                               'order': 564,\n",
      "                                               'vmem': 0.0},\n",
      "                    '[total_for_1_comps]': { 'cpu': 0.0,\n",
      "                                             'malloc': 0.0,\n",
      "                                             'n': 7,\n",
      "                                             'order': 568,\n",
      "                                             'vmem': 0.0},\n",
      "                    '[total_for_1_comps]:n=22': { 'cpu': 0.0,\n",
      "                                                  'malloc': 0.0,\n",
      "                                                  'n': 22,\n",
      "                                                  'order': 572,\n",
      "                                                  'vmem': 0.0},\n",
      "                    '[total_for_1_comps]:n=9': { 'cpu': 0.0,\n",
      "                                                 'malloc': 0.0,\n",
      "                                                 'n': 9,\n",
      "                                                 'order': 569,\n",
      "                                                 'vmem': 0.0},\n",
      "                    '[total_for_25_comps]': { 'cpu': 0.0,\n",
      "                                              'malloc': 5.0,\n",
      "                                              'n': 3,\n",
      "                                              'order': 565,\n",
      "                                              'vmem': 0.0},\n",
      "                    '[total_for_380_comps]': { 'cpu': 15460.0,\n",
      "                                               'malloc': 355008.0,\n",
      "                                               'n': 1,\n",
      "                                               'order': 563,\n",
      "                                               'vmem': 1036688.0},\n",
      "                    '[total_for_4_comps]': { 'cpu': 0.0,\n",
      "                                             'malloc': 1.0,\n",
      "                                             'n': 5,\n",
      "                                             'order': 567,\n",
      "                                             'vmem': 0.0},\n",
      "                    '[total_for_4_comps]:n=21': { 'cpu': 0.0,\n",
      "                                                  'malloc': 0.0,\n",
      "                                                  'n': 21,\n",
      "                                                  'order': 571,\n",
      "                                                  'vmem': 0.0},\n",
      "                    '[total_for_5_comps]': { 'cpu': 0.0,\n",
      "                                             'malloc': 0.0,\n",
      "                                             'n': 4,\n",
      "                                             'order': 566,\n",
      "                                             'vmem': 0.0},\n",
      "                    '[total_for_9_comps]': { 'cpu': 117.0,\n",
      "                                             'malloc': 2260.0,\n",
      "                                             'n': 20,\n",
      "                                             'order': 570,\n",
      "                                             'vmem': 300.0}}}\n"
     ]
    }
   ],
   "source": [
    "pp.pprint(info['steps_totals'])"
   ]
  },
  {
   "cell_type": "code",
   "execution_count": 9,
   "metadata": {},
   "outputs": [
    {
     "name": "stdout",
     "output_type": "stream",
     "text": [
      "{ 'leaks': { 'leakperevt_evt101plus': {'malloc': 12.0, 'n': 1899, 'vmem': 75.0},\n",
      "             'leakperevt_evt11to100': {'malloc': 66.0, 'n': 91, 'vmem': 0.0}},\n",
      "  'nevts': 2000,\n",
      "  'snapshots': { 'snapshot_post_1stevt': { 'cpu': 60000.0,\n",
      "                                           'malloc': 1231759.0,\n",
      "                                           'n': 1,\n",
      "                                           'vmem': 2548928.0,\n",
      "                                           'wall': 586972.0},\n",
      "                 'snapshot_post_fin': { 'cpu': 17374590.0,\n",
      "                                        'malloc': 670134.0,\n",
      "                                        'n': 1,\n",
      "                                        'vmem': 2858144.0,\n",
      "                                        'wall': 18141281.0},\n",
      "                 'snapshot_post_ini': { 'cpu': 34020.0,\n",
      "                                        'malloc': 1050960.0,\n",
      "                                        'n': 1,\n",
      "                                        'vmem': 2522212.0,\n",
      "                                        'wall': 549779.0},\n",
      "                 'snapshot_post_lastevt': { 'cpu': 17373910.0,\n",
      "                                            'malloc': 1145819.0,\n",
      "                                            'n': 1,\n",
      "                                            'vmem': 2858144.0,\n",
      "                                            'wall': 18140515.0},\n",
      "                 'snapshot_pre_ini': { 'cpu': 0.0,\n",
      "                                       'malloc': 386853.0,\n",
      "                                       'n': 1,\n",
      "                                       'vmem': 963880.0,\n",
      "                                       'wall': 0.0}},\n",
      "  'timings': { 'evtloop_time': {'cpu': 8661.0, 'n': 2000, 'wall': 8781.0},\n",
      "               'overhead_time': {'cpu': 52019.0, 'n': 1, 'wall': 578958.0}},\n",
      "  'values': { 'cpu_bmips': 5187.0,\n",
      "              'cpu_model': 'Intel(R)_Xeon(R)_CPU_E5-2670_0_@_2.60GHz/20480_KB',\n",
      "              'cpu_res': 10.0,\n",
      "              'jobcfg_walltime': 34206.0,\n",
      "              'jobstart': '2018-10-29T18:48:14+0000',\n",
      "              'malloc': 'libtcmalloc_minimal.so/ok',\n",
      "              'pmonsd_cost_onceperjob': 75.0,\n",
      "              'pmonsd_cost_perevt': 5.0,\n",
      "              'pycintex_vmemfix': 0.0,\n",
      "              'release': '21.0.53/x86_64-slc6-gcc62-opt',\n",
      "              'rss_mean': 1748204.0,\n",
      "              'vmem_mean': 2820716.0,\n",
      "              'vmem_peak': 2858148.0}}\n"
     ]
    }
   ],
   "source": [
    "pp.pprint(info['special'])"
   ]
  },
  {
   "cell_type": "code",
   "execution_count": 10,
   "metadata": {},
   "outputs": [
    {
     "data": {
      "text/plain": [
       "dict_keys(['preLoadProxy', 'cbk', 'dso', 'ini', '1st', 'evt', 'fin'])"
      ]
     },
     "execution_count": 10,
     "metadata": {},
     "output_type": "execute_result"
    }
   ],
   "source": [
    "info['steps_comps'].keys()"
   ]
  },
  {
   "cell_type": "code",
   "execution_count": 11,
   "metadata": {},
   "outputs": [
    {
     "data": {
      "text/plain": [
       "dict_keys(['GlobalEventTagBuilder', 'TRTStandaloneTracksDetailedTruthMaker', 'TRTSeededTracksTruthCollectionSelector', 'ResolvedTracksTruthCollectionSelector', 'DetailedTrackTruthMaker', 'InDetTRT_StandaloneTrackFinder', 'CreateLumiBlockCollectionFromFile', 'InDetPRD_MultiTruthMakerSi', 'AthOutSeq', 'SiSPSeededPixelTracksTruthCollectionSelector', 'InDetRecStatistics', 'InDetForwardTrackParticles', 'InDetCopyAlg', 'SiSPSeededTracksDetailedTruthMaker', 'InDetAmbiguitySolverPixelPrdAssociation', 'InDetLowBetaTrkAlgorithm', 'InDetSiSpTrackFinder', 'xAODMaker::EventInfoCnvAlg', 'JobInfo', 'AllExecutedEvents', 'InDetPixelPrdAssociationTrackParticles', 'CondInputLoader', 'CaloCluster2xAOD', 'CaloClusterCellLinksUpdater', 'TRTSeededTracksDetailedTruthMaker', 'CaloCellMaker', 'ResolvedTracksDetailedTruthMaker', 'InDetSegmentPRD_Association', 'EmTowerBldr', 'InDetCosmicsEventPhase', 'InDetTrackCollectionMerger_pix', 'ResolvedTRTSeededTracksTruthCollectionSelector', 'InDetTrackCollectionMerger', 'InDetBCM_ZeroSuppression', 'InDetTRT_RIO_Maker', 'TRTStandaloneTracksTruthCollectionSelector', 'ThinNegativeEnergyCaloClustersAlg', 'StreamESD', 'InDetSegmentDriftCircleAssValidation', 'ResolvedPixelPrdAssociationTracksTruthCollectionSelector', 'TrackTruthCollectionSelector', 'ExtendedTracksTruthCollectionSelector', 'SiSPSeededPixelTracksDetailedTruthMaker', 'InDetPixelClusterization', 'SiSPSeededTracksTruthCollectionSelector', 'InDetTRT_PRD_MultiTruthMaker', 'CaloCellMakerFromCluster', 'ResolvedPixelPrdAssociationTracksDetailedTruthMaker', 'MBTSTimeDiffEventInfoAlg', 'ExtendedTracksPixelPrdAssociationDetailedTruthMaker', 'InDetTrackClusterAssValidation', 'InDetTrackParticles', 'ExtendedTracksDetailedTruthMaker', 'InDetTRT_SeededAmbiguitySolver', 'xAODRingSetConfWriter', 'LArAffectedRegionAlg', 'InDetAmbiguitySolverForwardTracks', 'InDetExtensionProcessorPixelPrdAssociation', 'InDetPRD_AssociationForwardTracks', 'ResolvedForwardTracksTruthCollectionSelector', 'InDetPRD_AssociationPixelPrdAssociation', 'InDetTRT_ExtensionPixelPrdAssociation', 'CombinedInDetTracksTruthCollectionSelector', 'StreamAOD', 'InDetTRT_Extension', 'InDetTRTonly_PRD_Association', 'CaloTopoCluster', 'GEN_AOD2xAOD', 'ResolvedForwardTracksDetailedTruthMaker', 'InDetPriVxFinder', 'AthAlgSeq', 'InDetAmbiguitySolver', 'LArClusterMaker', 'InDetVxLinkSetter', 'InDetSiTrackerSpacePointFinder', 'SiSpSeededForwardTracksDetailedTruthMaker', 'MakeInputDataHeaderESD', 'LArCollisionTimeAlg', 'InDetExtensionProcessor', 'PixelPrdAssociationTracksTruthCollectionSelector', 'CombinedInDetTracksDetailedTruthMaker', 'ThinNegativeEnergyNeutralPFOsAlg', 'ThinGeantTruthAlg', 'InDetSiSpTrackFinderPixelPrdAssociation', 'InDetCaloClusterROISelector', 'InDetTRT_SeededTrackFinder', 'EventCounter', 'SiSpSeededForwardTracksTruthCollectionSelector', 'AthMasterSeq', 'InDetSCT_Clusterization', 'InDetTRT_TrackSegmentsFinder', 'PixelPrdAssociationTracksDetailedTruthMaker', 'LAr7_11NocorrClusterMaker', 'LArNoisyROAlg', 'AthRegSeq', 'InDetTrackSlimmer', 'ResolvedTRTSeededTracksDetailedTruthMaker', 'McAodBuilder', 'ExtendedTracksPixelPrdAssociationTruthCollectionSelector', 'RawInfoSummaryForTagWriter', 'InDetSiSpTrackFinderForwardTracks', 'TileLookForMuAlg'])"
      ]
     },
     "execution_count": 11,
     "metadata": {},
     "output_type": "execute_result"
    }
   ],
   "source": [
    "info['evt_max_info'].keys()"
   ]
  },
  {
   "cell_type": "code",
   "execution_count": 12,
   "metadata": {},
   "outputs": [
    {
     "data": {
      "text/plain": [
       "{'cpu': (21840.0, 526), 'malloc': (120689.0, 526), 'vmem': (0.0, 0)}"
      ]
     },
     "execution_count": 12,
     "metadata": {},
     "output_type": "execute_result"
    }
   ],
   "source": [
    "info['evt_max_info']['InDetSiSpTrackFinder']"
   ]
  },
  {
   "cell_type": "code",
   "execution_count": 13,
   "metadata": {},
   "outputs": [],
   "source": [
    "max_info = \"\"\n",
    "for key,value in info['evt_max_info'].items():\n",
    "    max_info += '{}: {cpu}, {malloc}, {vmem}\\n'.format(key, **value)"
   ]
  },
  {
   "cell_type": "code",
   "execution_count": 14,
   "metadata": {},
   "outputs": [],
   "source": [
    "def get_evt_summary(info):\n",
    "    evt_info = info['steps_comps']['evt']\n",
    "    df = pd.DataFrame(evt_info).transpose()\n",
    "    total_cpu = np.sum(df['cpu'])\n",
    "    total_malloc = np.sum(df['malloc'])\n",
    "    df['cpu_ratio'] = df['cpu']/total_cpu*100\n",
    "    df['malloc_ratio'] = df['malloc']/total_malloc*100\n",
    "    return df"
   ]
  },
  {
   "cell_type": "code",
   "execution_count": 15,
   "metadata": {},
   "outputs": [],
   "source": [
    "df_evt = get_evt_summary(info)"
   ]
  },
  {
   "cell_type": "markdown",
   "metadata": {},
   "source": [
    "### Top 15 algorithms in using CPU sources"
   ]
  },
  {
   "cell_type": "code",
   "execution_count": 16,
   "metadata": {},
   "outputs": [
    {
     "data": {
      "text/html": [
       "<div>\n",
       "<style scoped>\n",
       "    .dataframe tbody tr th:only-of-type {\n",
       "        vertical-align: middle;\n",
       "    }\n",
       "\n",
       "    .dataframe tbody tr th {\n",
       "        vertical-align: top;\n",
       "    }\n",
       "\n",
       "    .dataframe thead th {\n",
       "        text-align: right;\n",
       "    }\n",
       "</style>\n",
       "<table border=\"1\" class=\"dataframe\">\n",
       "  <thead>\n",
       "    <tr style=\"text-align: right;\">\n",
       "      <th></th>\n",
       "      <th>cpu</th>\n",
       "      <th>malloc</th>\n",
       "      <th>n</th>\n",
       "      <th>order</th>\n",
       "      <th>vmem</th>\n",
       "      <th>cpu_ratio</th>\n",
       "      <th>malloc_ratio</th>\n",
       "    </tr>\n",
       "  </thead>\n",
       "  <tbody>\n",
       "    <tr>\n",
       "      <th>InDetSiSpTrackFinder</th>\n",
       "      <td>2715.0</td>\n",
       "      <td>15953.0</td>\n",
       "      <td>1999.0</td>\n",
       "      <td>0.0</td>\n",
       "      <td>0.0</td>\n",
       "      <td>32.065667</td>\n",
       "      <td>9.863117</td>\n",
       "    </tr>\n",
       "    <tr>\n",
       "      <th>InDetAmbiguitySolver</th>\n",
       "      <td>1705.0</td>\n",
       "      <td>13247.0</td>\n",
       "      <td>1999.0</td>\n",
       "      <td>1.0</td>\n",
       "      <td>0.0</td>\n",
       "      <td>20.137002</td>\n",
       "      <td>8.190103</td>\n",
       "    </tr>\n",
       "    <tr>\n",
       "      <th>InDetExtensionProcessor</th>\n",
       "      <td>1177.0</td>\n",
       "      <td>20596.0</td>\n",
       "      <td>1999.0</td>\n",
       "      <td>2.0</td>\n",
       "      <td>0.0</td>\n",
       "      <td>13.901028</td>\n",
       "      <td>12.733703</td>\n",
       "    </tr>\n",
       "    <tr>\n",
       "      <th>StreamESD</th>\n",
       "      <td>544.0</td>\n",
       "      <td>1357.0</td>\n",
       "      <td>1999.0</td>\n",
       "      <td>3.0</td>\n",
       "      <td>154.0</td>\n",
       "      <td>6.424944</td>\n",
       "      <td>0.838980</td>\n",
       "    </tr>\n",
       "    <tr>\n",
       "      <th>InDetTRT_SeededTrackFinder</th>\n",
       "      <td>317.0</td>\n",
       "      <td>244.0</td>\n",
       "      <td>1999.0</td>\n",
       "      <td>4.0</td>\n",
       "      <td>0.0</td>\n",
       "      <td>3.743947</td>\n",
       "      <td>0.150856</td>\n",
       "    </tr>\n",
       "    <tr>\n",
       "      <th>InDetTRT_RIO_Maker</th>\n",
       "      <td>202.0</td>\n",
       "      <td>44502.0</td>\n",
       "      <td>1999.0</td>\n",
       "      <td>5.0</td>\n",
       "      <td>0.0</td>\n",
       "      <td>2.385733</td>\n",
       "      <td>27.513849</td>\n",
       "    </tr>\n",
       "    <tr>\n",
       "      <th>InDetTRT_Extension</th>\n",
       "      <td>202.0</td>\n",
       "      <td>3331.0</td>\n",
       "      <td>1999.0</td>\n",
       "      <td>6.0</td>\n",
       "      <td>0.0</td>\n",
       "      <td>2.385733</td>\n",
       "      <td>2.059427</td>\n",
       "    </tr>\n",
       "    <tr>\n",
       "      <th>InDetSiSpTrackFinderPixelPrdAssociation</th>\n",
       "      <td>145.0</td>\n",
       "      <td>8.0</td>\n",
       "      <td>1999.0</td>\n",
       "      <td>7.0</td>\n",
       "      <td>0.0</td>\n",
       "      <td>1.712531</td>\n",
       "      <td>0.004946</td>\n",
       "    </tr>\n",
       "    <tr>\n",
       "      <th>CaloCellMaker</th>\n",
       "      <td>112.0</td>\n",
       "      <td>10628.0</td>\n",
       "      <td>1999.0</td>\n",
       "      <td>8.0</td>\n",
       "      <td>0.0</td>\n",
       "      <td>1.322783</td>\n",
       "      <td>6.570877</td>\n",
       "    </tr>\n",
       "    <tr>\n",
       "      <th>InDetTrackCollectionMerger</th>\n",
       "      <td>110.0</td>\n",
       "      <td>1342.0</td>\n",
       "      <td>1999.0</td>\n",
       "      <td>9.0</td>\n",
       "      <td>0.0</td>\n",
       "      <td>1.299161</td>\n",
       "      <td>0.829706</td>\n",
       "    </tr>\n",
       "    <tr>\n",
       "      <th>InDetSiSpTrackFinderForwardTracks</th>\n",
       "      <td>109.0</td>\n",
       "      <td>535.0</td>\n",
       "      <td>1999.0</td>\n",
       "      <td>10.0</td>\n",
       "      <td>0.0</td>\n",
       "      <td>1.287351</td>\n",
       "      <td>0.330770</td>\n",
       "    </tr>\n",
       "    <tr>\n",
       "      <th>InDetAmbiguitySolverForwardTracks</th>\n",
       "      <td>93.0</td>\n",
       "      <td>-945.0</td>\n",
       "      <td>1999.0</td>\n",
       "      <td>11.0</td>\n",
       "      <td>0.0</td>\n",
       "      <td>1.098382</td>\n",
       "      <td>-0.584257</td>\n",
       "    </tr>\n",
       "    <tr>\n",
       "      <th>CaloTopoCluster</th>\n",
       "      <td>90.0</td>\n",
       "      <td>1933.0</td>\n",
       "      <td>1999.0</td>\n",
       "      <td>12.0</td>\n",
       "      <td>0.0</td>\n",
       "      <td>1.062950</td>\n",
       "      <td>1.195098</td>\n",
       "    </tr>\n",
       "    <tr>\n",
       "      <th>InDetSCT_Clusterization</th>\n",
       "      <td>86.0</td>\n",
       "      <td>20209.0</td>\n",
       "      <td>1999.0</td>\n",
       "      <td>13.0</td>\n",
       "      <td>0.0</td>\n",
       "      <td>1.015708</td>\n",
       "      <td>12.494436</td>\n",
       "    </tr>\n",
       "    <tr>\n",
       "      <th>InDetPixelClusterization</th>\n",
       "      <td>72.0</td>\n",
       "      <td>7071.0</td>\n",
       "      <td>1999.0</td>\n",
       "      <td>14.0</td>\n",
       "      <td>0.0</td>\n",
       "      <td>0.850360</td>\n",
       "      <td>4.371723</td>\n",
       "    </tr>\n",
       "  </tbody>\n",
       "</table>\n",
       "</div>"
      ],
      "text/plain": [
       "                                            cpu   malloc       n  order  \\\n",
       "InDetSiSpTrackFinder                     2715.0  15953.0  1999.0    0.0   \n",
       "InDetAmbiguitySolver                     1705.0  13247.0  1999.0    1.0   \n",
       "InDetExtensionProcessor                  1177.0  20596.0  1999.0    2.0   \n",
       "StreamESD                                 544.0   1357.0  1999.0    3.0   \n",
       "InDetTRT_SeededTrackFinder                317.0    244.0  1999.0    4.0   \n",
       "InDetTRT_RIO_Maker                        202.0  44502.0  1999.0    5.0   \n",
       "InDetTRT_Extension                        202.0   3331.0  1999.0    6.0   \n",
       "InDetSiSpTrackFinderPixelPrdAssociation   145.0      8.0  1999.0    7.0   \n",
       "CaloCellMaker                             112.0  10628.0  1999.0    8.0   \n",
       "InDetTrackCollectionMerger                110.0   1342.0  1999.0    9.0   \n",
       "InDetSiSpTrackFinderForwardTracks         109.0    535.0  1999.0   10.0   \n",
       "InDetAmbiguitySolverForwardTracks          93.0   -945.0  1999.0   11.0   \n",
       "CaloTopoCluster                            90.0   1933.0  1999.0   12.0   \n",
       "InDetSCT_Clusterization                    86.0  20209.0  1999.0   13.0   \n",
       "InDetPixelClusterization                   72.0   7071.0  1999.0   14.0   \n",
       "\n",
       "                                          vmem  cpu_ratio  malloc_ratio  \n",
       "InDetSiSpTrackFinder                       0.0  32.065667      9.863117  \n",
       "InDetAmbiguitySolver                       0.0  20.137002      8.190103  \n",
       "InDetExtensionProcessor                    0.0  13.901028     12.733703  \n",
       "StreamESD                                154.0   6.424944      0.838980  \n",
       "InDetTRT_SeededTrackFinder                 0.0   3.743947      0.150856  \n",
       "InDetTRT_RIO_Maker                         0.0   2.385733     27.513849  \n",
       "InDetTRT_Extension                         0.0   2.385733      2.059427  \n",
       "InDetSiSpTrackFinderPixelPrdAssociation    0.0   1.712531      0.004946  \n",
       "CaloCellMaker                              0.0   1.322783      6.570877  \n",
       "InDetTrackCollectionMerger                 0.0   1.299161      0.829706  \n",
       "InDetSiSpTrackFinderForwardTracks          0.0   1.287351      0.330770  \n",
       "InDetAmbiguitySolverForwardTracks          0.0   1.098382     -0.584257  \n",
       "CaloTopoCluster                            0.0   1.062950      1.195098  \n",
       "InDetSCT_Clusterization                    0.0   1.015708     12.494436  \n",
       "InDetPixelClusterization                   0.0   0.850360      4.371723  "
      ]
     },
     "execution_count": 16,
     "metadata": {},
     "output_type": "execute_result"
    }
   ],
   "source": [
    "df_evt.sort_values(by=['cpu'], ascending=False).head(15)"
   ]
  },
  {
   "cell_type": "code",
   "execution_count": 17,
   "metadata": {},
   "outputs": [
    {
     "data": {
      "text/html": [
       "<div>\n",
       "<style scoped>\n",
       "    .dataframe tbody tr th:only-of-type {\n",
       "        vertical-align: middle;\n",
       "    }\n",
       "\n",
       "    .dataframe tbody tr th {\n",
       "        vertical-align: top;\n",
       "    }\n",
       "\n",
       "    .dataframe thead th {\n",
       "        text-align: right;\n",
       "    }\n",
       "</style>\n",
       "<table border=\"1\" class=\"dataframe\">\n",
       "  <thead>\n",
       "    <tr style=\"text-align: right;\">\n",
       "      <th></th>\n",
       "      <th>cpu</th>\n",
       "      <th>malloc</th>\n",
       "      <th>n</th>\n",
       "      <th>order</th>\n",
       "      <th>vmem</th>\n",
       "      <th>cpu_ratio</th>\n",
       "      <th>malloc_ratio</th>\n",
       "    </tr>\n",
       "  </thead>\n",
       "  <tbody>\n",
       "    <tr>\n",
       "      <th>InDetTRT_RIO_Maker</th>\n",
       "      <td>200.0</td>\n",
       "      <td>44531.0</td>\n",
       "      <td>499.0</td>\n",
       "      <td>5.0</td>\n",
       "      <td>0.0</td>\n",
       "      <td>2.416626</td>\n",
       "      <td>27.661583</td>\n",
       "    </tr>\n",
       "    <tr>\n",
       "      <th>InDetExtensionProcessor</th>\n",
       "      <td>1155.0</td>\n",
       "      <td>20337.0</td>\n",
       "      <td>499.0</td>\n",
       "      <td>2.0</td>\n",
       "      <td>0.0</td>\n",
       "      <td>13.956017</td>\n",
       "      <td>12.632854</td>\n",
       "    </tr>\n",
       "    <tr>\n",
       "      <th>InDetSCT_Clusterization</th>\n",
       "      <td>84.0</td>\n",
       "      <td>20171.0</td>\n",
       "      <td>499.0</td>\n",
       "      <td>13.0</td>\n",
       "      <td>0.0</td>\n",
       "      <td>1.014983</td>\n",
       "      <td>12.529739</td>\n",
       "    </tr>\n",
       "    <tr>\n",
       "      <th>InDetSiSpTrackFinder</th>\n",
       "      <td>2667.0</td>\n",
       "      <td>15703.0</td>\n",
       "      <td>499.0</td>\n",
       "      <td>0.0</td>\n",
       "      <td>0.0</td>\n",
       "      <td>32.225713</td>\n",
       "      <td>9.754325</td>\n",
       "    </tr>\n",
       "    <tr>\n",
       "      <th>InDetAmbiguitySolver</th>\n",
       "      <td>1660.0</td>\n",
       "      <td>13069.0</td>\n",
       "      <td>499.0</td>\n",
       "      <td>1.0</td>\n",
       "      <td>0.0</td>\n",
       "      <td>20.057999</td>\n",
       "      <td>8.118148</td>\n",
       "    </tr>\n",
       "    <tr>\n",
       "      <th>InDetSiTrackerSpacePointFinder</th>\n",
       "      <td>60.0</td>\n",
       "      <td>11471.0</td>\n",
       "      <td>499.0</td>\n",
       "      <td>18.0</td>\n",
       "      <td>0.0</td>\n",
       "      <td>0.724988</td>\n",
       "      <td>7.125509</td>\n",
       "    </tr>\n",
       "    <tr>\n",
       "      <th>CaloCellMaker</th>\n",
       "      <td>108.0</td>\n",
       "      <td>10628.0</td>\n",
       "      <td>499.0</td>\n",
       "      <td>8.0</td>\n",
       "      <td>0.0</td>\n",
       "      <td>1.304978</td>\n",
       "      <td>6.601857</td>\n",
       "    </tr>\n",
       "    <tr>\n",
       "      <th>InDetPixelClusterization</th>\n",
       "      <td>70.0</td>\n",
       "      <td>7040.0</td>\n",
       "      <td>499.0</td>\n",
       "      <td>14.0</td>\n",
       "      <td>0.0</td>\n",
       "      <td>0.845819</td>\n",
       "      <td>4.373078</td>\n",
       "    </tr>\n",
       "    <tr>\n",
       "      <th>InDetTRT_Extension</th>\n",
       "      <td>194.0</td>\n",
       "      <td>3300.0</td>\n",
       "      <td>499.0</td>\n",
       "      <td>6.0</td>\n",
       "      <td>0.0</td>\n",
       "      <td>2.344128</td>\n",
       "      <td>2.049880</td>\n",
       "    </tr>\n",
       "    <tr>\n",
       "      <th>CaloTopoCluster</th>\n",
       "      <td>88.0</td>\n",
       "      <td>1924.0</td>\n",
       "      <td>499.0</td>\n",
       "      <td>12.0</td>\n",
       "      <td>0.0</td>\n",
       "      <td>1.063316</td>\n",
       "      <td>1.195142</td>\n",
       "    </tr>\n",
       "    <tr>\n",
       "      <th>StreamESD</th>\n",
       "      <td>536.0</td>\n",
       "      <td>1403.0</td>\n",
       "      <td>499.0</td>\n",
       "      <td>3.0</td>\n",
       "      <td>356.0</td>\n",
       "      <td>6.476559</td>\n",
       "      <td>0.871510</td>\n",
       "    </tr>\n",
       "    <tr>\n",
       "      <th>InDetPRD_MultiTruthMakerSi</th>\n",
       "      <td>16.0</td>\n",
       "      <td>1356.0</td>\n",
       "      <td>499.0</td>\n",
       "      <td>26.0</td>\n",
       "      <td>0.0</td>\n",
       "      <td>0.193330</td>\n",
       "      <td>0.842315</td>\n",
       "    </tr>\n",
       "    <tr>\n",
       "      <th>McAodBuilder</th>\n",
       "      <td>8.0</td>\n",
       "      <td>1334.0</td>\n",
       "      <td>499.0</td>\n",
       "      <td>41.0</td>\n",
       "      <td>0.0</td>\n",
       "      <td>0.096665</td>\n",
       "      <td>0.828649</td>\n",
       "    </tr>\n",
       "    <tr>\n",
       "      <th>InDetTrackCollectionMerger</th>\n",
       "      <td>107.0</td>\n",
       "      <td>1324.0</td>\n",
       "      <td>499.0</td>\n",
       "      <td>10.0</td>\n",
       "      <td>0.0</td>\n",
       "      <td>1.292895</td>\n",
       "      <td>0.822437</td>\n",
       "    </tr>\n",
       "    <tr>\n",
       "      <th>InDetPRD_AssociationPixelPrdAssociation</th>\n",
       "      <td>11.0</td>\n",
       "      <td>1318.0</td>\n",
       "      <td>499.0</td>\n",
       "      <td>36.0</td>\n",
       "      <td>0.0</td>\n",
       "      <td>0.132914</td>\n",
       "      <td>0.818710</td>\n",
       "    </tr>\n",
       "  </tbody>\n",
       "</table>\n",
       "</div>"
      ],
      "text/plain": [
       "                                            cpu   malloc      n  order   vmem  \\\n",
       "InDetTRT_RIO_Maker                        200.0  44531.0  499.0    5.0    0.0   \n",
       "InDetExtensionProcessor                  1155.0  20337.0  499.0    2.0    0.0   \n",
       "InDetSCT_Clusterization                    84.0  20171.0  499.0   13.0    0.0   \n",
       "InDetSiSpTrackFinder                     2667.0  15703.0  499.0    0.0    0.0   \n",
       "InDetAmbiguitySolver                     1660.0  13069.0  499.0    1.0    0.0   \n",
       "InDetSiTrackerSpacePointFinder             60.0  11471.0  499.0   18.0    0.0   \n",
       "CaloCellMaker                             108.0  10628.0  499.0    8.0    0.0   \n",
       "InDetPixelClusterization                   70.0   7040.0  499.0   14.0    0.0   \n",
       "InDetTRT_Extension                        194.0   3300.0  499.0    6.0    0.0   \n",
       "CaloTopoCluster                            88.0   1924.0  499.0   12.0    0.0   \n",
       "StreamESD                                 536.0   1403.0  499.0    3.0  356.0   \n",
       "InDetPRD_MultiTruthMakerSi                 16.0   1356.0  499.0   26.0    0.0   \n",
       "McAodBuilder                                8.0   1334.0  499.0   41.0    0.0   \n",
       "InDetTrackCollectionMerger                107.0   1324.0  499.0   10.0    0.0   \n",
       "InDetPRD_AssociationPixelPrdAssociation    11.0   1318.0  499.0   36.0    0.0   \n",
       "\n",
       "                                         cpu_ratio  malloc_ratio  \n",
       "InDetTRT_RIO_Maker                        2.416626     27.661583  \n",
       "InDetExtensionProcessor                  13.956017     12.632854  \n",
       "InDetSCT_Clusterization                   1.014983     12.529739  \n",
       "InDetSiSpTrackFinder                     32.225713      9.754325  \n",
       "InDetAmbiguitySolver                     20.057999      8.118148  \n",
       "InDetSiTrackerSpacePointFinder            0.724988      7.125509  \n",
       "CaloCellMaker                             1.304978      6.601857  \n",
       "InDetPixelClusterization                  0.845819      4.373078  \n",
       "InDetTRT_Extension                        2.344128      2.049880  \n",
       "CaloTopoCluster                           1.063316      1.195142  \n",
       "StreamESD                                 6.476559      0.871510  \n",
       "InDetPRD_MultiTruthMakerSi                0.193330      0.842315  \n",
       "McAodBuilder                              0.096665      0.828649  \n",
       "InDetTrackCollectionMerger                1.292895      0.822437  \n",
       "InDetPRD_AssociationPixelPrdAssociation   0.132914      0.818710  "
      ]
     },
     "execution_count": 17,
     "metadata": {},
     "output_type": "execute_result"
    }
   ],
   "source": [
    "df_evt.sort_values(by=['malloc'], ascending=False).head(15)"
   ]
  },
  {
   "cell_type": "code",
   "execution_count": 18,
   "metadata": {},
   "outputs": [
    {
     "data": {
      "image/png": "[encoded data removed]",
      "text/plain": [
       "<matplotlib.figure.Figure at 0x1145b3d68>"
      ]
     },
     "metadata": {},
     "output_type": "display_data"
    }
   ],
   "source": [
    "series = df_evt[df_evt['cpu'] > 100].sort_values(by=['cpu'], ascending=False)['cpu']\n",
    "plt.semilogy(series.values, '*-')\n",
    "plt.xticks(np.linspace(0, len(series), len(series)), list(series.index), rotation='vertical');"
   ]
  },
  {
   "cell_type": "code",
   "execution_count": 23,
   "metadata": {},
   "outputs": [
    {
     "data": {
      "text/plain": [
       "{'cpu': (6860.0, 1), 'malloc': (39888.0, 1), 'vmem': (0.0, 0)}"
      ]
     },
     "execution_count": 23,
     "metadata": {},
     "output_type": "execute_result"
    }
   ],
   "source": [
    "info['evt_max_info']['InDetSiSpTrackFinder']"
   ]
  },
  {
   "cell_type": "code",
   "execution_count": 19,
   "metadata": {},
   "outputs": [
    {
     "ename": "SyntaxError",
     "evalue": "invalid syntax (<ipython-input-19-4b15b33d4206>, line 1)",
     "output_type": "error",
     "traceback": [
      "\u001b[0;36m  File \u001b[0;32m\"<ipython-input-19-4b15b33d4206>\"\u001b[0;36m, line \u001b[0;32m1\u001b[0m\n\u001b[0;31m    def Info:\u001b[0m\n\u001b[0m            ^\u001b[0m\n\u001b[0;31mSyntaxError\u001b[0m\u001b[0;31m:\u001b[0m invalid syntax\n"
     ]
    }
   ],
   "source": []
  },
  {
   "cell_type": "code",
   "execution_count": null,
   "metadata": {},
   "outputs": [],
   "source": []
  }
 ],
 "metadata": {
  "kernelspec": {
   "display_name": "Python 3",
   "language": "python",
   "name": "python3"
  },
  "language_info": {
   "codemirror_mode": {
    "name": "ipython",
    "version": 3
   },
   "file_extension": ".py",
   "mimetype": "text/x-python",
   "name": "python",
   "nbconvert_exporter": "python",
   "pygments_lexer": "ipython3",
   "version": "3.6.2"
  }
 },
 "nbformat": 4,
 "nbformat_minor": 2
}
