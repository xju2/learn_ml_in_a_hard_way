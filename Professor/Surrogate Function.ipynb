{
 "cells": [
  {
   "cell_type": "code",
   "execution_count": 3,
   "metadata": {},
   "outputs": [],
   "source": [
    "import numpy as np\n",
    "from scipy import stats\n",
    "import matplotlib.pyplot as plt\n",
    "%matplotlib inline\n",
    "import math\n",
    "from scipy.optimize import minimize\n",
    "from scipy.optimize import leastsq"
   ]
  },
  {
   "cell_type": "code",
   "execution_count": 4,
   "metadata": {},
   "outputs": [],
   "source": [
    "from poly_func import getMatrixP"
   ]
  },
  {
   "cell_type": "markdown",
   "metadata": {},
   "source": [
    "Implement the modified miniziation function to obtain coefficients of polynomial equations"
   ]
  },
  {
   "cell_type": "code",
   "execution_count": 36,
   "metadata": {},
   "outputs": [],
   "source": [
    "params = ['x1', 'x2']\n",
    "order = 2\n",
    "nscans = 12\n",
    "k1 = 0.1\n",
    "k2 = 5\n",
    "k11 = 0.01\n",
    "k22 = 0.05\n",
    "k12 = 0\n",
    "norm_val = 10\n",
    "xmin = 1\n",
    "xmax = 2"
   ]
  },
  {
   "cell_type": "code",
   "execution_count": 6,
   "metadata": {},
   "outputs": [],
   "source": [
    "def generate_linear_data(nscans, p_err=0.01):\n",
    "    dx1 = np.random.uniform(xmin, xmax, nscans)\n",
    "    dx2 = np.random.uniform(xmin, xmax, nscans)\n",
    "    norm = np.array([norm_val]* nscans)\n",
    "    \n",
    "    data = norm + k1*dx1 + k2*dx2\n",
    "    error = data * np.random.normal(loc=0, scale=p_err, size=nscans)\n",
    "    input_matrix = np.array([dx1, dx2])\n",
    "    \n",
    "#     return (input_matrix, data, error)\n",
    "    return (input_matrix, data+error, error)"
   ]
  },
  {
   "cell_type": "code",
   "execution_count": 7,
   "metadata": {},
   "outputs": [],
   "source": [
    "def generate_quad_data(nscans, p_err=0.01):\n",
    "    dx1 = np.random.uniform(xmin, xmax, nscans)\n",
    "    dx2 = np.random.uniform(xmin, xmax, nscans)\n",
    "    norm = np.array([norm_val]* nscans)\n",
    "    \n",
    "    data = norm + k1*dx1 + k2*dx2 + k11*dx1*dx1 + k22*dx2*dx2 + k12*dx1*dx2\n",
    "    error = data * np.random.normal(loc=0, scale=p_err, size=nscans)\n",
    "    input_matrix = np.array([dx1, dx2])\n",
    "    \n",
    "    return (input_matrix, data+error, error)"
   ]
  },
  {
   "cell_type": "code",
   "execution_count": 8,
   "metadata": {},
   "outputs": [],
   "source": [
    "generate_data = generate_quad_data"
   ]
  },
  {
   "cell_type": "code",
   "execution_count": 9,
   "metadata": {},
   "outputs": [],
   "source": [
    "def get_N_coeffienct(n_x, order):\n",
    "    N = 1\n",
    "    for io in range(1, order+1):\n",
    "        multi = 1\n",
    "        for j in range(io):\n",
    "            multi *= n_x + j\n",
    "        multi /= math.factorial(io)\n",
    "        N+= multi\n",
    "    return N"
   ]
  },
  {
   "cell_type": "code",
   "execution_count": 10,
   "metadata": {},
   "outputs": [
    {
     "data": {
      "text/plain": [
       "364.0"
      ]
     },
     "execution_count": 10,
     "metadata": {},
     "output_type": "execute_result"
    }
   ],
   "source": [
    "get_N_coeffienct(11, 3)"
   ]
  },
  {
   "cell_type": "code",
   "execution_count": 11,
   "metadata": {},
   "outputs": [],
   "source": [
    "def get_N_entry(n_x, order):\n",
    "    multi = 1\n",
    "    for j in range(order):\n",
    "        multi *= n_x + j\n",
    "    multi /= math.factorial(order)\n",
    "\n",
    "    return multi"
   ]
  },
  {
   "cell_type": "code",
   "execution_count": 12,
   "metadata": {},
   "outputs": [],
   "source": [
    "def get_objective_func(P, data, error):\n",
    "    \"\"\"The objective function to be minized\"\"\"\n",
    "    nscans = P.shape[0]\n",
    "    def objective(X):\n",
    "        return sum( (np.matmul(P, X) - data)**2/error**2 )/nscans\n",
    "    \n",
    "    return objective"
   ]
  },
  {
   "cell_type": "code",
   "execution_count": 13,
   "metadata": {},
   "outputs": [],
   "source": [
    "def get_objective_func_noError(P, data, error):\n",
    "    \"\"\"The objective function to be minized\"\"\"\n",
    "    nscans = P.shape[0]\n",
    "    def objective(X):\n",
    "        return sum( (np.matmul(P, X) - data)**2 )/nscans\n",
    "    \n",
    "    return objective"
   ]
  },
  {
   "cell_type": "code",
   "execution_count": 47,
   "metadata": {},
   "outputs": [],
   "source": [
    "nscans = 20\n",
    "in_matrix, data, error = generate_data(nscans, 0.05)\n",
    "test_matrix, test_data, test_error = generate_data(nscans, 0.05)"
   ]
  },
  {
   "cell_type": "code",
   "execution_count": 48,
   "metadata": {},
   "outputs": [],
   "source": [
    "P = getMatrixP(in_matrix, order)"
   ]
  },
  {
   "cell_type": "code",
   "execution_count": 49,
   "metadata": {},
   "outputs": [
    {
     "data": {
      "text/plain": [
       "(20, 6)"
      ]
     },
     "execution_count": 49,
     "metadata": {},
     "output_type": "execute_result"
    }
   ],
   "source": [
    "P.shape"
   ]
  },
  {
   "cell_type": "code",
   "execution_count": 50,
   "metadata": {},
   "outputs": [],
   "source": [
    "objective = get_objective_func(P, data, error)\n",
    "objective_no_error = get_objective_func_noError(P, data, error)\n",
    "obj_test = get_objective_func_noError(P, test_data, error)"
   ]
  },
  {
   "cell_type": "code",
   "execution_count": 51,
   "metadata": {},
   "outputs": [],
   "source": [
    "X0 = [1]*int(get_N_coeffienct(len(params), order))"
   ]
  },
  {
   "cell_type": "code",
   "execution_count": 52,
   "metadata": {},
   "outputs": [
    {
     "data": {
      "text/plain": [
       "[1, 1, 1, 1, 1, 1]"
      ]
     },
     "execution_count": 52,
     "metadata": {},
     "output_type": "execute_result"
    }
   ],
   "source": [
    "X0"
   ]
  },
  {
   "cell_type": "code",
   "execution_count": 53,
   "metadata": {},
   "outputs": [
    {
     "data": {
      "text/plain": [
       "6250.378347062318"
      ]
     },
     "execution_count": 53,
     "metadata": {},
     "output_type": "execute_result"
    }
   ],
   "source": [
    "objective(X0)"
   ]
  },
  {
   "cell_type": "code",
   "execution_count": 54,
   "metadata": {},
   "outputs": [
    {
     "name": "stdout",
     "output_type": "stream",
     "text": [
      "Warning: Maximum number of function evaluations has been exceeded.\n",
      "False\n"
     ]
    }
   ],
   "source": [
    "res = minimize(\n",
    "    objective, X0, method='nelder-mead', \n",
    "    options={'xtol':1e-8, 'disp':True}\n",
    ")\n",
    "print(res.success)"
   ]
  },
  {
   "cell_type": "code",
   "execution_count": 55,
   "metadata": {},
   "outputs": [],
   "source": [
    "XP = np.matmul(np.linalg.pinv(P), data)"
   ]
  },
  {
   "cell_type": "code",
   "execution_count": 56,
   "metadata": {},
   "outputs": [
    {
     "data": {
      "text/plain": [
       "array([  8.95497325, -17.08963931,  24.41178334,   6.3236684 ,\n",
       "        -3.21090224,  -4.45380914])"
      ]
     },
     "execution_count": 56,
     "metadata": {},
     "output_type": "execute_result"
    }
   ],
   "source": [
    "XP"
   ]
  },
  {
   "cell_type": "code",
   "execution_count": 21,
   "metadata": {},
   "outputs": [],
   "source": [
    "from iminuit import Minuit"
   ]
  },
  {
   "cell_type": "code",
   "execution_count": 26,
   "metadata": {},
   "outputs": [],
   "source": [
    "def obj_fnc(P, data, error):\n",
    "    \"\"\"The objective function to be minized\"\"\"\n",
    "    nscans = P.shape[0]\n",
    "    def objective(x0, x1, x2, x3, x4, x5):\n",
    "        return (P[0][0]*x0 +  P[0][1]*x1 + P[0][2]*x2 + P[0][3]*x3 +  P[0][4]*x4 + P[0][5]*x5 - data[0])**2 / error[0]**2 \\\n",
    "    + (P[1][0]*x0 +  P[1][1]*x1 + P[1][2]*x2 + P[1][3]*x3 +  P[1][4]*x4 + P[1][5]*x5 - data[1])**2 / error[1]**2 \\\n",
    "    + (P[2][0]*x0 +  P[2][1]*x1 + P[2][2]*x2 + P[2][3]*x3 +  P[2][4]*x4 + P[2][5]*x5 - data[2])**2 / error[2]**2 \\\n",
    "    + (P[3][0]*x0 +  P[3][1]*x1 + P[3][2]*x2 + P[3][3]*x3 +  P[3][4]*x4 + P[3][5]*x5 - data[3])**2 / error[3]**2 \\\n",
    "    + (P[4][0]*x0 +  P[4][1]*x1 + P[4][2]*x2 + P[4][3]*x3 +  P[4][4]*x4 + P[4][5]*x5 - data[4])**2 / error[4]**2 \\\n",
    "    + (P[5][0]*x0 +  P[5][1]*x1 + P[5][2]*x2 + P[5][3]*x3 +  P[5][4]*x4 + P[5][5]*x5 - data[5])**2 / error[5]**2\n",
    "    \n",
    "    return objective"
   ]
  },
  {
   "cell_type": "code",
   "execution_count": 27,
   "metadata": {},
   "outputs": [],
   "source": [
    "obj = obj_fnc(P, data, error)\n"
   ]
  },
  {
   "cell_type": "code",
   "execution_count": 30,
   "metadata": {},
   "outputs": [
    {
     "name": "stderr",
     "output_type": "stream",
     "text": [
      "/global/homes/x/xju/.conda/envs/uproot/lib/python3.7/site-packages/ipykernel_launcher.py:1: InitialParamWarning: Parameter x0 does not have neither initial value nor limits.\n",
      "  \"\"\"Entry point for launching an IPython kernel.\n",
      "/global/homes/x/xju/.conda/envs/uproot/lib/python3.7/site-packages/ipykernel_launcher.py:1: InitialParamWarning: Parameter x1 does not have neither initial value nor limits.\n",
      "  \"\"\"Entry point for launching an IPython kernel.\n",
      "/global/homes/x/xju/.conda/envs/uproot/lib/python3.7/site-packages/ipykernel_launcher.py:1: InitialParamWarning: Parameter x2 does not have neither initial value nor limits.\n",
      "  \"\"\"Entry point for launching an IPython kernel.\n",
      "/global/homes/x/xju/.conda/envs/uproot/lib/python3.7/site-packages/ipykernel_launcher.py:1: InitialParamWarning: Parameter x3 does not have neither initial value nor limits.\n",
      "  \"\"\"Entry point for launching an IPython kernel.\n",
      "/global/homes/x/xju/.conda/envs/uproot/lib/python3.7/site-packages/ipykernel_launcher.py:1: InitialParamWarning: Parameter x4 does not have neither initial value nor limits.\n",
      "  \"\"\"Entry point for launching an IPython kernel.\n",
      "/global/homes/x/xju/.conda/envs/uproot/lib/python3.7/site-packages/ipykernel_launcher.py:1: InitialParamWarning: Parameter x5 does not have neither initial value nor limits.\n",
      "  \"\"\"Entry point for launching an IPython kernel.\n",
      "/global/homes/x/xju/.conda/envs/uproot/lib/python3.7/site-packages/ipykernel_launcher.py:1: InitialParamWarning: errordef is not given, defaults to 1.\n",
      "  \"\"\"Entry point for launching an IPython kernel.\n"
     ]
    },
    {
     "data": {
      "text/html": [
       "<table>\n",
       "<tr> <td colspan=\"2\" style=\"text-align:center\" title=\"Minimum value of function\"> FCN = 1.017e-09 </td> <td colspan=\"3\" title=\"No. of calls in last algorithm and total number of calls\"> Ncalls = 323 (323 total) </td> </tr>\n",
       "<tr> <td colspan=\"2\" style=\"text-align:center\" title=\"Estimated distance to minimum and target threshold\"> EDM = 9.61e-10 (Goal: 0.0002) </td> <td colspan=\"3\" title=\"Increase in FCN which corresponds to 1 standard deviation\"> up = 1.0 </td> </tr>\n",
       "<tr> <td title=\"Validity of the migrad call\"> Valid Min. </td> <td title=\"Validity of parameters\"> Valid Param. </td> <td title=\"Is EDM above goal EDM?\"> Above EDM </td> <td colspan=\"2\" title=\"Did last migrad call reach max call limit?\"> Reached call limit </td> </tr>\n",
       "<tr> <td style=\"background-color:#92CCA6;\"> True </td> <td style=\"background-color:#92CCA6;\"> True </td> <td style=\"background-color:#92CCA6;\"> False </td> <td colspan=\"2\" style=\"background-color:#92CCA6;\"> False </td> </tr>\n",
       "<tr> <td title=\"Did Hesse fail?\"> Hesse failed </td> <td title=\"Has covariance matrix\"> Has cov. </td> <td title=\"Is covariance matrix accurate?\"> Accurate </td> <td title=\"Is covariance matrix positive definite?\"> Pos. def. </td> <td title=\"Was positive definiteness enforced by Minuit?\"> Forced </td> </tr>\n",
       "<tr> <td style=\"background-color:#92CCA6;\"> False </td> <td style=\"background-color:#92CCA6;\"> True </td> <td style=\"background-color:#FF7878;\"> False </td> <td style=\"background-color:#FF7878;\"> False </td> <td style=\"background-color:#FF7878;\"> True </td> </tr>\n",
       "</table>\n",
       "<table>\n",
       "<tr style=\"background-color:#F4F4F4;\"> <td/> <th title=\"Variable name\"> Name </th> <th title=\"Value of parameter\"> Value </th> <th title=\"Hesse error\"> Hesse Error </th> <th title=\"Minos lower error\"> Minos Error- </th> <th title=\"Minos upper error\"> Minos Error+ </th> <th title=\"Lower limit of the parameter\"> Limit- </th> <th title=\"Upper limit of the parameter\"> Limit+ </th> <th title=\"Is the parameter fixed in the fit\"> Fixed </th> </tr>\n",
       "<tr style=\"background-color:#FFFFFF;\"> <th> 0 </th> <td> x0 </td> <td> -207 </td> <td> 4 </td> <td>  </td> <td>  </td> <td>  </td> <td>  </td> <td>  </td> </tr>\n",
       "<tr style=\"background-color:#F4F4F4;\"> <th> 1 </th> <td> x1 </td> <td> 30 </td> <td> 4 </td> <td>  </td> <td>  </td> <td>  </td> <td>  </td> <td>  </td> </tr>\n",
       "<tr style=\"background-color:#FFFFFF;\"> <th> 2 </th> <td> x2 </td> <td> 269.4 </td> <td> 3.5 </td> <td>  </td> <td>  </td> <td>  </td> <td>  </td> <td>  </td> </tr>\n",
       "<tr style=\"background-color:#F4F4F4;\"> <th> 3 </th> <td> x3 </td> <td> -11.8 </td> <td> 1.8 </td> <td>  </td> <td>  </td> <td>  </td> <td>  </td> <td>  </td> </tr>\n",
       "<tr style=\"background-color:#FFFFFF;\"> <th> 4 </th> <td> x4 </td> <td> 9.4 </td> <td> 2.5 </td> <td>  </td> <td>  </td> <td>  </td> <td>  </td> <td>  </td> </tr>\n",
       "<tr style=\"background-color:#F4F4F4;\"> <th> 5 </th> <td> x5 </td> <td> -95.3 </td> <td> 1.9 </td> <td>  </td> <td>  </td> <td>  </td> <td>  </td> <td>  </td> </tr>\n",
       "</table>\n"
      ],
      "text/plain": [
       "------------------------------------------------------------------\n",
       "| FCN = 1.017e-09               |     Ncalls=323 (323 total)     |\n",
       "| EDM = 9.61e-10 (Goal: 0.0002) |            up = 1.0            |\n",
       "------------------------------------------------------------------\n",
       "|  Valid Min.   | Valid Param.  | Above EDM | Reached call limit |\n",
       "------------------------------------------------------------------\n",
       "|     True      |     True      |   False   |       False        |\n",
       "------------------------------------------------------------------\n",
       "| Hesse failed  |   Has cov.    | Accurate  | Pos. def. | Forced |\n",
       "------------------------------------------------------------------\n",
       "|     False     |     True      |   False   |   False   |  True  |\n",
       "------------------------------------------------------------------\n",
       "------------------------------------------------------------------------------------------\n",
       "|   | Name |   Value   | Hesse Err | Minos Err- | Minos Err+ | Limit-  | Limit+  | Fixed |\n",
       "------------------------------------------------------------------------------------------\n",
       "| 0 | x0   |   -207    |     4     |            |            |         |         |       |\n",
       "| 1 | x1   |    30     |     4     |            |            |         |         |       |\n",
       "| 2 | x2   |   269.4   |    3.5    |            |            |         |         |       |\n",
       "| 3 | x3   |   -11.8   |    1.8    |            |            |         |         |       |\n",
       "| 4 | x4   |    9.4    |    2.5    |            |            |         |         |       |\n",
       "| 5 | x5   |   -95.3   |    1.9    |            |            |         |         |       |\n",
       "------------------------------------------------------------------------------------------"
      ]
     },
     "execution_count": 30,
     "metadata": {},
     "output_type": "execute_result"
    }
   ],
   "source": [
    "m0 = Minuit(obj)\n",
    "\n",
    "m0.migrad()  # run optimiser"
   ]
  },
  {
   "cell_type": "code",
   "execution_count": 32,
   "metadata": {},
   "outputs": [
    {
     "data": {
      "text/html": [
       "<table>\n",
       "<tr> <td/> <th colspan=\"2\" style=\"text-align:center\" title=\"Parameter name\"> x0 </th> <th colspan=\"2\" style=\"text-align:center\" title=\"Parameter name\"> x1 </th> <th colspan=\"2\" style=\"text-align:center\" title=\"Parameter name\"> x2 </th> <th colspan=\"2\" style=\"text-align:center\" title=\"Parameter name\"> x3 </th> <th colspan=\"2\" style=\"text-align:center\" title=\"Parameter name\"> x4 </th> <th colspan=\"2\" style=\"text-align:center\" title=\"Parameter name\"> x5 </th> </tr>\n",
       "<tr> <th title=\"Lower and upper minos error of the parameter\"> Error </th> <td> -4 </td> <td> 4 </td> <td> -50 </td> <td> 50 </td> <td> -3.5 </td> <td> 3.5 </td> <td> -10 </td> <td> 10 </td> <td> -2.5 </td> <td> 2.5 </td> <td> -1.9 </td> <td> 1.9 </td> </tr>\n",
       "<tr> <th title=\"Validity of lower/upper minos error\"> Valid </th> <td style=\"background-color:#FF7878;\"> False </td> <td style=\"background-color:#FF7878;\"> False </td> <td style=\"background-color:#92CCA6;\"> True </td> <td style=\"background-color:#92CCA6;\"> True </td> <td style=\"background-color:#FF7878;\"> False </td> <td style=\"background-color:#FF7878;\"> False </td> <td style=\"background-color:#92CCA6;\"> True </td> <td style=\"background-color:#92CCA6;\"> True </td> <td style=\"background-color:#FF7878;\"> False </td> <td style=\"background-color:#FF7878;\"> False </td> <td style=\"background-color:#FF7878;\"> False </td> <td style=\"background-color:#FF7878;\"> False </td> </tr>\n",
       "<tr> <th title=\"Did scan hit limit of any parameter?\"> At Limit </th> <td style=\"background-color:#92CCA6;\"> False </td> <td style=\"background-color:#92CCA6;\"> False </td> <td style=\"background-color:#92CCA6;\"> False </td> <td style=\"background-color:#92CCA6;\"> False </td> <td style=\"background-color:#92CCA6;\"> False </td> <td style=\"background-color:#92CCA6;\"> False </td> <td style=\"background-color:#92CCA6;\"> False </td> <td style=\"background-color:#92CCA6;\"> False </td> <td style=\"background-color:#92CCA6;\"> False </td> <td style=\"background-color:#92CCA6;\"> False </td> <td style=\"background-color:#92CCA6;\"> False </td> <td style=\"background-color:#92CCA6;\"> False </td> </tr>\n",
       "<tr> <th title=\"Did scan hit function call limit?\"> Max FCN </th> <td style=\"background-color:#92CCA6;\"> False </td> <td style=\"background-color:#92CCA6;\"> False </td> <td style=\"background-color:#92CCA6;\"> False </td> <td style=\"background-color:#92CCA6;\"> False </td> <td style=\"background-color:#92CCA6;\"> False </td> <td style=\"background-color:#92CCA6;\"> False </td> <td style=\"background-color:#92CCA6;\"> False </td> <td style=\"background-color:#92CCA6;\"> False </td> <td style=\"background-color:#92CCA6;\"> False </td> <td style=\"background-color:#92CCA6;\"> False </td> <td style=\"background-color:#92CCA6;\"> False </td> <td style=\"background-color:#92CCA6;\"> False </td> </tr>\n",
       "<tr> <th title=\"New minimum found when doing scan?\"> New Min </th> <td style=\"background-color:#92CCA6;\"> False </td> <td style=\"background-color:#92CCA6;\"> False </td> <td style=\"background-color:#92CCA6;\"> False </td> <td style=\"background-color:#92CCA6;\"> False </td> <td style=\"background-color:#92CCA6;\"> False </td> <td style=\"background-color:#92CCA6;\"> False </td> <td style=\"background-color:#92CCA6;\"> False </td> <td style=\"background-color:#92CCA6;\"> False </td> <td style=\"background-color:#92CCA6;\"> False </td> <td style=\"background-color:#92CCA6;\"> False </td> <td style=\"background-color:#92CCA6;\"> False </td> <td style=\"background-color:#92CCA6;\"> False </td> </tr>\n",
       "</table>\n"
      ],
      "text/plain": [
       "------------------------------------------------------------------------------------------------------------------------------------------------------------\n",
       "|          |          x0           |          x1           |          x2           |          x3           |          x4           |          x5           |\n",
       "------------------------------------------------------------------------------------------------------------------------------------------------------------\n",
       "|  Error   |    -4     |     4     |    -50    |    50     |   -3.5    |    3.5    |    -10    |    10     |   -2.5    |    2.5    |   -1.9    |    1.9    |\n",
       "|  Valid   |   False   |   False   |   True    |   True    |   False   |   False   |   True    |   True    |   False   |   False   |   False   |   False   |\n",
       "| At Limit |   False   |   False   |   False   |   False   |   False   |   False   |   False   |   False   |   False   |   False   |   False   |   False   |\n",
       "| Max FCN  |   False   |   False   |   False   |   False   |   False   |   False   |   False   |   False   |   False   |   False   |   False   |   False   |\n",
       "| New Min  |   False   |   False   |   False   |   False   |   False   |   False   |   False   |   False   |   False   |   False   |   False   |   False   |\n",
       "------------------------------------------------------------------------------------------------------------------------------------------------------------"
      ]
     },
     "execution_count": 32,
     "metadata": {},
     "output_type": "execute_result"
    }
   ],
   "source": [
    "m0.minos()"
   ]
  },
  {
   "cell_type": "code",
   "execution_count": 35,
   "metadata": {},
   "outputs": [
    {
     "data": {
      "text/plain": [
       "array([-206.74705589,   29.79897052,  269.35601896,  -11.80954693,\n",
       "          9.36988264,  -95.34513421])"
      ]
     },
     "execution_count": 35,
     "metadata": {},
     "output_type": "execute_result"
    }
   ],
   "source": [
    "XP"
   ]
  },
  {
   "cell_type": "code",
   "execution_count": 19,
   "metadata": {},
   "outputs": [
    {
     "name": "stdout",
     "output_type": "stream",
     "text": [
      "0.0053252531074395384\n",
      "Maximum number of function evaluations has been exceeded.\n"
     ]
    }
   ],
   "source": [
    "print(objective(res.x))\n",
    "print(res.message)"
   ]
  },
  {
   "cell_type": "code",
   "execution_count": 20,
   "metadata": {},
   "outputs": [
    {
     "name": "stdout",
     "output_type": "stream",
     "text": [
      "Warning: Maximum number of function evaluations has been exceeded.\n",
      "False\n"
     ]
    }
   ],
   "source": [
    "res_no_error = minimize(\n",
    "    objective_no_error, X0, method='nelder-mead', \n",
    "    options={'xtol':1e-8, 'disp':True}\n",
    ")\n",
    "print(res_no_error.success)"
   ]
  },
  {
   "cell_type": "code",
   "execution_count": 21,
   "metadata": {},
   "outputs": [
    {
     "name": "stdout",
     "output_type": "stream",
     "text": [
      "Truth: 10.00 0.10 5.00 0.01 0.05 0.00\n",
      "With error: -17.43 40.67 7.01 -1.93 -23.06 8.56\n",
      "No error: 2.40 38.83 -20.59 11.68 -46.15 27.79\n",
      "Psudo-Inv: -18.13 43.53 5.11 -0.76 -26.95 10.87\n",
      "0.007967988469502621\n",
      "0.3201807613441016\n",
      "7.182315588402238e-27\n",
      "7.907813686169796\n",
      "8.929509807675613\n",
      "8.224947324512444\n"
     ]
    }
   ],
   "source": [
    "print(\"Truth: \" + \" \".join(\"{:.2f}\".format(xx) for xx in [norm_val, k1, k2, k11, k22, k12]))\n",
    "X = res.x.tolist()\n",
    "X2 = res_no_error.x.tolist()\n",
    "XP = np.matmul(np.linalg.pinv(P), data)\n",
    "print(\"With error: \" + \" \".join([\"{:.2f}\".format(xx) for xx in X]))\n",
    "print(\"No error: \" + \" \".join([\"{:.2f}\".format(xx) for xx in X2]))\n",
    "print(\"Psudo-Inv: \" + \" \".join([\"{:.2f}\".format(xx) for xx in XP]))\n",
    "print(objective_no_error(X))\n",
    "print(objective_no_error(X2))\n",
    "print(objective_no_error(XP))\n",
    "print(obj_test(X))\n",
    "print(obj_test(X2))\n",
    "print(obj_test(XP))"
   ]
  },
  {
   "cell_type": "code",
   "execution_count": 22,
   "metadata": {},
   "outputs": [],
   "source": [
    "def study_scans(nscans, p_err=0.01):\n",
    "    in_matrix, data, error = generate_data(nscans, p_err)\n",
    "    test_data = generate_data(nscans, p_err)[1]\n",
    "\n",
    "    P = getMatrixP(in_matrix, order)\n",
    "    objective = get_objective_func(P, data, error)\n",
    "    objective_no_error = get_objective_func_noError(P, data, error)\n",
    "    obj_test = get_objective_func_noError(P, test_data, error)\n",
    "    \n",
    "    X0 = [1]*int(get_N_coeffienct(len(params), order))\n",
    "    res = minimize(\n",
    "        objective, X0, method='nelder-mead', \n",
    "        options={'xtol':1e-8, 'disp':False}\n",
    "    )\n",
    "\n",
    "    res_no_error = minimize(\n",
    "        objective_no_error, X0, method='nelder-mead', \n",
    "        options={'xtol':1e-8, 'disp':False}\n",
    "    )\n",
    "    \n",
    "    X = res.x.tolist()\n",
    "    X2 = res_no_error.x.tolist()    \n",
    "    XP = np.matmul(np.linalg.pinv(P), data)\n",
    "\n",
    "    return obj_test(X), obj_test(X2), obj_test(XP)"
   ]
  },
  {
   "cell_type": "code",
   "execution_count": 23,
   "metadata": {},
   "outputs": [],
   "source": [
    "def plot(res_list, label_list, out_name):\n",
    "    res1 = res_list[0]\n",
    "    mean = np.mean(res1)\n",
    "    std = np.std(res1)\n",
    "    hist_x_max = mean + 3*std\n",
    "    hist_x_min = mean - 3*std\n",
    "    nbins = 50\n",
    "    for res, label in zip(res_list, label_list):\n",
    "        plt.hist(res, bins=nbins, range=(hist_x_min, hist_x_max),\n",
    "                 histtype='step', label=label, lw=2)\n",
    "\n",
    "    plt.legend()\n",
    "    plt.savefig(out_name)"
   ]
  },
  {
   "cell_type": "code",
   "execution_count": 24,
   "metadata": {},
   "outputs": [],
   "source": [
    "def stats(results):\n",
    "    for ir in results:\n",
    "        print(np.mean(ir), np.std(ir))"
   ]
  },
  {
   "cell_type": "code",
   "execution_count": 25,
   "metadata": {},
   "outputs": [],
   "source": [
    "labels = ['with error', 'no error', 'pseudo-inverse']"
   ]
  },
  {
   "cell_type": "code",
   "execution_count": 26,
   "metadata": {},
   "outputs": [
    {
     "ename": "TypeError",
     "evalue": "plot() missing 1 required positional argument: 'out_name'",
     "output_type": "error",
     "traceback": [
      "\u001b[0;31m---------------------------------------------------------------------------\u001b[0m",
      "\u001b[0;31mTypeError\u001b[0m                                 Traceback (most recent call last)",
      "\u001b[0;32m<ipython-input-26-bcc288db4f36>\u001b[0m in \u001b[0;36m<module>\u001b[0;34m\u001b[0m\n\u001b[1;32m     10\u001b[0m \u001b[0mres100\u001b[0m \u001b[0;34m=\u001b[0m \u001b[0;34m[\u001b[0m\u001b[0mres_with_error100\u001b[0m\u001b[0;34m,\u001b[0m \u001b[0mres_no_error100\u001b[0m\u001b[0;34m,\u001b[0m \u001b[0mres_pinv_error100\u001b[0m\u001b[0;34m]\u001b[0m\u001b[0;34m\u001b[0m\u001b[0;34m\u001b[0m\u001b[0m\n\u001b[1;32m     11\u001b[0m \u001b[0;34m\u001b[0m\u001b[0m\n\u001b[0;32m---> 12\u001b[0;31m \u001b[0mplot\u001b[0m\u001b[0;34m(\u001b[0m\u001b[0mres100\u001b[0m\u001b[0;34m,\u001b[0m \u001b[0mlabels\u001b[0m\u001b[0;34m)\u001b[0m\u001b[0;34m\u001b[0m\u001b[0;34m\u001b[0m\u001b[0m\n\u001b[0m\u001b[1;32m     13\u001b[0m \u001b[0mstats\u001b[0m\u001b[0;34m(\u001b[0m\u001b[0mres100\u001b[0m\u001b[0;34m)\u001b[0m\u001b[0;34m\u001b[0m\u001b[0;34m\u001b[0m\u001b[0m\n",
      "\u001b[0;31mTypeError\u001b[0m: plot() missing 1 required positional argument: 'out_name'"
     ]
    }
   ],
   "source": [
    "res_with_error100 = []\n",
    "res_no_error100 = []\n",
    "res_pinv_error100 = []\n",
    "for i in range(5000):\n",
    "    with_error, no_err, pinv_err = study_scans(30, 0.05)\n",
    "    res_with_error100.append(with_error)\n",
    "    res_no_error100.append(no_err)\n",
    "    res_pinv_error100.append(pinv_err)\n",
    "\n",
    "res100 = [res_with_error100, res_no_error100, res_pinv_error100]\n",
    "\n",
    "plot(res100, labels)\n",
    "stats(res100)"
   ]
  },
  {
   "cell_type": "code",
   "execution_count": null,
   "metadata": {},
   "outputs": [],
   "source": [
    "res_with_error100 = []\n",
    "res_no_error100 = []\n",
    "res_pinv_error100 = []\n",
    "for i in range(5000):\n",
    "    with_error, no_err, pinv_err = study_scans(30, 0.05)\n",
    "    res_with_error100.append(with_error)\n",
    "    res_no_error100.append(no_err)\n",
    "    res_pinv_error100.append(pinv_err)\n",
    "\n",
    "res100 = [res_with_error100, res_no_error100, res_pinv_error100]\n",
    "\n",
    "plot(res100, labels, 'test_5pecent_error.pdf')\n",
    "stats(res100)"
   ]
  },
  {
   "cell_type": "code",
   "execution_count": null,
   "metadata": {},
   "outputs": [],
   "source": [
    "results = []\n",
    "results.append([])\n",
    "results.append([])\n",
    "results.append([])\n",
    "\n",
    "for i in range(5000):\n",
    "    with_error, no_err, pinv_err = study_scans(30, 0.10)\n",
    "    results[0].append(with_error)\n",
    "    results[1].append(no_err)\n",
    "    results[2].append(pinv_err)\n",
    "\n",
    "plot(results, labels)\n",
    "stats(results)"
   ]
  },
  {
   "cell_type": "code",
   "execution_count": null,
   "metadata": {},
   "outputs": [],
   "source": [
    "70*1000000/25000"
   ]
  },
  {
   "cell_type": "code",
   "execution_count": null,
   "metadata": {},
   "outputs": [],
   "source": [
    "2800/32"
   ]
  },
  {
   "cell_type": "code",
   "execution_count": null,
   "metadata": {
    "collapsed": true,
    "jupyter": {
     "outputs_hidden": true
    }
   },
   "outputs": [],
   "source": []
  }
 ],
 "metadata": {
  "kernelspec": {
   "display_name": "a-pytorch-1.6",
   "language": "python",
   "name": "torch"
  },
  "language_info": {
   "codemirror_mode": {
    "name": "ipython",
    "version": 3
   },
   "file_extension": ".py",
   "mimetype": "text/x-python",
   "name": "python",
   "nbconvert_exporter": "python",
   "pygments_lexer": "ipython3",
   "version": "3.7.7"
  }
 },
 "nbformat": 4,
 "nbformat_minor": 4
}
