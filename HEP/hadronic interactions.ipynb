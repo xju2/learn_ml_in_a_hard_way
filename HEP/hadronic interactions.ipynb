{
 "cells": [
  {
   "cell_type": "markdown",
   "id": "2e732b57-3fb4-4477-bfc0-d0ec8e03abd8",
   "metadata": {},
   "source": [
    "# $\\pi^-p$ interactions"
   ]
  },
  {
   "cell_type": "code",
   "execution_count": 1,
   "id": "5f2f9d0a-a57e-419f-b195-04be44dafb59",
   "metadata": {},
   "outputs": [],
   "source": [
    "filename = \"rpp2022-pimp_total.dat\""
   ]
  },
  {
   "cell_type": "code",
   "execution_count": 87,
   "id": "e5a113f7-1901-4e20-8bab-6d39e11be645",
   "metadata": {},
   "outputs": [],
   "source": [
    "from utils import read_pdg_data"
   ]
  },
  {
   "cell_type": "code",
   "execution_count": 64,
   "id": "c2277308-a054-498d-94ea-2c212893ab9f",
   "metadata": {},
   "outputs": [],
   "source": [
    "import numpy as np\n",
    "import pandas as pd\n",
    "import matplotlib.pyplot as plt"
   ]
  },
  {
   "cell_type": "code",
   "execution_count": 88,
   "id": "45bd2b30-d89b-4ed0-8bea-102770ac71f9",
   "metadata": {},
   "outputs": [
    {
     "name": "stdout",
     "output_type": "stream",
     "text": [
      "starting the data\n"
     ]
    }
   ],
   "source": [
    "df, meta_data = read_pdg_data(filename)"
   ]
  },
  {
   "cell_type": "code",
   "execution_count": 49,
   "id": "7d739270-699f-47ec-8e60-0cb2c02abb00",
   "metadata": {},
   "outputs": [
    {
     "data": {
      "text/html": [
       "<div>\n",
       "<style scoped>\n",
       "    .dataframe tbody tr th:only-of-type {\n",
       "        vertical-align: middle;\n",
       "    }\n",
       "\n",
       "    .dataframe tbody tr th {\n",
       "        vertical-align: top;\n",
       "    }\n",
       "\n",
       "    .dataframe thead th {\n",
       "        text-align: right;\n",
       "    }\n",
       "</style>\n",
       "<table border=\"1\" class=\"dataframe\">\n",
       "  <thead>\n",
       "    <tr style=\"text-align: right;\">\n",
       "      <th></th>\n",
       "      <th>idx</th>\n",
       "      <th>plab</th>\n",
       "      <th>plab_min</th>\n",
       "      <th>plab_max</th>\n",
       "      <th>sig</th>\n",
       "      <th>stats_up</th>\n",
       "      <th>stats_down</th>\n",
       "      <th>sys_up</th>\n",
       "      <th>sys_down</th>\n",
       "    </tr>\n",
       "  </thead>\n",
       "  <tbody>\n",
       "    <tr>\n",
       "      <th>0</th>\n",
       "      <td>1</td>\n",
       "      <td>0.09875</td>\n",
       "      <td>0.09875</td>\n",
       "      <td>0.09875</td>\n",
       "      <td>8.87</td>\n",
       "      <td>0.30</td>\n",
       "      <td>0.30</td>\n",
       "      <td>0.0</td>\n",
       "      <td>0.0</td>\n",
       "    </tr>\n",
       "    <tr>\n",
       "      <th>1</th>\n",
       "      <td>2</td>\n",
       "      <td>0.16000</td>\n",
       "      <td>0.16000</td>\n",
       "      <td>0.16000</td>\n",
       "      <td>13.60</td>\n",
       "      <td>1.90</td>\n",
       "      <td>1.90</td>\n",
       "      <td>0.0</td>\n",
       "      <td>0.0</td>\n",
       "    </tr>\n",
       "    <tr>\n",
       "      <th>2</th>\n",
       "      <td>3</td>\n",
       "      <td>0.16520</td>\n",
       "      <td>0.16480</td>\n",
       "      <td>0.16560</td>\n",
       "      <td>15.80</td>\n",
       "      <td>0.20</td>\n",
       "      <td>0.20</td>\n",
       "      <td>0.0</td>\n",
       "      <td>0.0</td>\n",
       "    </tr>\n",
       "    <tr>\n",
       "      <th>3</th>\n",
       "      <td>4</td>\n",
       "      <td>0.17600</td>\n",
       "      <td>0.17600</td>\n",
       "      <td>0.17600</td>\n",
       "      <td>17.70</td>\n",
       "      <td>0.90</td>\n",
       "      <td>0.90</td>\n",
       "      <td>0.0</td>\n",
       "      <td>0.0</td>\n",
       "    </tr>\n",
       "    <tr>\n",
       "      <th>4</th>\n",
       "      <td>5</td>\n",
       "      <td>0.18101</td>\n",
       "      <td>0.17080</td>\n",
       "      <td>0.19101</td>\n",
       "      <td>21.00</td>\n",
       "      <td>8.00</td>\n",
       "      <td>8.00</td>\n",
       "      <td>0.0</td>\n",
       "      <td>0.0</td>\n",
       "    </tr>\n",
       "    <tr>\n",
       "      <th>...</th>\n",
       "      <td>...</td>\n",
       "      <td>...</td>\n",
       "      <td>...</td>\n",
       "      <td>...</td>\n",
       "      <td>...</td>\n",
       "      <td>...</td>\n",
       "      <td>...</td>\n",
       "      <td>...</td>\n",
       "      <td>...</td>\n",
       "    </tr>\n",
       "    <tr>\n",
       "      <th>600</th>\n",
       "      <td>601</td>\n",
       "      <td>360.00000</td>\n",
       "      <td>359.64001</td>\n",
       "      <td>360.35998</td>\n",
       "      <td>25.25</td>\n",
       "      <td>0.35</td>\n",
       "      <td>0.35</td>\n",
       "      <td>0.0</td>\n",
       "      <td>0.0</td>\n",
       "    </tr>\n",
       "    <tr>\n",
       "      <th>601</th>\n",
       "      <td>602</td>\n",
       "      <td>370.00000</td>\n",
       "      <td>370.00000</td>\n",
       "      <td>370.00000</td>\n",
       "      <td>25.25</td>\n",
       "      <td>0.09</td>\n",
       "      <td>0.09</td>\n",
       "      <td>0.4</td>\n",
       "      <td>0.4</td>\n",
       "    </tr>\n",
       "    <tr>\n",
       "      <th>602</th>\n",
       "      <td>603</td>\n",
       "      <td>585.00000</td>\n",
       "      <td>585.00000</td>\n",
       "      <td>585.00000</td>\n",
       "      <td>26.00</td>\n",
       "      <td>2.10</td>\n",
       "      <td>2.10</td>\n",
       "      <td>0.0</td>\n",
       "      <td>0.0</td>\n",
       "    </tr>\n",
       "    <tr>\n",
       "      <th>603</th>\n",
       "      <td>604</td>\n",
       "      <td>595.00000</td>\n",
       "      <td>595.00000</td>\n",
       "      <td>595.00000</td>\n",
       "      <td>26.40</td>\n",
       "      <td>1.30</td>\n",
       "      <td>1.30</td>\n",
       "      <td>0.0</td>\n",
       "      <td>0.0</td>\n",
       "    </tr>\n",
       "    <tr>\n",
       "      <th>604</th>\n",
       "      <td>605</td>\n",
       "      <td>640.00000</td>\n",
       "      <td>640.00000</td>\n",
       "      <td>640.00000</td>\n",
       "      <td>27.10</td>\n",
       "      <td>1.50</td>\n",
       "      <td>1.50</td>\n",
       "      <td>0.0</td>\n",
       "      <td>0.0</td>\n",
       "    </tr>\n",
       "  </tbody>\n",
       "</table>\n",
       "<p>605 rows × 9 columns</p>\n",
       "</div>"
      ],
      "text/plain": [
       "     idx       plab   plab_min   plab_max    sig  stats_up  stats_down  \\\n",
       "0      1    0.09875    0.09875    0.09875   8.87      0.30        0.30   \n",
       "1      2    0.16000    0.16000    0.16000  13.60      1.90        1.90   \n",
       "2      3    0.16520    0.16480    0.16560  15.80      0.20        0.20   \n",
       "3      4    0.17600    0.17600    0.17600  17.70      0.90        0.90   \n",
       "4      5    0.18101    0.17080    0.19101  21.00      8.00        8.00   \n",
       "..   ...        ...        ...        ...    ...       ...         ...   \n",
       "600  601  360.00000  359.64001  360.35998  25.25      0.35        0.35   \n",
       "601  602  370.00000  370.00000  370.00000  25.25      0.09        0.09   \n",
       "602  603  585.00000  585.00000  585.00000  26.00      2.10        2.10   \n",
       "603  604  595.00000  595.00000  595.00000  26.40      1.30        1.30   \n",
       "604  605  640.00000  640.00000  640.00000  27.10      1.50        1.50   \n",
       "\n",
       "     sys_up  sys_down  \n",
       "0       0.0       0.0  \n",
       "1       0.0       0.0  \n",
       "2       0.0       0.0  \n",
       "3       0.0       0.0  \n",
       "4       0.0       0.0  \n",
       "..      ...       ...  \n",
       "600     0.0       0.0  \n",
       "601     0.4       0.4  \n",
       "602     0.0       0.0  \n",
       "603     0.0       0.0  \n",
       "604     0.0       0.0  \n",
       "\n",
       "[605 rows x 9 columns]"
      ]
     },
     "execution_count": 49,
     "metadata": {},
     "output_type": "execute_result"
    }
   ],
   "source": [
    "df"
   ]
  },
  {
   "cell_type": "code",
   "execution_count": 110,
   "id": "97d3d84b-884c-4b5d-a65b-88b9dde045c4",
   "metadata": {},
   "outputs": [],
   "source": [
    "def down_sample(array, delta=0.01):\n",
    "    \"\"\"select the data with a minimum differences between two consecutive values of *delta* values\"\"\"\n",
    "    masks = [1] * len(array)\n",
    "    last_value = array[0]\n",
    "    for idx, x in enumerate(array[1:]):\n",
    "        if x < last_value + delta:\n",
    "            masks[idx + 1] = 0\n",
    "        else:\n",
    "            last_value = x\n",
    "\n",
    "    return np.array(masks, dtype=bool)"
   ]
  },
  {
   "cell_type": "code",
   "execution_count": null,
   "id": "f62f3273-260e-4c78-9d16-af76476e193d",
   "metadata": {},
   "outputs": [],
   "source": []
  },
  {
   "cell_type": "code",
   "execution_count": 111,
   "id": "35d06b95-0465-4b5c-8d78-c38fa8af4e21",
   "metadata": {},
   "outputs": [],
   "source": [
    "masks = down_sample(df.plab)"
   ]
  },
  {
   "cell_type": "code",
   "execution_count": 113,
   "id": "6f007088-9cff-454d-a438-519cce110329",
   "metadata": {},
   "outputs": [
    {
     "data": {
      "text/plain": [
       "(258,)"
      ]
     },
     "execution_count": 113,
     "metadata": {},
     "output_type": "execute_result"
    }
   ],
   "source": [
    "df.plab.values[masks].shape"
   ]
  },
  {
   "cell_type": "code",
   "execution_count": 120,
   "id": "f3c5e8bc-1920-4f90-a9e9-304c9f8ab9cb",
   "metadata": {},
   "outputs": [
    {
     "data": {
      "image/png": "[encoded data removed]",
      "text/plain": [
       "<Figure size 432x432 with 1 Axes>"
      ]
     },
     "metadata": {
      "needs_background": "light"
     },
     "output_type": "display_data"
    }
   ],
   "source": [
    "_, ax = plt.subplots(1, 1, figsize=(6, 6))\n",
    "ax.errorbar(df.plab, df.sig, yerr=[df.error_down, df.error_up], fmt=\".\", c='k')\n",
    "ax.set_xscale('log')\n",
    "ax.set_xlabel(\"$P_{Lab}$ GeV/c\", fontsize=16)\n",
    "ax.set_ylabel(\"$\\sigma_{tot}$ (mb)\", fontsize=16)\n",
    "plt.savefig(\"pi_minus_p_tot.pdf\")"
   ]
  },
  {
   "cell_type": "code",
   "execution_count": 86,
   "id": "deebc30a-88b0-48ac-bf3e-323242f80c90",
   "metadata": {},
   "outputs": [
    {
     "data": {
      "text/plain": [
       "{'FILE_NAME': ' PIMP_TOTAL.DAT',\n",
       " 'REACTION': ' PI- P --> X',\n",
       " 'BEAM_MASS': '0.139570',\n",
       " 'TARGET_MASS': '0.938270',\n",
       " 'THRESHOLD': '0.',\n",
       " 'FINAL_STATE_MULTIPLICITY': '0',\n",
       " 'NUMBER_OF_DATA_POINTS': '605'}"
      ]
     },
     "execution_count": 86,
     "metadata": {},
     "output_type": "execute_result"
    }
   ],
   "source": [
    "meta_data = dict(zip(meta_keys, meta_values))\n",
    "meta_data"
   ]
  },
  {
   "cell_type": "code",
   "execution_count": 13,
   "id": "aa975d8d-4c77-4f84-bfb3-0f51fe335434",
   "metadata": {},
   "outputs": [],
   "source": [
    "            if \"FORMAT\" in line:\n",
    "                data_formats = line.replace(\"FORMAT(\",\"\").replace(\")\", \"\").split(\",\")\n",
    "            else:\n",
    "                meta_keys += line[:-1].split()"
   ]
  },
  {
   "cell_type": "code",
   "execution_count": null,
   "id": "2df3d3b8-a1b4-4b76-9674-17e454f83196",
   "metadata": {},
   "outputs": [],
   "source": []
  }
 ],
 "metadata": {
  "kernelspec": {
   "display_name": "Python 3",
   "language": "python",
   "name": "python3"
  },
  "language_info": {
   "codemirror_mode": {
    "name": "ipython",
    "version": 3
   },
   "file_extension": ".py",
   "mimetype": "text/x-python",
   "name": "python",
   "nbconvert_exporter": "python",
   "pygments_lexer": "ipython3",
   "version": "3.8.12"
  }
 },
 "nbformat": 4,
 "nbformat_minor": 5
}
