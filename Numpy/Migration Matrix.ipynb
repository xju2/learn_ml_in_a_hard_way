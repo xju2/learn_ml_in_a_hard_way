{
 "cells": [
  {
   "cell_type": "code",
   "execution_count": 1,
   "metadata": {},
   "outputs": [],
   "source": [
    "import numpy as np"
   ]
  },
  {
   "cell_type": "markdown",
   "metadata": {},
   "source": [
    "Build a dummy Migration Matrix (*MM*)"
   ]
  },
  {
   "cell_type": "code",
   "execution_count": 60,
   "metadata": {},
   "outputs": [
    {
     "name": "stdout",
     "output_type": "stream",
     "text": [
      "[[ 0.9371  0.0602  0.0026  0.      0.    ]\n",
      " [ 0.193   0.7296  0.07    0.0031  0.    ]\n",
      " [ 0.0476  0.2321  0.6651  0.0514  0.0038]\n",
      " [ 0.02    0.0952  0.3225  0.4875  0.075 ]\n",
      " [ 0.0057  0.0252  0.0901  0.2     0.6798]]\n"
     ]
    }
   ],
   "source": [
    "MM = np.array(\n",
    "    [\n",
    "        [0.9371, 0.0602, 0.0026, 0., 0.], \n",
    "        [0.193,  0.7296, 0.07,   0.0031, 0],\n",
    "        [0.0476, 0.2321, 0.6651, 0.0514, 0.0038],\n",
    "        [0.02,   0.0952, 0.3225, 0.4875, 0.075],\n",
    "        [0.0057, 0.0252, 0.0901, 0.2,   0.6798]\n",
    "    ])\n",
    "print(MM)"
   ]
  },
  {
   "cell_type": "code",
   "execution_count": 61,
   "metadata": {},
   "outputs": [
    {
     "name": "stdout",
     "output_type": "stream",
     "text": [
      "[ 180.   90.   40.   10.    5.]\n"
     ]
    }
   ],
   "source": [
    "truth = np.array([1.8, 0.9, 0.4, 0.1, 0.05])*100\n",
    "print(truth)"
   ]
  },
  {
   "cell_type": "markdown",
   "metadata": {},
   "source": [
    "True events undergoing migration matrix leads to expected number of events"
   ]
  },
  {
   "cell_type": "code",
   "execution_count": 62,
   "metadata": {},
   "outputs": [
    {
     "name": "stdout",
     "output_type": "stream",
     "text": [
      "[ 174.2    103.235   56.594   30.318   12.297]\n"
     ]
    }
   ],
   "source": [
    "mc_exp = np.matmul(MM, truth)\n",
    "print(mc_exp)"
   ]
  },
  {
   "cell_type": "markdown",
   "metadata": {},
   "source": [
    "Then I calculate my C-factors or efficiencies"
   ]
  },
  {
   "cell_type": "code",
   "execution_count": 63,
   "metadata": {},
   "outputs": [
    {
     "name": "stdout",
     "output_type": "stream",
     "text": [
      "[ 0.96777778  1.14705556  1.41485     3.0318      2.4594    ]\n"
     ]
    }
   ],
   "source": [
    "eff = mc_exp/truth\n",
    "print(eff)"
   ]
  },
  {
   "cell_type": "code",
   "execution_count": 76,
   "metadata": {},
   "outputs": [
    {
     "name": "stdout",
     "output_type": "stream",
     "text": [
      "[1.8, 0.9, 0.4, 0.1, 0.05]\n"
     ]
    }
   ],
   "source": [
    "data = [1.8, 0.9, 0.4, 0.1, 0.05]\n",
    "print(data)"
   ]
  },
  {
   "cell_type": "code",
   "execution_count": 77,
   "metadata": {},
   "outputs": [
    {
     "name": "stdout",
     "output_type": "stream",
     "text": [
      "[ 1.87415715  0.71642278  0.23026386 -0.17189026  0.05133087]\n"
     ]
    }
   ],
   "source": [
    "truth_pinv = np.matmul(np.linalg.pinv(MM), data)\n",
    "print(truth_pinv)"
   ]
  },
  {
   "cell_type": "code",
   "execution_count": 78,
   "metadata": {},
   "outputs": [
    {
     "name": "stdout",
     "output_type": "stream",
     "text": [
      "[ 1.85993111  0.78461762  0.28271548  0.03298371  0.02033016]\n"
     ]
    }
   ],
   "source": [
    "truth_bin_by_bin = data/eff\n",
    "print(truth_bin_by_bin)"
   ]
  },
  {
   "cell_type": "code",
   "execution_count": 79,
   "metadata": {},
   "outputs": [
    {
     "name": "stdout",
     "output_type": "stream",
     "text": [
      "[-0.00759063  0.09518798  0.2277892  -1.19188816 -0.60393892]\n"
     ]
    }
   ],
   "source": [
    "print((truth_bin_by_bin-truth_pinv)/truth_pinv)"
   ]
  },
  {
   "cell_type": "code",
   "execution_count": null,
   "metadata": {},
   "outputs": [],
   "source": []
  }
 ],
 "metadata": {
  "kernelspec": {
   "display_name": "Python 3",
   "language": "python",
   "name": "python3"
  },
  "language_info": {
   "codemirror_mode": {
    "name": "ipython",
    "version": 3
   },
   "file_extension": ".py",
   "mimetype": "text/x-python",
   "name": "python",
   "nbconvert_exporter": "python",
   "pygments_lexer": "ipython3",
   "version": "3.6.2"
  }
 },
 "nbformat": 4,
 "nbformat_minor": 2
}
