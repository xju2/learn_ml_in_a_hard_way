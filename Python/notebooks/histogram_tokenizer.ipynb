{
 "cells": [
  {
   "cell_type": "code",
   "execution_count": 2,
   "metadata": {},
   "outputs": [],
   "source": [
    "import numpy as np"
   ]
  },
  {
   "cell_type": "code",
   "execution_count": 28,
   "metadata": {},
   "outputs": [],
   "source": [
    "def tokenizer(pt, eta, ):\n",
    "    pt_bins = [0] + np.arange(20, 30, 2).tolist()\n",
    "    eta_bins = [0, 0.5, 1.0, 1.5, 2.0, 2.5]\n",
    "    pt_idx = np.digitize(pt, pt_bins) - 1\n",
    "    eta_idx = np.digitize(eta, eta_bins) - 1\n",
    "    flatten_idx = pt_idx * len(eta_bins) + eta_idx\n",
    "    return flatten_idx"
   ]
  },
  {
   "cell_type": "code",
   "execution_count": 34,
   "metadata": {},
   "outputs": [
    {
     "name": "stdout",
     "output_type": "stream",
     "text": [
      "175\n",
      "250\n",
      "total bins:  43750\n"
     ]
    }
   ],
   "source": [
    "pt_bins = [0] + np.arange(20, 32, 2).tolist() + np.arange(33, 50, 3).tolist() + np.arange(52, 100, 4).tolist() + np.arange(100, 200, 5).tolist() + np.arange(200, 1000, 10).tolist() + np.arange(1000, 2000, 20).tolist()\n",
    "print(len(pt_bins))\n",
    "eta_bins = np.arange(0, 2.5, 0.01).tolist()\n",
    "print(len(eta_bins))\n",
    "print(\"total bins: \", len(pt_bins) * len(eta_bins))"
   ]
  },
  {
   "cell_type": "code",
   "execution_count": null,
   "metadata": {},
   "outputs": [],
   "source": []
  },
  {
   "cell_type": "code",
   "execution_count": 25,
   "metadata": {},
   "outputs": [
    {
     "data": {
      "text/plain": [
       "(2, 11, 6)"
      ]
     },
     "execution_count": 25,
     "metadata": {},
     "output_type": "execute_result"
    }
   ],
   "source": [
    "mesh = np.mgrid[:len(pt_bins), :len(eta_bins)]\n",
    "mesh.shape"
   ]
  },
  {
   "cell_type": "code",
   "execution_count": 18,
   "metadata": {},
   "outputs": [
    {
     "data": {
      "text/plain": [
       "(array([0, 1, 2]),\n",
       " array([[0, 0, 0],\n",
       "        [1, 1, 1],\n",
       "        [2, 2, 2]]),\n",
       " array([2, 2, 2]),\n",
       " array([0, 1, 2]),\n",
       " array([0, 1, 2]))"
      ]
     },
     "execution_count": 18,
     "metadata": {},
     "output_type": "execute_result"
    }
   ],
   "source": [
    "mesh[0, :, 0], mesh[0], mesh[0, 2, :], mesh[1, 2, :], mesh[1, 2, :]"
   ]
  },
  {
   "cell_type": "code",
   "execution_count": null,
   "metadata": {},
   "outputs": [],
   "source": []
  }
 ],
 "metadata": {
  "kernelspec": {
   "display_name": ".venv",
   "language": "python",
   "name": "python3"
  },
  "language_info": {
   "codemirror_mode": {
    "name": "ipython",
    "version": 3
   },
   "file_extension": ".py",
   "mimetype": "text/x-python",
   "name": "python",
   "nbconvert_exporter": "python",
   "pygments_lexer": "ipython3",
   "version": "3.11.7"
  }
 },
 "nbformat": 4,
 "nbformat_minor": 2
}
