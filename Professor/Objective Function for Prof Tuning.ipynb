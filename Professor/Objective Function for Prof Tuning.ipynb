{
 "cells": [
  {
   "cell_type": "markdown",
   "metadata": {},
   "source": [
    "### Add constraints of tuning parameters in the objective function"
   ]
  },
  {
   "cell_type": "markdown",
   "metadata": {},
   "source": [
    "In this case, I have to construct several \"measurements\", build a model for each of them, then construct a matrix of coefficients where each row contains coefficients of each measurement.\n",
    "\n",
    "Such an objective function is not linear! What to expect is hard to tell."
   ]
  },
  {
   "cell_type": "code",
   "execution_count": 14,
   "metadata": {},
   "outputs": [],
   "source": [
    "import poly_func as pfc\n",
    "\n",
    "import numpy as np\n",
    "from scipy import stats\n",
    "import matplotlib.pyplot as plt\n",
    "%matplotlib inline\n",
    "import math\n",
    "from scipy.optimize import minimize\n",
    "from scipy.optimize import leastsq"
   ]
  },
  {
   "cell_type": "code",
   "execution_count": 69,
   "metadata": {},
   "outputs": [],
   "source": [
    "def get_model(coefficient, n_paras, order):\n",
    "    pfacts = pfc.all_facts(n_paras, order)\n",
    "    \n",
    "    def model(dp):\n",
    "        return np.matmul(pfc.multiply(dp, pfacts), coefficient.transpose())\n",
    "    \n",
    "    return model"
   ]
  },
  {
   "cell_type": "code",
   "execution_count": 3,
   "metadata": {},
   "outputs": [],
   "source": [
    "params = ['x1', 'x2']\n",
    "order = 2\n",
    "nscans = 6\n",
    "k1 = 0.1\n",
    "k2 = 5\n",
    "k11 = 0.01\n",
    "k22 = 0.05\n",
    "k12 = 0\n",
    "norm_val = 10\n",
    "xmin = 1\n",
    "xmax = 2"
   ]
  },
  {
   "cell_type": "code",
   "execution_count": 4,
   "metadata": {},
   "outputs": [],
   "source": [
    "def generate_quad_data(nscans, p_err=0.01):\n",
    "    dx1 = np.random.uniform(xmin, xmax, nscans)\n",
    "    dx2 = np.random.uniform(xmin, xmax, nscans)\n",
    "    norm = np.array([norm_val]* nscans)\n",
    "    \n",
    "    data = norm + k1*dx1 + k2*dx2 + k11*dx1*dx1 + k22*dx2*dx2 + k12*dx1*dx2\n",
    "    error = data * np.random.normal(loc=0, scale=0.1, size=nscans)\n",
    "    input_matrix = np.array([dx1, dx2])\n",
    "    \n",
    "    return (input_matrix, data+error, error)"
   ]
  },
  {
   "cell_type": "code",
   "execution_count": 5,
   "metadata": {},
   "outputs": [],
   "source": [
    "generate_data = generate_quad_data"
   ]
  },
  {
   "cell_type": "code",
   "execution_count": 72,
   "metadata": {},
   "outputs": [],
   "source": [
    "nscans = 30\n",
    "in_matrix, data, error = generate_data(nscans, 0.05)\n",
    "test_matrix, test_data, test_error = generate_data(1, 0.05)"
   ]
  },
  {
   "cell_type": "code",
   "execution_count": 73,
   "metadata": {},
   "outputs": [],
   "source": [
    "P = pfc.getMatrixP(in_matrix, order)"
   ]
  },
  {
   "cell_type": "code",
   "execution_count": 74,
   "metadata": {},
   "outputs": [],
   "source": [
    "objective = pfc.chi2_objective(P, data, error)"
   ]
  },
  {
   "cell_type": "code",
   "execution_count": 75,
   "metadata": {},
   "outputs": [],
   "source": [
    "def get_N_coeffienct(n_x, order):\n",
    "    N = 1\n",
    "    for io in range(1, order+1):\n",
    "        multi = 1\n",
    "        for j in range(io):\n",
    "            multi *= n_x + j\n",
    "        multi /= math.factorial(io)\n",
    "        N+= multi\n",
    "    return N"
   ]
  },
  {
   "cell_type": "code",
   "execution_count": 76,
   "metadata": {},
   "outputs": [],
   "source": [
    "X0 = [1]*int(get_N_coeffienct(len(params), order))"
   ]
  },
  {
   "cell_type": "code",
   "execution_count": 77,
   "metadata": {},
   "outputs": [
    {
     "name": "stdout",
     "output_type": "stream",
     "text": [
      "Warning: Maximum number of function evaluations has been exceeded.\n",
      "False\n"
     ]
    }
   ],
   "source": [
    "res = minimize(\n",
    "    objective, X0, method='nelder-mead', \n",
    "    options={'xtol':1e-8, 'disp':True}\n",
    ")\n",
    "print(res.success)"
   ]
  },
  {
   "cell_type": "code",
   "execution_count": 78,
   "metadata": {},
   "outputs": [
    {
     "name": "stdout",
     "output_type": "stream",
     "text": [
      "[ 12.17177316  -0.85849433   3.10154384  -0.23778283   1.08817597\n",
      "   0.1468215 ]\n"
     ]
    }
   ],
   "source": [
    "X = res.x\n",
    "print(X)"
   ]
  },
  {
   "cell_type": "code",
   "execution_count": null,
   "metadata": {},
   "outputs": [],
   "source": []
  },
  {
   "cell_type": "code",
   "execution_count": 79,
   "metadata": {},
   "outputs": [
    {
     "name": "stdout",
     "output_type": "stream",
     "text": [
      "[[ 1.59211779  1.84133158  1.00174206  1.03079292  1.88981071  1.62393121\n",
      "   1.60887976  1.14705054  1.88619143  1.21346997  1.3961274   1.36711437\n",
      "   1.92351495  1.37663785  1.98753082  1.74395247  1.74668264  1.97443722\n",
      "   1.22525189  1.33614329  1.72177446  1.8601663   1.76691486  1.64066533\n",
      "   1.91308773  1.93548491  1.03396464  1.26305793  1.76900315  1.61171942]\n",
      " [ 1.34335339  1.97118453  1.77313755  1.81632796  1.04443536  1.33802556\n",
      "   1.51434449  1.77545523  1.89992018  1.26762312  1.43745753  1.24637809\n",
      "   1.78643404  1.89052254  1.74684314  1.15763409  1.02237112  1.10770829\n",
      "   1.89891281  1.19905061  1.55987195  1.58193416  1.39017521  1.63386044\n",
      "   1.72738874  1.65113316  1.01541164  1.08996491  1.17036189  1.32309198]]\n",
      "(2, 30)\n"
     ]
    }
   ],
   "source": [
    "print(in_matrix)\n",
    "print(in_matrix.shape)"
   ]
  },
  {
   "cell_type": "code",
   "execution_count": 80,
   "metadata": {},
   "outputs": [],
   "source": [
    "dp = in_matrix[:, 0]"
   ]
  },
  {
   "cell_type": "code",
   "execution_count": 81,
   "metadata": {},
   "outputs": [
    {
     "data": {
      "text/plain": [
       "16.960996659063802"
      ]
     },
     "execution_count": 81,
     "metadata": {},
     "output_type": "execute_result"
    }
   ],
   "source": [
    "model = get_model(X, len(params), order)\n",
    "model(dp)"
   ]
  },
  {
   "cell_type": "code",
   "execution_count": 82,
   "metadata": {},
   "outputs": [
    {
     "name": "stdout",
     "output_type": "stream",
     "text": [
      "[ 13.29012097]\n",
      "[[ 1.74037916]\n",
      " [ 1.01974254]]\n"
     ]
    }
   ],
   "source": [
    "print(test_data)\n",
    "print(test_matrix)"
   ]
  },
  {
   "cell_type": "code",
   "execution_count": 83,
   "metadata": {},
   "outputs": [
    {
     "data": {
      "text/plain": [
       "15.204122581347649"
      ]
     },
     "execution_count": 83,
     "metadata": {},
     "output_type": "execute_result"
    }
   ],
   "source": [
    "model(test_matrix[:, 0])"
   ]
  },
  {
   "cell_type": "code",
   "execution_count": 84,
   "metadata": {},
   "outputs": [],
   "source": [
    "def get_objective(coefficient, data, error, n_paras, order):\n",
    "    pfacts = pfc.all_facts(n_paras, order)\n",
    "    \n",
    "    def model(dp):\n",
    "        predi = np.matmul(pfc.multiply(dp, pfacts), coefficient.transpose())\n",
    "        return sum( ((predi - data)/error)**2 )\n",
    "    \n",
    "    return model"
   ]
  },
  {
   "cell_type": "code",
   "execution_count": 85,
   "metadata": {},
   "outputs": [],
   "source": [
    "obj_tune = get_objective(X, test_data, test_error, len(params), order)"
   ]
  },
  {
   "cell_type": "code",
   "execution_count": 86,
   "metadata": {},
   "outputs": [],
   "source": [
    "P0 = [0.]*len(params)"
   ]
  },
  {
   "cell_type": "code",
   "execution_count": 87,
   "metadata": {},
   "outputs": [
    {
     "name": "stdout",
     "output_type": "stream",
     "text": [
      "Optimization terminated successfully.\n",
      "         Current function value: 0.000000\n",
      "         Iterations: 98\n",
      "         Function evaluations: 183\n",
      "True\n"
     ]
    }
   ],
   "source": [
    "res_tune = minimize(\n",
    "    obj_tune, P0, method='nelder-mead', \n",
    "    options={'xtol':1e-8, 'disp':True}\n",
    ")\n",
    "print(res_tune.success)"
   ]
  },
  {
   "cell_type": "code",
   "execution_count": 88,
   "metadata": {},
   "outputs": [
    {
     "data": {
      "text/plain": [
       "0.0"
      ]
     },
     "execution_count": 88,
     "metadata": {},
     "output_type": "execute_result"
    }
   ],
   "source": [
    "obj_tune(res_tune.x)"
   ]
  },
  {
   "cell_type": "code",
   "execution_count": 89,
   "metadata": {},
   "outputs": [
    {
     "data": {
      "text/plain": [
       "(1,)"
      ]
     },
     "execution_count": 89,
     "metadata": {},
     "output_type": "execute_result"
    }
   ],
   "source": [
    "test_data.shape"
   ]
  },
  {
   "cell_type": "code",
   "execution_count": 90,
   "metadata": {},
   "outputs": [
    {
     "data": {
      "text/plain": [
       "13.290120972090829"
      ]
     },
     "execution_count": 90,
     "metadata": {},
     "output_type": "execute_result"
    }
   ],
   "source": [
    "model = get_model(X, len(params), order)\n",
    "model(res_tune.x)"
   ]
  },
  {
   "cell_type": "code",
   "execution_count": 91,
   "metadata": {},
   "outputs": [
    {
     "data": {
      "text/plain": [
       "array([ 13.29012097])"
      ]
     },
     "execution_count": 91,
     "metadata": {},
     "output_type": "execute_result"
    }
   ],
   "source": [
    "test_data"
   ]
  },
  {
   "cell_type": "code",
   "execution_count": 92,
   "metadata": {},
   "outputs": [
    {
     "data": {
      "text/plain": [
       "array([-0.36132796,  0.30481692])"
      ]
     },
     "execution_count": 92,
     "metadata": {},
     "output_type": "execute_result"
    }
   ],
   "source": [
    "res_tune.x"
   ]
  },
  {
   "cell_type": "code",
   "execution_count": 93,
   "metadata": {},
   "outputs": [
    {
     "data": {
      "text/plain": [
       "array([[ 1.74037916],\n",
       "       [ 1.01974254]])"
      ]
     },
     "execution_count": 93,
     "metadata": {},
     "output_type": "execute_result"
    }
   ],
   "source": [
    "test_matrix"
   ]
  },
  {
   "cell_type": "code",
   "execution_count": null,
   "metadata": {},
   "outputs": [],
   "source": []
  }
 ],
 "metadata": {
  "kernelspec": {
   "display_name": "Python 3",
   "language": "python",
   "name": "python3"
  },
  "language_info": {
   "codemirror_mode": {
    "name": "ipython",
    "version": 3
   },
   "file_extension": ".py",
   "mimetype": "text/x-python",
   "name": "python",
   "nbconvert_exporter": "python",
   "pygments_lexer": "ipython3",
   "version": "3.7.4"
  }
 },
 "nbformat": 4,
 "nbformat_minor": 4
}
