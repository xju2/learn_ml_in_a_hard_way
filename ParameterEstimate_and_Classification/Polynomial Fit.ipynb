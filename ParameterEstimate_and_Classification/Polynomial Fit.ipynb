{
 "cells": [
  {
   "cell_type": "code",
   "execution_count": 1,
   "metadata": {},
   "outputs": [
    {
     "name": "stdout",
     "output_type": "stream",
     "text": [
      "Welcome to JupyROOT 6.12/04\n"
     ]
    }
   ],
   "source": [
    "import numpy as np\n",
    "import matplotlib.pyplot as plt\n",
    "from scipy import stats\n",
    "%matplotlib inline\n",
    "\n",
    "from array import array\n",
    "import ROOT"
   ]
  },
  {
   "cell_type": "code",
   "execution_count": 37,
   "metadata": {
    "collapsed": true,
    "jupyter": {
     "outputs_hidden": true
    }
   },
   "outputs": [],
   "source": [
    "def poly_str(order):\n",
    "    if order < 0:\n",
    "        return \"\"\n",
    "    \n",
    "    o3_str = \"[0] + [1]*x + [2]*x*x + [3]*x*x*x\"\n",
    "    if order == 0:\n",
    "        return \"[0]\"\n",
    "    elif order == 1:\n",
    "        return \"[0] + [1]*x\"\n",
    "    elif order == 2:\n",
    "        return \"[0] + [1]*x + [2]*x*x\"\n",
    "    elif order == 3:\n",
    "        return o3_str\n",
    "    else:\n",
    "        return o3_str + \" + \"  + \" + \".join([\"[{}]*TMath::Power(x, {})\".format(4+i, 4+i) for i in range(order-3)])"
   ]
  },
  {
   "cell_type": "code",
   "execution_count": 41,
   "metadata": {
    "collapsed": true,
    "jupyter": {
     "outputs_hidden": true
    }
   },
   "outputs": [],
   "source": [
    "def fit_graph(file_name, can_name, obj_name, order):\n",
    "    file_ = ROOT.TFile.Open(file_name)\n",
    "    canvas = file_.Get(can_name)\n",
    "    graph = canvas.GetPrimitive(obj_name)\n",
    "#     graph.Print()\n",
    "    x = list(graph.GetX())\n",
    "    y = list(graph.GetY())\n",
    "    poly = ROOT.TF1(\"poly\", poly_str(order), min(x), max(x))\n",
    "    \n",
    "    parameters = array('d', [0]*(order+1))\n",
    "    poly.SetParameters(parameters)\n",
    "    results = graph.Fit('poly', 'S')\n",
    "    \n",
    "    file_.Close()\n",
    "    return x, y, results"
   ]
  },
  {
   "cell_type": "code",
   "execution_count": 39,
   "metadata": {
    "collapsed": true,
    "jupyter": {
     "outputs_hidden": true
    }
   },
   "outputs": [],
   "source": [
    "def TMatrix_to_numpy(matrix):\n",
    "    nrows = matrix.GetNrows()\n",
    "    ncols = matrix.GetNcols()\n",
    "    mat_np = np.zeros((nrows, ncols))\n",
    "    for ir in range(nrows):\n",
    "        for ic in range(ncols):\n",
    "            mat_np[ir][ic] = matrix[ir][ic]\n",
    "    \n",
    "    return mat_np\n",
    "\n",
    "def jacobian(x, order):\n",
    "    return np.array([x**(ii) for ii in range(order+1)])\n",
    "\n",
    "def plot_band(x, y, results, x_label=\"None\", y_label=\"None\"):\n",
    "    p = [x for x in results.Parameters()]\n",
    "    V = TMatrix_to_numpy(results.GetCovarianceMatrix())\n",
    "    \n",
    "    order = len(p) - 1\n",
    "    \n",
    "    #p, V = np.polyfit(x, data, order, cov=True)\n",
    "    # p is a array of bested fitted parameters, arranged such as high order comes first!\n",
    "    # V is the covariance-variance matrix.\n",
    "    fit_poly = np.poly1d(list(reversed(p)))\n",
    "    true_x = np.linspace(min(x), max(x), 100)\n",
    "    fitted_y = fit_poly(true_x)\n",
    "\n",
    "    fitted_y_err = []\n",
    "    for xi in true_x:\n",
    "        variance_y = np.matmul(jacobian(xi, order), np.matmul(V, jacobian(xi, order).transpose()))\n",
    "        fitted_y_err.append(np.sqrt(variance_y))\n",
    "    fitted_y_err = np.array(fitted_y_err)\n",
    "\n",
    "    fitted_y_up = fitted_y + fitted_y_err\n",
    "    fitted_y_down = fitted_y - fitted_y_err\n",
    "    \n",
    "    y_err = [np.sqrt(np.matmul(jacobian(xi, order), np.matmul(V, jacobian(xi, order).transpose()))) for xi in x]\n",
    "\n",
    "    plt.plot(x, y, '*', label='data')\n",
    "    plt.plot(true_x, fitted_y, '--', label='fitted')\n",
    "    plt.fill_between(true_x, fitted_y_down, fitted_y_up, color='orange')\n",
    "    plt.xlabel(x_label)\n",
    "    plt.ylabel(y_label)\n",
    "    plt.legend()\n",
    "    return fit_poly(x), y_err"
   ]
  },
  {
   "cell_type": "code",
   "execution_count": 42,
   "metadata": {},
   "outputs": [
    {
     "data": {
      "image/png": "[encoded data removed]",
      "text/plain": [
       "<matplotlib.figure.Figure at 0x12a513d68>"
      ]
     },
     "metadata": {},
     "output_type": "display_data"
    },
    {
     "name": "stdout",
     "output_type": "stream",
     "text": [
      " FCN=11.4286 FROM MIGRAD    STATUS=CONVERGED     125 CALLS         126 TOTAL\n",
      "                     EDM=6.32042e-15    STRATEGY= 1      ERROR MATRIX ACCURATE \n",
      "  EXT PARAMETER                                   STEP         FIRST   \n",
      "  NO.   NAME      VALUE            ERROR          SIZE      DERIVATIVE \n",
      "   1  p0           4.97576e-03   2.23666e-01   4.37570e-05  -4.68884e-07\n",
      "   2  p1           9.96686e-01   1.49785e-03   4.75257e-07  -3.41511e-05\n",
      "   3  p2           3.04713e-06   2.77700e-06   1.46223e-10  -1.79491e-02\n",
      "   4  p3          -8.12396e-10   1.50644e-09   3.00000e-12   7.61907e+00\n"
     ]
    }
   ],
   "source": [
    "fit_y, y_err = plot_band(\n",
    "    * (fit_graph('../data/gg_parametrization_fit_2mu2e.root', 'canvas_mass_mean_2mu2e', 'graph_mass_mean_2mu2e', 3)),\n",
    "    x_label=\"$m_H$\", y_label=\"$\\mu$\")"
   ]
  },
  {
   "cell_type": "code",
   "execution_count": 43,
   "metadata": {},
   "outputs": [
    {
     "name": "stdout",
     "output_type": "stream",
     "text": [
      "[0.037118281895506859, 0.035230729368041766, 0.045587910072667832, 0.047670312139676825, 0.051419713678630609, 0.062356660807383467, 0.075160027854758948, 0.084994282197399004, 0.099531003062444889, 0.24335519403577638]\n"
     ]
    }
   ],
   "source": [
    "print(y_err)"
   ]
  },
  {
   "cell_type": "code",
   "execution_count": 44,
   "metadata": {},
   "outputs": [
    {
     "data": {
      "image/png": "[encoded data removed]",
      "text/plain": [
       "<matplotlib.figure.Figure at 0x12a519f60>"
      ]
     },
     "metadata": {},
     "output_type": "display_data"
    },
    {
     "name": "stdout",
     "output_type": "stream",
     "text": [
      " FCN=15.3468 FROM MIGRAD    STATUS=CONVERGED     115 CALLS         116 TOTAL\n",
      "                     EDM=2.2942e-19    STRATEGY= 1      ERROR MATRIX ACCURATE \n",
      "  EXT PARAMETER                                   STEP         FIRST   \n",
      "  NO.   NAME      VALUE            ERROR          SIZE      DERIVATIVE \n",
      "   1  p0           5.04767e-01   3.68055e-01   7.93260e-05  -1.06367e-09\n",
      "   2  p1           9.05152e-03   2.52105e-03   2.01537e-07  -1.54246e-07\n",
      "   3  p2           2.48901e-06   4.67973e-06   2.82854e-10   1.25602e-04\n",
      "   4  p3          -5.33061e-10   2.53796e-09   3.08515e-13  -2.87889e-02\n"
     ]
    }
   ],
   "source": [
    "fit_y, y_err = plot_band(\n",
    "    * (fit_graph('../data/gg_parametrization_fit_2mu2e.root', 'canvas_mass_cb_sigma_2mu2e', 'graph_mass_cb_sigma_2mu2e', 3)),\n",
    "    x_label=\"$m_H$\", y_label=\"CB $\\sigma$\")"
   ]
  },
  {
   "cell_type": "code",
   "execution_count": 46,
   "metadata": {},
   "outputs": [
    {
     "data": {
      "image/png": "[encoded data removed]",
      "text/plain": [
       "<matplotlib.figure.Figure at 0x12a3c8c50>"
      ]
     },
     "metadata": {},
     "output_type": "display_data"
    },
    {
     "name": "stdout",
     "output_type": "stream",
     "text": [
      " FCN=4.98091 FROM MIGRAD    STATUS=CONVERGED     112 CALLS         113 TOTAL\n",
      "                     EDM=3.8413e-20    STRATEGY= 1      ERROR MATRIX ACCURATE \n",
      "  EXT PARAMETER                                   STEP         FIRST   \n",
      "  NO.   NAME      VALUE            ERROR          SIZE      DERIVATIVE \n",
      "   1  p0           1.06821e+01   2.89961e+00   2.97443e-04  -3.73256e-11\n",
      "   2  p1          -3.66980e-02   1.55984e-02   5.20283e-07   5.54810e-08\n",
      "   3  p2           9.80725e-05   2.59274e-05   7.22736e-10   3.68674e-05\n",
      "   4  p3          -4.06894e-08   1.31839e-08   9.07273e-13   1.71317e-02\n"
     ]
    }
   ],
   "source": [
    "fit_y, y_err = plot_band(\n",
    "    * (fit_graph('../data/gg_parametrization_fit_2mu2e.root', 'canvas_mass_gauss_sigma_2mu2e', 'graph_mass_gauss_sigma_2mu2e', 3)),\n",
    "    x_label=\"$m_H$\", y_label=\"Gauss $\\sigma$\")"
   ]
  },
  {
   "cell_type": "code",
   "execution_count": null,
   "metadata": {
    "collapsed": true,
    "jupyter": {
     "outputs_hidden": true
    }
   },
   "outputs": [],
   "source": []
  }
 ],
 "metadata": {
  "kernelspec": {
   "display_name": "Python 3",
   "language": "python",
   "name": "python3"
  },
  "language_info": {
   "codemirror_mode": {
    "name": "ipython",
    "version": 3
   },
   "file_extension": ".py",
   "mimetype": "text/x-python",
   "name": "python",
   "nbconvert_exporter": "python",
   "pygments_lexer": "ipython3",
   "version": "3.7.4"
  }
 },
 "nbformat": 4,
 "nbformat_minor": 4
}
