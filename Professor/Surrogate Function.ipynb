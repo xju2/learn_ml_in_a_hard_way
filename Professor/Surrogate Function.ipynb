{
 "cells": [
  {
   "cell_type": "code",
   "execution_count": 1,
   "metadata": {},
   "outputs": [],
   "source": [
    "import numpy as np\n",
    "from scipy import stats\n",
    "import matplotlib.pyplot as plt\n",
    "%matplotlib inline\n",
    "import math\n",
    "from scipy.optimize import minimize\n",
    "from scipy.optimize import leastsq"
   ]
  },
  {
   "cell_type": "code",
   "execution_count": 2,
   "metadata": {},
   "outputs": [],
   "source": [
    "from poly_func import getMatrixP"
   ]
  },
  {
   "cell_type": "markdown",
   "metadata": {},
   "source": [
    "Implement the modified miniziation function to obtain coefficients of polynomial equations"
   ]
  },
  {
   "cell_type": "code",
   "execution_count": 3,
   "metadata": {},
   "outputs": [],
   "source": [
    "params = ['x1', 'x2']\n",
    "order = 2\n",
    "nscans = 6\n",
    "k1 = 0.1\n",
    "k2 = 5\n",
    "k11 = 0.01\n",
    "k22 = 0.05\n",
    "k12 = 0\n",
    "norm_val = 10\n",
    "xmin = 1\n",
    "xmax = 2"
   ]
  },
  {
   "cell_type": "code",
   "execution_count": 4,
   "metadata": {},
   "outputs": [],
   "source": [
    "def generate_linear_data(nscans, p_err=0.01):\n",
    "    dx1 = np.random.uniform(xmin, xmax, nscans)\n",
    "    dx2 = np.random.uniform(xmin, xmax, nscans)\n",
    "    norm = np.array([norm_val]* nscans)\n",
    "    \n",
    "    data = norm + k1*dx1 + k2*dx2\n",
    "    error = data * np.random.normal(loc=0, scale=p_err, size=nscans)\n",
    "    input_matrix = np.array([dx1, dx2])\n",
    "    \n",
    "#     return (input_matrix, data, error)\n",
    "    return (input_matrix, data+error, error)"
   ]
  },
  {
   "cell_type": "code",
   "execution_count": 5,
   "metadata": {},
   "outputs": [],
   "source": [
    "def generate_quad_data(nscans, p_err=0.01):\n",
    "    dx1 = np.random.uniform(xmin, xmax, nscans)\n",
    "    dx2 = np.random.uniform(xmin, xmax, nscans)\n",
    "    norm = np.array([norm_val]* nscans)\n",
    "    \n",
    "    data = norm + k1*dx1 + k2*dx2 + k11*dx1*dx1 + k22*dx2*dx2 + k12*dx1*dx2\n",
    "    error = data * np.random.normal(loc=0, scale=0.1, size=nscans)\n",
    "    input_matrix = np.array([dx1, dx2])\n",
    "    \n",
    "    return (input_matrix, data+error, error)"
   ]
  },
  {
   "cell_type": "code",
   "execution_count": 6,
   "metadata": {},
   "outputs": [],
   "source": [
    "generate_data = generate_quad_data"
   ]
  },
  {
   "cell_type": "code",
   "execution_count": 7,
   "metadata": {},
   "outputs": [],
   "source": [
    "def get_N_coeffienct(n_x, order):\n",
    "    N = 1\n",
    "    for io in range(1, order+1):\n",
    "        multi = 1\n",
    "        for j in range(io):\n",
    "            multi *= n_x + j\n",
    "        multi /= math.factorial(io)\n",
    "        N+= multi\n",
    "    return N"
   ]
  },
  {
   "cell_type": "code",
   "execution_count": 8,
   "metadata": {},
   "outputs": [],
   "source": [
    "def get_N_entry(n_x, order):\n",
    "    multi = 1\n",
    "    for j in range(order):\n",
    "        multi *= n_x + j\n",
    "    multi /= math.factorial(order)\n",
    "\n",
    "    return multi"
   ]
  },
  {
   "cell_type": "code",
   "execution_count": 9,
   "metadata": {},
   "outputs": [],
   "source": [
    "def get_objective_func(P, data, error):\n",
    "    \"\"\"The objective function to be minized\"\"\"\n",
    "    nscans = P.shape[0]\n",
    "    def objective(X):\n",
    "        return sum( (np.matmul(P, X) - data)**2/error**2 )/nscans\n",
    "    \n",
    "    return objective"
   ]
  },
  {
   "cell_type": "code",
   "execution_count": 10,
   "metadata": {},
   "outputs": [],
   "source": [
    "def get_objective_func_noError(P, data, error):\n",
    "    \"\"\"The objective function to be minized\"\"\"\n",
    "    nscans = P.shape[0]\n",
    "    def objective(X):\n",
    "        return sum( (np.matmul(P, X) - data)**2 )/nscans\n",
    "    \n",
    "    return objective"
   ]
  },
  {
   "cell_type": "code",
   "execution_count": 11,
   "metadata": {},
   "outputs": [],
   "source": [
    "nscans = 6\n",
    "in_matrix, data, error = generate_data(nscans, 0.05)\n",
    "test_matrix, test_data, test_error = generate_data(nscans, 0.05)"
   ]
  },
  {
   "cell_type": "code",
   "execution_count": 12,
   "metadata": {},
   "outputs": [],
   "source": [
    "P = getMatrixP(in_matrix, order)"
   ]
  },
  {
   "cell_type": "code",
   "execution_count": 13,
   "metadata": {},
   "outputs": [
    {
     "data": {
      "text/plain": [
       "(6, 6)"
      ]
     },
     "execution_count": 13,
     "metadata": {},
     "output_type": "execute_result"
    }
   ],
   "source": [
    "P.shape"
   ]
  },
  {
   "cell_type": "code",
   "execution_count": 14,
   "metadata": {},
   "outputs": [],
   "source": [
    "objective = get_objective_func(P, data, error)\n",
    "objective_no_error = get_objective_func_noError(P, data, error)\n",
    "obj_test = get_objective_func_noError(P, test_data, error)"
   ]
  },
  {
   "cell_type": "code",
   "execution_count": 15,
   "metadata": {},
   "outputs": [],
   "source": [
    "X0 = [1]*int(get_N_coeffienct(len(params), order))"
   ]
  },
  {
   "cell_type": "code",
   "execution_count": 16,
   "metadata": {},
   "outputs": [
    {
     "data": {
      "text/plain": [
       "273.7699261013762"
      ]
     },
     "execution_count": 16,
     "metadata": {},
     "output_type": "execute_result"
    }
   ],
   "source": [
    "objective(X0)"
   ]
  },
  {
   "cell_type": "code",
   "execution_count": 17,
   "metadata": {},
   "outputs": [
    {
     "name": "stdout",
     "output_type": "stream",
     "text": [
      "Warning: Maximum number of function evaluations has been exceeded.\n",
      "False\n"
     ]
    }
   ],
   "source": [
    "res = minimize(\n",
    "    objective, X0, method='nelder-mead', \n",
    "    options={'xtol':1e-8, 'disp':True}\n",
    ")\n",
    "print(res.success)"
   ]
  },
  {
   "cell_type": "code",
   "execution_count": 18,
   "metadata": {},
   "outputs": [
    {
     "name": "stdout",
     "output_type": "stream",
     "text": [
      "0.325290698247\n",
      "Maximum number of function evaluations has been exceeded.\n"
     ]
    }
   ],
   "source": [
    "print(objective(res.x))\n",
    "print(res.message)"
   ]
  },
  {
   "cell_type": "code",
   "execution_count": 19,
   "metadata": {},
   "outputs": [
    {
     "name": "stdout",
     "output_type": "stream",
     "text": [
      "Warning: Maximum number of function evaluations has been exceeded.\n",
      "False\n"
     ]
    }
   ],
   "source": [
    "res_no_error = minimize(\n",
    "    objective_no_error, X0, method='nelder-mead', \n",
    "    options={'xtol':1e-8, 'disp':True}\n",
    ")\n",
    "print(res_no_error.success)"
   ]
  },
  {
   "cell_type": "code",
   "execution_count": 20,
   "metadata": {},
   "outputs": [
    {
     "name": "stdout",
     "output_type": "stream",
     "text": [
      "Truth: 10.00 0.10 5.00 0.01 0.05 0.00\n",
      "With error: -6.56 6.81 25.64 -0.64 -5.16 -5.24\n",
      "No error: 78.61 -27.66 -71.02 -13.32 52.07 -0.32\n",
      "Psudo-Inv: 314.60 -220.48 -208.06 180.88 -241.04 199.14\n",
      "3.91750625669\n",
      "0.677770942441\n",
      "6.03073643896e-26\n",
      "7.31078147073\n",
      "13.3879581429\n",
      "13.3687873959\n"
     ]
    }
   ],
   "source": [
    "print(\"Truth: \" + \" \".join(\"{:.2f}\".format(xx) for xx in [norm_val, k1, k2, k11, k22, k12]))\n",
    "X = res.x.tolist()\n",
    "X2 = res_no_error.x.tolist()\n",
    "XP = np.matmul(np.linalg.pinv(P), data)\n",
    "print(\"With error: \" + \" \".join([\"{:.2f}\".format(xx) for xx in X]))\n",
    "print(\"No error: \" + \" \".join([\"{:.2f}\".format(xx) for xx in X2]))\n",
    "print(\"Psudo-Inv: \" + \" \".join([\"{:.2f}\".format(xx) for xx in XP]))\n",
    "print(objective_no_error(X))\n",
    "print(objective_no_error(X2))\n",
    "print(objective_no_error(XP))\n",
    "print(obj_test(X))\n",
    "print(obj_test(X2))\n",
    "print(obj_test(XP))"
   ]
  },
  {
   "cell_type": "code",
   "execution_count": 15,
   "metadata": {},
   "outputs": [],
   "source": [
    "def study_scans(nscans, p_err=0.01):\n",
    "    in_matrix, data, error = generate_data(nscans, p_err)\n",
    "    test_data = generate_data(nscans, p_err)[1]\n",
    "\n",
    "    P = getMatrixP(in_matrix, order)\n",
    "    objective = get_objective_func(P, data, error)\n",
    "    objective_no_error = get_objective_func_noError(P, data, error)\n",
    "    obj_test = get_objective_func_noError(P, test_data, error)\n",
    "    \n",
    "    X0 = [1]*int(get_N_coeffienct(len(params), order))\n",
    "    res = minimize(\n",
    "        objective, X0, method='nelder-mead', \n",
    "        options={'xtol':1e-8, 'disp':False}\n",
    "    )\n",
    "\n",
    "    res_no_error = minimize(\n",
    "        objective_no_error, X0, method='nelder-mead', \n",
    "        options={'xtol':1e-8, 'disp':False}\n",
    "    )\n",
    "    \n",
    "    X = res.x.tolist()\n",
    "    X2 = res_no_error.x.tolist()    \n",
    "    XP = np.matmul(np.linalg.pinv(P), data)\n",
    "\n",
    "    return obj_test(X), obj_test(X2), obj_test(XP)"
   ]
  },
  {
   "cell_type": "code",
   "execution_count": 16,
   "metadata": {},
   "outputs": [],
   "source": [
    "def plot(res_list, label_list):\n",
    "    res1 = res_list[0]\n",
    "    mean = np.mean(res1)\n",
    "    std = np.std(res1)\n",
    "    hist_x_max = mean + 3*std\n",
    "    hist_x_min = mean - 3*std\n",
    "    nbins = 50\n",
    "    for res, label in zip(res_list, label_list):\n",
    "        plt.hist(res, bins=nbins, range=(hist_x_min, hist_x_max),\n",
    "                 histtype='step', label=label, lw=2)\n",
    "\n",
    "    plt.legend()"
   ]
  },
  {
   "cell_type": "code",
   "execution_count": 17,
   "metadata": {},
   "outputs": [],
   "source": [
    "def stats(results):\n",
    "    for ir in results:\n",
    "        print(np.mean(ir), np.std(ir))"
   ]
  },
  {
   "cell_type": "code",
   "execution_count": 18,
   "metadata": {},
   "outputs": [],
   "source": [
    "labels = ['with error', 'no error', 'pseudo-inverse']"
   ]
  },
  {
   "cell_type": "code",
   "execution_count": 37,
   "metadata": {},
   "outputs": [
    {
     "name": "stdout",
     "output_type": "stream",
     "text": [
      "7.8240679589 2.00197157638\n",
      "8.2842775873 2.27609261783\n",
      "8.30862536463 2.27407642629\n"
     ]
    },
    {
     "data": {
      "image/png": "[encoded data removed]",
      "text/plain": [
       "<matplotlib.figure.Figure at 0x1144fa518>"
      ]
     },
     "metadata": {},
     "output_type": "display_data"
    }
   ],
   "source": [
    "res_with_error100 = []\n",
    "res_no_error100 = []\n",
    "res_pinv_error100 = []\n",
    "for i in range(5000):\n",
    "    with_error, no_err, pinv_err = study_scans(30, 0.05)\n",
    "    res_with_error100.append(with_error)\n",
    "    res_no_error100.append(no_err)\n",
    "    res_pinv_error100.append(pinv_err)\n",
    "\n",
    "res100 = [res_with_error100, res_no_error100, res_pinv_error100]\n",
    "\n",
    "plot(res100, labels)\n",
    "stats(res100)"
   ]
  },
  {
   "cell_type": "code",
   "execution_count": 19,
   "metadata": {},
   "outputs": [
    {
     "name": "stdout",
     "output_type": "stream",
     "text": [
      "7.80639121299 2.01986000544\n",
      "8.26476382569 2.25140288359\n",
      "8.28823036049 2.24922657473\n"
     ]
    },
    {
     "data": {
      "image/png": "[encoded data removed]",
      "text/plain": [
       "<matplotlib.figure.Figure at 0x11004dc50>"
      ]
     },
     "metadata": {},
     "output_type": "display_data"
    }
   ],
   "source": [
    "results = []\n",
    "results.append([])\n",
    "results.append([])\n",
    "results.append([])\n",
    "\n",
    "for i in range(5000):\n",
    "    with_error, no_err, pinv_err = study_scans(30, 0.10)\n",
    "    results[0].append(with_error)\n",
    "    results[1].append(no_err)\n",
    "    results[2].append(pinv_err)\n",
    "\n",
    "plot(results, labels)\n",
    "stats(results)"
   ]
  }
 ],
 "metadata": {
  "kernelspec": {
   "display_name": "Python 3",
   "language": "python",
   "name": "python3"
  },
  "language_info": {
   "codemirror_mode": {
    "name": "ipython",
    "version": 3
   },
   "file_extension": ".py",
   "mimetype": "text/x-python",
   "name": "python",
   "nbconvert_exporter": "python",
   "pygments_lexer": "ipython3",
   "version": "3.6.2"
  }
 },
 "nbformat": 4,
 "nbformat_minor": 2
}
