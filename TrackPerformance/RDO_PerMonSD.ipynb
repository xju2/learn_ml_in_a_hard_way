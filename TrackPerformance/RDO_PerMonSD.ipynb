{
 "cells": [
  {
   "cell_type": "code",
   "execution_count": 30,
   "metadata": {},
   "outputs": [],
   "source": [
    "import pickle\n",
    "import matplotlib.pyplot as plt\n",
    "%matplotlib inline\n",
    "\n",
    "import pandas as pd\n",
    "import numpy as np\n",
    "import pprint"
   ]
  },
  {
   "cell_type": "code",
   "execution_count": 35,
   "metadata": {},
   "outputs": [],
   "source": [
    "pp = pprint.PrettyPrinter(indent=2)"
   ]
  },
  {
   "cell_type": "code",
   "execution_count": 2,
   "metadata": {},
   "outputs": [],
   "source": [
    "data = pickle.load(open(\"../data/log_RDO.pkl\", 'rb'))"
   ]
  },
  {
   "cell_type": "code",
   "execution_count": 3,
   "metadata": {},
   "outputs": [],
   "source": [
    "info = data[0]"
   ]
  },
  {
   "cell_type": "code",
   "execution_count": 4,
   "metadata": {},
   "outputs": [
    {
     "name": "stdout",
     "output_type": "stream",
     "text": [
      "dict_keys(['full_info', 'version', 'evt_max_info', 'fulloutput_file', 'steps_comps', 'steps_totals', 'special'])\n"
     ]
    }
   ],
   "source": [
    "print(info.keys())"
   ]
  },
  {
   "cell_type": "code",
   "execution_count": 37,
   "metadata": {},
   "outputs": [
    {
     "name": "stdout",
     "output_type": "stream",
     "text": [
      "full_info: True\n",
      "version: (1, 0)\n",
      "fulloutput_file: ntuple_rdotoesdaod.pmon.gz\n",
      "steps_totals: {'preLoadProxy': {'[total_for_5_comps]': {'vmem': 0.0, 'malloc': 0.0, 'cpu': 0.0, 'order': 566, 'n': 4}, '[total_for_1_comps]:n=9': {'vmem': 0.0, 'malloc': 0.0, 'cpu': 0.0, 'order': 569, 'n': 9}, '[total_for_380_comps]': {'vmem': 1037976.0, 'malloc': 355008.0, 'cpu': 15030.0, 'order': 563, 'n': 1}, '[total_for_142_comps]': {'vmem': 2488.0, 'malloc': 4511.0, 'cpu': 100.0, 'order': 564, 'n': 2}, '[total_for_1_comps]': {'vmem': 0.0, 'malloc': 0.0, 'cpu': 0.0, 'order': 568, 'n': 7}, '[total_for_29_comps]': {'vmem': 0.0, 'malloc': 5.0, 'cpu': 0.0, 'order': 565, 'n': 3}, '[total_for_4_comps]': {'vmem': 0.0, 'malloc': 1.0, 'cpu': 0.0, 'order': 567, 'n': 5}, '[total_for_1_comps]:n=22': {'vmem': 0.0, 'malloc': 0.0, 'cpu': 0.0, 'order': 570, 'n': 22}}, 'cbk': {'[total_for_90_comps]': {'vmem': 20.0, 'malloc': 35739.0, 'cpu': 7240.0, 'order': 93, 'n': 1}, '[total_for_3_comps]': {'vmem': 0.0, 'malloc': 1.0, 'cpu': 5.0, 'order': 94, 'n': 2}}, 'dso': {'[total_for_723_comps]': {'vmem': 342628.0, 'malloc': 39961.0, 'cpu': 8610.0, 'order': 723, 'n': 1}}, 'ini': {'[total_for_482_comps]': {'vmem': 182448.0, 'malloc': 190656.0, 'cpu': 3040.0, 'order': 482, 'n': 1}}, '1st': {'[total_for_102_comps]': {'vmem': 0.0, 'malloc': 478381.0, 'cpu': 24250.0, 'order': 102, 'n': 1}}, 'evt': {'[total_for_102_comps]': {'vmem': 0.0, 'malloc': 245130.0, 'cpu': 17675.0, 'order': 102, 'n': 2}}, 'fin': {'[total_for_485_comps]': {'vmem': 0.0, 'malloc': -462329.0, 'cpu': 490.0, 'order': 485, 'n': 1}}}\n",
      "special: {'leaks': {'leakperevt_evt101plus': {'vmem': 0.0, 'malloc': 0.0, 'n': 0}, 'leakperevt_evt11to100': {'vmem': 0.0, 'malloc': 0.0, 'n': 0}}, 'values': {'rss_mean': 1478736.0, 'cpu_res': 10.0, 'cpu_bmips': 5188.0, 'pmonsd_cost_perevt': 5.0, 'jobcfg_walltime': 68546.0, 'pycintex_vmemfix': 0.0, 'cpu_model': 'Intel(R)_Xeon(R)_CPU_E5-2670_0_@_2.60GHz/20480_KB', 'malloc': 'libtcmalloc_minimal.so/ok', 'release': '21.0.53/x86_64-slc6-gcc62-opt', 'vmem_mean': 2549192.0, 'jobstart': '2018-10-26T00:20:03+0000', 'pmonsd_cost_onceperjob': 85.0, 'vmem_peak': 2554208.0}, 'snapshots': {'snapshot_post_1stevt': {'wall': 581104.0, 'vmem': 2549192.0, 'malloc': 1231731.0, 'cpu': 59740.0, 'n': 1}, 'snapshot_post_fin': {'wall': 618375.0, 'vmem': 2550112.0, 'malloc': 669883.0, 'cpu': 96310.0, 'n': 1}, 'snapshot_post_ini': {'wall': 540227.0, 'vmem': 2522476.0, 'malloc': 1050932.0, 'cpu': 33370.0, 'n': 1}, 'snapshot_pre_ini': {'wall': 0.0, 'vmem': 963880.0, 'malloc': 386829.0, 'cpu': 0.0, 'n': 1}, 'snapshot_post_lastevt': {'wall': 617868.0, 'vmem': 2550112.0, 'malloc': 1132179.0, 'cpu': 95810.0, 'n': 1}}, 'timings': {'evtloop_time': {'wall': 18382.0, 'cpu': 18035.0, 'n': 3}, 'overhead_time': {'wall': 563229.0, 'cpu': 42205.0, 'n': 1}}, 'nevts': 3}\n"
     ]
    }
   ],
   "source": [
    "for key in info.keys():\n",
    "    if key == 'evt_max_info' or key == 'steps_comps':\n",
    "        continue\n",
    "    print(\"{}: {}\".format(key, info[key]))"
   ]
  },
  {
   "cell_type": "markdown",
   "metadata": {},
   "source": [
    "Total recourses used for 'evt' part:"
   ]
  },
  {
   "cell_type": "code",
   "execution_count": 42,
   "metadata": {},
   "outputs": [
    {
     "name": "stdout",
     "output_type": "stream",
     "text": [
      "CPU: 17.675 s\n",
      "malloc: 245.13 MB\n"
     ]
    }
   ],
   "source": [
    "total_evts_info = info['steps_totals']['evt']['[total_for_102_comps]']\n",
    "print('CPU: {} s'.format(total_evts_info['cpu']/1e3))\n",
    "print('malloc: {} MB'.format(total_evts_info['malloc']/1e3))"
   ]
  },
  {
   "cell_type": "code",
   "execution_count": null,
   "metadata": {},
   "outputs": [],
   "source": []
  },
  {
   "cell_type": "code",
   "execution_count": 36,
   "metadata": {},
   "outputs": [
    {
     "name": "stdout",
     "output_type": "stream",
     "text": [
      "{ '1st': { '[total_for_102_comps]': { 'cpu': 24250.0,\n",
      "                                      'malloc': 478381.0,\n",
      "                                      'n': 1,\n",
      "                                      'order': 102,\n",
      "                                      'vmem': 0.0}},\n",
      "  'cbk': { '[total_for_3_comps]': { 'cpu': 5.0,\n",
      "                                    'malloc': 1.0,\n",
      "                                    'n': 2,\n",
      "                                    'order': 94,\n",
      "                                    'vmem': 0.0},\n",
      "           '[total_for_90_comps]': { 'cpu': 7240.0,\n",
      "                                     'malloc': 35739.0,\n",
      "                                     'n': 1,\n",
      "                                     'order': 93,\n",
      "                                     'vmem': 20.0}},\n",
      "  'dso': { '[total_for_723_comps]': { 'cpu': 8610.0,\n",
      "                                      'malloc': 39961.0,\n",
      "                                      'n': 1,\n",
      "                                      'order': 723,\n",
      "                                      'vmem': 342628.0}},\n",
      "  'evt': { '[total_for_102_comps]': { 'cpu': 17675.0,\n",
      "                                      'malloc': 245130.0,\n",
      "                                      'n': 2,\n",
      "                                      'order': 102,\n",
      "                                      'vmem': 0.0}},\n",
      "  'fin': { '[total_for_485_comps]': { 'cpu': 490.0,\n",
      "                                      'malloc': -462329.0,\n",
      "                                      'n': 1,\n",
      "                                      'order': 485,\n",
      "                                      'vmem': 0.0}},\n",
      "  'ini': { '[total_for_482_comps]': { 'cpu': 3040.0,\n",
      "                                      'malloc': 190656.0,\n",
      "                                      'n': 1,\n",
      "                                      'order': 482,\n",
      "                                      'vmem': 182448.0}},\n",
      "  'preLoadProxy': { '[total_for_142_comps]': { 'cpu': 100.0,\n",
      "                                               'malloc': 4511.0,\n",
      "                                               'n': 2,\n",
      "                                               'order': 564,\n",
      "                                               'vmem': 2488.0},\n",
      "                    '[total_for_1_comps]': { 'cpu': 0.0,\n",
      "                                             'malloc': 0.0,\n",
      "                                             'n': 7,\n",
      "                                             'order': 568,\n",
      "                                             'vmem': 0.0},\n",
      "                    '[total_for_1_comps]:n=22': { 'cpu': 0.0,\n",
      "                                                  'malloc': 0.0,\n",
      "                                                  'n': 22,\n",
      "                                                  'order': 570,\n",
      "                                                  'vmem': 0.0},\n",
      "                    '[total_for_1_comps]:n=9': { 'cpu': 0.0,\n",
      "                                                 'malloc': 0.0,\n",
      "                                                 'n': 9,\n",
      "                                                 'order': 569,\n",
      "                                                 'vmem': 0.0},\n",
      "                    '[total_for_29_comps]': { 'cpu': 0.0,\n",
      "                                              'malloc': 5.0,\n",
      "                                              'n': 3,\n",
      "                                              'order': 565,\n",
      "                                              'vmem': 0.0},\n",
      "                    '[total_for_380_comps]': { 'cpu': 15030.0,\n",
      "                                               'malloc': 355008.0,\n",
      "                                               'n': 1,\n",
      "                                               'order': 563,\n",
      "                                               'vmem': 1037976.0},\n",
      "                    '[total_for_4_comps]': { 'cpu': 0.0,\n",
      "                                             'malloc': 1.0,\n",
      "                                             'n': 5,\n",
      "                                             'order': 567,\n",
      "                                             'vmem': 0.0},\n",
      "                    '[total_for_5_comps]': { 'cpu': 0.0,\n",
      "                                             'malloc': 0.0,\n",
      "                                             'n': 4,\n",
      "                                             'order': 566,\n",
      "                                             'vmem': 0.0}}}\n"
     ]
    }
   ],
   "source": [
    "pp.pprint(info['steps_totals'])"
   ]
  },
  {
   "cell_type": "code",
   "execution_count": 38,
   "metadata": {},
   "outputs": [
    {
     "name": "stdout",
     "output_type": "stream",
     "text": [
      "{ 'leaks': { 'leakperevt_evt101plus': {'malloc': 0.0, 'n': 0, 'vmem': 0.0},\n",
      "             'leakperevt_evt11to100': {'malloc': 0.0, 'n': 0, 'vmem': 0.0}},\n",
      "  'nevts': 3,\n",
      "  'snapshots': { 'snapshot_post_1stevt': { 'cpu': 59740.0,\n",
      "                                           'malloc': 1231731.0,\n",
      "                                           'n': 1,\n",
      "                                           'vmem': 2549192.0,\n",
      "                                           'wall': 581104.0},\n",
      "                 'snapshot_post_fin': { 'cpu': 96310.0,\n",
      "                                        'malloc': 669883.0,\n",
      "                                        'n': 1,\n",
      "                                        'vmem': 2550112.0,\n",
      "                                        'wall': 618375.0},\n",
      "                 'snapshot_post_ini': { 'cpu': 33370.0,\n",
      "                                        'malloc': 1050932.0,\n",
      "                                        'n': 1,\n",
      "                                        'vmem': 2522476.0,\n",
      "                                        'wall': 540227.0},\n",
      "                 'snapshot_post_lastevt': { 'cpu': 95810.0,\n",
      "                                            'malloc': 1132179.0,\n",
      "                                            'n': 1,\n",
      "                                            'vmem': 2550112.0,\n",
      "                                            'wall': 617868.0},\n",
      "                 'snapshot_pre_ini': { 'cpu': 0.0,\n",
      "                                       'malloc': 386829.0,\n",
      "                                       'n': 1,\n",
      "                                       'vmem': 963880.0,\n",
      "                                       'wall': 0.0}},\n",
      "  'timings': { 'evtloop_time': {'cpu': 18035.0, 'n': 3, 'wall': 18382.0},\n",
      "               'overhead_time': {'cpu': 42205.0, 'n': 1, 'wall': 563229.0}},\n",
      "  'values': { 'cpu_bmips': 5188.0,\n",
      "              'cpu_model': 'Intel(R)_Xeon(R)_CPU_E5-2670_0_@_2.60GHz/20480_KB',\n",
      "              'cpu_res': 10.0,\n",
      "              'jobcfg_walltime': 68546.0,\n",
      "              'jobstart': '2018-10-26T00:20:03+0000',\n",
      "              'malloc': 'libtcmalloc_minimal.so/ok',\n",
      "              'pmonsd_cost_onceperjob': 85.0,\n",
      "              'pmonsd_cost_perevt': 5.0,\n",
      "              'pycintex_vmemfix': 0.0,\n",
      "              'release': '21.0.53/x86_64-slc6-gcc62-opt',\n",
      "              'rss_mean': 1478736.0,\n",
      "              'vmem_mean': 2549192.0,\n",
      "              'vmem_peak': 2554208.0}}\n"
     ]
    }
   ],
   "source": [
    "pp.pprint(info['special'])"
   ]
  },
  {
   "cell_type": "code",
   "execution_count": 5,
   "metadata": {},
   "outputs": [
    {
     "data": {
      "text/plain": [
       "dict_keys(['preLoadProxy', 'cbk', 'dso', 'ini', '1st', 'evt', 'fin'])"
      ]
     },
     "execution_count": 5,
     "metadata": {},
     "output_type": "execute_result"
    }
   ],
   "source": [
    "info['steps_comps'].keys()"
   ]
  },
  {
   "cell_type": "code",
   "execution_count": 6,
   "metadata": {},
   "outputs": [
    {
     "data": {
      "text/plain": [
       "dict_keys(['GlobalEventTagBuilder', 'TRTStandaloneTracksDetailedTruthMaker', 'TRTSeededTracksTruthCollectionSelector', 'ResolvedTracksTruthCollectionSelector', 'DetailedTrackTruthMaker', 'InDetTRT_StandaloneTrackFinder', 'CreateLumiBlockCollectionFromFile', 'InDetPRD_MultiTruthMakerSi', 'AthOutSeq', 'SiSPSeededPixelTracksTruthCollectionSelector', 'InDetRecStatistics', 'InDetForwardTrackParticles', 'InDetCopyAlg', 'SiSPSeededTracksDetailedTruthMaker', 'InDetAmbiguitySolverPixelPrdAssociation', 'InDetLowBetaTrkAlgorithm', 'InDetSiSpTrackFinder', 'xAODMaker::EventInfoCnvAlg', 'JobInfo', 'AllExecutedEvents', 'InDetPixelPrdAssociationTrackParticles', 'CondInputLoader', 'CaloCluster2xAOD', 'CaloClusterCellLinksUpdater', 'TRTSeededTracksDetailedTruthMaker', 'CaloCellMaker', 'ResolvedTracksDetailedTruthMaker', 'InDetSegmentPRD_Association', 'EmTowerBldr', 'InDetCosmicsEventPhase', 'InDetTrackCollectionMerger_pix', 'ResolvedTRTSeededTracksTruthCollectionSelector', 'InDetTrackCollectionMerger', 'InDetBCM_ZeroSuppression', 'InDetTRT_RIO_Maker', 'TRTStandaloneTracksTruthCollectionSelector', 'ThinNegativeEnergyCaloClustersAlg', 'StreamESD', 'InDetSegmentDriftCircleAssValidation', 'ResolvedPixelPrdAssociationTracksTruthCollectionSelector', 'TrackTruthCollectionSelector', 'ExtendedTracksTruthCollectionSelector', 'SiSPSeededPixelTracksDetailedTruthMaker', 'InDetPixelClusterization', 'SiSPSeededTracksTruthCollectionSelector', 'InDetTRT_PRD_MultiTruthMaker', 'CaloCellMakerFromCluster', 'ResolvedPixelPrdAssociationTracksDetailedTruthMaker', 'MBTSTimeDiffEventInfoAlg', 'ExtendedTracksPixelPrdAssociationDetailedTruthMaker', 'InDetTrackClusterAssValidation', 'InDetTrackParticles', 'ExtendedTracksDetailedTruthMaker', 'InDetTRT_SeededAmbiguitySolver', 'xAODRingSetConfWriter', 'LArAffectedRegionAlg', 'InDetAmbiguitySolverForwardTracks', 'InDetExtensionProcessorPixelPrdAssociation', 'InDetPRD_AssociationForwardTracks', 'ResolvedForwardTracksTruthCollectionSelector', 'InDetPRD_AssociationPixelPrdAssociation', 'InDetTRT_ExtensionPixelPrdAssociation', 'CombinedInDetTracksTruthCollectionSelector', 'StreamAOD', 'InDetTRT_Extension', 'InDetTRTonly_PRD_Association', 'CaloTopoCluster', 'GEN_AOD2xAOD', 'ResolvedForwardTracksDetailedTruthMaker', 'InDetPriVxFinder', 'AthAlgSeq', 'InDetAmbiguitySolver', 'LArClusterMaker', 'InDetVxLinkSetter', 'InDetSiTrackerSpacePointFinder', 'SiSpSeededForwardTracksDetailedTruthMaker', 'MakeInputDataHeaderESD', 'LArCollisionTimeAlg', 'InDetExtensionProcessor', 'PixelPrdAssociationTracksTruthCollectionSelector', 'CombinedInDetTracksDetailedTruthMaker', 'ThinNegativeEnergyNeutralPFOsAlg', 'ThinGeantTruthAlg', 'InDetSiSpTrackFinderPixelPrdAssociation', 'InDetCaloClusterROISelector', 'InDetTRT_SeededTrackFinder', 'EventCounter', 'SiSpSeededForwardTracksTruthCollectionSelector', 'AthMasterSeq', 'InDetSCT_Clusterization', 'InDetTRT_TrackSegmentsFinder', 'PixelPrdAssociationTracksDetailedTruthMaker', 'LAr7_11NocorrClusterMaker', 'LArNoisyROAlg', 'AthRegSeq', 'InDetTrackSlimmer', 'ResolvedTRTSeededTracksDetailedTruthMaker', 'McAodBuilder', 'ExtendedTracksPixelPrdAssociationTruthCollectionSelector', 'RawInfoSummaryForTagWriter', 'InDetSiSpTrackFinderForwardTracks', 'TileLookForMuAlg'])"
      ]
     },
     "execution_count": 6,
     "metadata": {},
     "output_type": "execute_result"
    }
   ],
   "source": [
    "info['evt_max_info'].keys()"
   ]
  },
  {
   "cell_type": "code",
   "execution_count": 7,
   "metadata": {},
   "outputs": [
    {
     "data": {
      "text/plain": [
       "{'cpu': (6860.0, 1), 'malloc': (39888.0, 1), 'vmem': (0.0, 0)}"
      ]
     },
     "execution_count": 7,
     "metadata": {},
     "output_type": "execute_result"
    }
   ],
   "source": [
    "info['evt_max_info']['InDetSiSpTrackFinder']"
   ]
  },
  {
   "cell_type": "code",
   "execution_count": 21,
   "metadata": {},
   "outputs": [],
   "source": [
    "max_info = \"\"\n",
    "for key,value in info['evt_max_info'].items():\n",
    "    max_info += '{}: {cpu}, {malloc}, {vmem}\\n'.format(key, **value)"
   ]
  },
  {
   "cell_type": "code",
   "execution_count": 10,
   "metadata": {},
   "outputs": [],
   "source": [
    "def get_evt_summary(info):\n",
    "    evt_info = info['steps_comps']['evt']\n",
    "    df = pd.DataFrame(evt_info).transpose()\n",
    "    total_cpu = np.sum(df['cpu'])\n",
    "    total_malloc = np.sum(df['malloc'])\n",
    "    df['cpu_ratio'] = df['cpu']/total_cpu*100\n",
    "    df['malloc_ratio'] = df['malloc']/total_malloc*100\n",
    "    return df"
   ]
  },
  {
   "cell_type": "code",
   "execution_count": 11,
   "metadata": {},
   "outputs": [],
   "source": [
    "df_evt = get_evt_summary(info)"
   ]
  },
  {
   "cell_type": "markdown",
   "metadata": {},
   "source": [
    "### Top 15 algorithms in using CPU sources"
   ]
  },
  {
   "cell_type": "code",
   "execution_count": 13,
   "metadata": {},
   "outputs": [
    {
     "data": {
      "text/html": [
       "<div>\n",
       "<style scoped>\n",
       "    .dataframe tbody tr th:only-of-type {\n",
       "        vertical-align: middle;\n",
       "    }\n",
       "\n",
       "    .dataframe tbody tr th {\n",
       "        vertical-align: top;\n",
       "    }\n",
       "\n",
       "    .dataframe thead th {\n",
       "        text-align: right;\n",
       "    }\n",
       "</style>\n",
       "<table border=\"1\" class=\"dataframe\">\n",
       "  <thead>\n",
       "    <tr style=\"text-align: right;\">\n",
       "      <th></th>\n",
       "      <th>cpu</th>\n",
       "      <th>malloc</th>\n",
       "      <th>n</th>\n",
       "      <th>order</th>\n",
       "      <th>vmem</th>\n",
       "      <th>cpu_ratio</th>\n",
       "      <th>malloc_ratio</th>\n",
       "    </tr>\n",
       "  </thead>\n",
       "  <tbody>\n",
       "    <tr>\n",
       "      <th>InDetSiSpTrackFinder</th>\n",
       "      <td>6350.0</td>\n",
       "      <td>37259.0</td>\n",
       "      <td>2.0</td>\n",
       "      <td>0.0</td>\n",
       "      <td>0.0</td>\n",
       "      <td>35.926450</td>\n",
       "      <td>15.199442</td>\n",
       "    </tr>\n",
       "    <tr>\n",
       "      <th>InDetAmbiguitySolver</th>\n",
       "      <td>3705.0</td>\n",
       "      <td>24777.0</td>\n",
       "      <td>2.0</td>\n",
       "      <td>1.0</td>\n",
       "      <td>0.0</td>\n",
       "      <td>20.961810</td>\n",
       "      <td>10.107533</td>\n",
       "    </tr>\n",
       "    <tr>\n",
       "      <th>InDetExtensionProcessor</th>\n",
       "      <td>2085.0</td>\n",
       "      <td>35935.0</td>\n",
       "      <td>2.0</td>\n",
       "      <td>2.0</td>\n",
       "      <td>0.0</td>\n",
       "      <td>11.796322</td>\n",
       "      <td>14.659329</td>\n",
       "    </tr>\n",
       "    <tr>\n",
       "      <th>InDetTRT_SeededTrackFinder</th>\n",
       "      <td>1330.0</td>\n",
       "      <td>819.0</td>\n",
       "      <td>2.0</td>\n",
       "      <td>3.0</td>\n",
       "      <td>0.0</td>\n",
       "      <td>7.524752</td>\n",
       "      <td>0.334103</td>\n",
       "    </tr>\n",
       "    <tr>\n",
       "      <th>StreamESD</th>\n",
       "      <td>830.0</td>\n",
       "      <td>-6436.0</td>\n",
       "      <td>2.0</td>\n",
       "      <td>4.0</td>\n",
       "      <td>0.0</td>\n",
       "      <td>4.695898</td>\n",
       "      <td>-2.625503</td>\n",
       "    </tr>\n",
       "    <tr>\n",
       "      <th>InDetTRT_Extension</th>\n",
       "      <td>330.0</td>\n",
       "      <td>6925.0</td>\n",
       "      <td>2.0</td>\n",
       "      <td>5.0</td>\n",
       "      <td>0.0</td>\n",
       "      <td>1.867044</td>\n",
       "      <td>2.824986</td>\n",
       "    </tr>\n",
       "    <tr>\n",
       "      <th>InDetSiSpTrackFinderPixelPrdAssociation</th>\n",
       "      <td>295.0</td>\n",
       "      <td>-64.0</td>\n",
       "      <td>2.0</td>\n",
       "      <td>6.0</td>\n",
       "      <td>0.0</td>\n",
       "      <td>1.669024</td>\n",
       "      <td>-0.026108</td>\n",
       "    </tr>\n",
       "    <tr>\n",
       "      <th>InDetTRT_RIO_Maker</th>\n",
       "      <td>255.0</td>\n",
       "      <td>58036.0</td>\n",
       "      <td>2.0</td>\n",
       "      <td>7.0</td>\n",
       "      <td>0.0</td>\n",
       "      <td>1.442716</td>\n",
       "      <td>23.675214</td>\n",
       "    </tr>\n",
       "    <tr>\n",
       "      <th>InDetAmbiguitySolverForwardTracks</th>\n",
       "      <td>230.0</td>\n",
       "      <td>-1665.0</td>\n",
       "      <td>2.0</td>\n",
       "      <td>8.0</td>\n",
       "      <td>0.0</td>\n",
       "      <td>1.301273</td>\n",
       "      <td>-0.679220</td>\n",
       "    </tr>\n",
       "    <tr>\n",
       "      <th>InDetSiSpTrackFinderForwardTracks</th>\n",
       "      <td>220.0</td>\n",
       "      <td>1091.0</td>\n",
       "      <td>2.0</td>\n",
       "      <td>9.0</td>\n",
       "      <td>0.0</td>\n",
       "      <td>1.244696</td>\n",
       "      <td>0.445063</td>\n",
       "    </tr>\n",
       "    <tr>\n",
       "      <th>InDetTrackCollectionMerger</th>\n",
       "      <td>205.0</td>\n",
       "      <td>2482.0</td>\n",
       "      <td>2.0</td>\n",
       "      <td>10.0</td>\n",
       "      <td>0.0</td>\n",
       "      <td>1.159830</td>\n",
       "      <td>1.012507</td>\n",
       "    </tr>\n",
       "    <tr>\n",
       "      <th>InDetTRT_TrackSegmentsFinder</th>\n",
       "      <td>170.0</td>\n",
       "      <td>3102.0</td>\n",
       "      <td>2.0</td>\n",
       "      <td>11.0</td>\n",
       "      <td>0.0</td>\n",
       "      <td>0.961810</td>\n",
       "      <td>1.265430</td>\n",
       "    </tr>\n",
       "    <tr>\n",
       "      <th>CaloCellMaker</th>\n",
       "      <td>160.0</td>\n",
       "      <td>10628.0</td>\n",
       "      <td>2.0</td>\n",
       "      <td>12.0</td>\n",
       "      <td>0.0</td>\n",
       "      <td>0.905233</td>\n",
       "      <td>4.335588</td>\n",
       "    </tr>\n",
       "    <tr>\n",
       "      <th>CaloTopoCluster</th>\n",
       "      <td>140.0</td>\n",
       "      <td>3356.0</td>\n",
       "      <td>2.0</td>\n",
       "      <td>13.0</td>\n",
       "      <td>0.0</td>\n",
       "      <td>0.792079</td>\n",
       "      <td>1.369047</td>\n",
       "    </tr>\n",
       "    <tr>\n",
       "      <th>InDetRecStatistics</th>\n",
       "      <td>125.0</td>\n",
       "      <td>-475.0</td>\n",
       "      <td>2.0</td>\n",
       "      <td>14.0</td>\n",
       "      <td>0.0</td>\n",
       "      <td>0.707214</td>\n",
       "      <td>-0.193772</td>\n",
       "    </tr>\n",
       "  </tbody>\n",
       "</table>\n",
       "</div>"
      ],
      "text/plain": [
       "                                            cpu   malloc    n  order  vmem  \\\n",
       "InDetSiSpTrackFinder                     6350.0  37259.0  2.0    0.0   0.0   \n",
       "InDetAmbiguitySolver                     3705.0  24777.0  2.0    1.0   0.0   \n",
       "InDetExtensionProcessor                  2085.0  35935.0  2.0    2.0   0.0   \n",
       "InDetTRT_SeededTrackFinder               1330.0    819.0  2.0    3.0   0.0   \n",
       "StreamESD                                 830.0  -6436.0  2.0    4.0   0.0   \n",
       "InDetTRT_Extension                        330.0   6925.0  2.0    5.0   0.0   \n",
       "InDetSiSpTrackFinderPixelPrdAssociation   295.0    -64.0  2.0    6.0   0.0   \n",
       "InDetTRT_RIO_Maker                        255.0  58036.0  2.0    7.0   0.0   \n",
       "InDetAmbiguitySolverForwardTracks         230.0  -1665.0  2.0    8.0   0.0   \n",
       "InDetSiSpTrackFinderForwardTracks         220.0   1091.0  2.0    9.0   0.0   \n",
       "InDetTrackCollectionMerger                205.0   2482.0  2.0   10.0   0.0   \n",
       "InDetTRT_TrackSegmentsFinder              170.0   3102.0  2.0   11.0   0.0   \n",
       "CaloCellMaker                             160.0  10628.0  2.0   12.0   0.0   \n",
       "CaloTopoCluster                           140.0   3356.0  2.0   13.0   0.0   \n",
       "InDetRecStatistics                        125.0   -475.0  2.0   14.0   0.0   \n",
       "\n",
       "                                         cpu_ratio  malloc_ratio  \n",
       "InDetSiSpTrackFinder                     35.926450     15.199442  \n",
       "InDetAmbiguitySolver                     20.961810     10.107533  \n",
       "InDetExtensionProcessor                  11.796322     14.659329  \n",
       "InDetTRT_SeededTrackFinder                7.524752      0.334103  \n",
       "StreamESD                                 4.695898     -2.625503  \n",
       "InDetTRT_Extension                        1.867044      2.824986  \n",
       "InDetSiSpTrackFinderPixelPrdAssociation   1.669024     -0.026108  \n",
       "InDetTRT_RIO_Maker                        1.442716     23.675214  \n",
       "InDetAmbiguitySolverForwardTracks         1.301273     -0.679220  \n",
       "InDetSiSpTrackFinderForwardTracks         1.244696      0.445063  \n",
       "InDetTrackCollectionMerger                1.159830      1.012507  \n",
       "InDetTRT_TrackSegmentsFinder              0.961810      1.265430  \n",
       "CaloCellMaker                             0.905233      4.335588  \n",
       "CaloTopoCluster                           0.792079      1.369047  \n",
       "InDetRecStatistics                        0.707214     -0.193772  "
      ]
     },
     "execution_count": 13,
     "metadata": {},
     "output_type": "execute_result"
    }
   ],
   "source": [
    "df_evt.sort_values(by=['cpu'], ascending=False).head(15)"
   ]
  },
  {
   "cell_type": "code",
   "execution_count": 14,
   "metadata": {},
   "outputs": [
    {
     "data": {
      "text/html": [
       "<div>\n",
       "<style scoped>\n",
       "    .dataframe tbody tr th:only-of-type {\n",
       "        vertical-align: middle;\n",
       "    }\n",
       "\n",
       "    .dataframe tbody tr th {\n",
       "        vertical-align: top;\n",
       "    }\n",
       "\n",
       "    .dataframe thead th {\n",
       "        text-align: right;\n",
       "    }\n",
       "</style>\n",
       "<table border=\"1\" class=\"dataframe\">\n",
       "  <thead>\n",
       "    <tr style=\"text-align: right;\">\n",
       "      <th></th>\n",
       "      <th>cpu</th>\n",
       "      <th>malloc</th>\n",
       "      <th>n</th>\n",
       "      <th>order</th>\n",
       "      <th>vmem</th>\n",
       "      <th>cpu_ratio</th>\n",
       "      <th>malloc_ratio</th>\n",
       "    </tr>\n",
       "  </thead>\n",
       "  <tbody>\n",
       "    <tr>\n",
       "      <th>InDetTRT_RIO_Maker</th>\n",
       "      <td>255.0</td>\n",
       "      <td>58036.0</td>\n",
       "      <td>2.0</td>\n",
       "      <td>7.0</td>\n",
       "      <td>0.0</td>\n",
       "      <td>1.442716</td>\n",
       "      <td>23.675214</td>\n",
       "    </tr>\n",
       "    <tr>\n",
       "      <th>InDetSiSpTrackFinder</th>\n",
       "      <td>6350.0</td>\n",
       "      <td>37259.0</td>\n",
       "      <td>2.0</td>\n",
       "      <td>0.0</td>\n",
       "      <td>0.0</td>\n",
       "      <td>35.926450</td>\n",
       "      <td>15.199442</td>\n",
       "    </tr>\n",
       "    <tr>\n",
       "      <th>InDetExtensionProcessor</th>\n",
       "      <td>2085.0</td>\n",
       "      <td>35935.0</td>\n",
       "      <td>2.0</td>\n",
       "      <td>2.0</td>\n",
       "      <td>0.0</td>\n",
       "      <td>11.796322</td>\n",
       "      <td>14.659329</td>\n",
       "    </tr>\n",
       "    <tr>\n",
       "      <th>InDetSCT_Clusterization</th>\n",
       "      <td>115.0</td>\n",
       "      <td>29029.0</td>\n",
       "      <td>2.0</td>\n",
       "      <td>15.0</td>\n",
       "      <td>0.0</td>\n",
       "      <td>0.650636</td>\n",
       "      <td>11.842095</td>\n",
       "    </tr>\n",
       "    <tr>\n",
       "      <th>InDetAmbiguitySolver</th>\n",
       "      <td>3705.0</td>\n",
       "      <td>24777.0</td>\n",
       "      <td>2.0</td>\n",
       "      <td>1.0</td>\n",
       "      <td>0.0</td>\n",
       "      <td>20.961810</td>\n",
       "      <td>10.107533</td>\n",
       "    </tr>\n",
       "    <tr>\n",
       "      <th>InDetSiTrackerSpacePointFinder</th>\n",
       "      <td>90.0</td>\n",
       "      <td>17901.0</td>\n",
       "      <td>2.0</td>\n",
       "      <td>19.0</td>\n",
       "      <td>0.0</td>\n",
       "      <td>0.509194</td>\n",
       "      <td>7.302537</td>\n",
       "    </tr>\n",
       "    <tr>\n",
       "      <th>CaloCellMaker</th>\n",
       "      <td>160.0</td>\n",
       "      <td>10628.0</td>\n",
       "      <td>2.0</td>\n",
       "      <td>12.0</td>\n",
       "      <td>0.0</td>\n",
       "      <td>0.905233</td>\n",
       "      <td>4.335588</td>\n",
       "    </tr>\n",
       "    <tr>\n",
       "      <th>InDetPixelClusterization</th>\n",
       "      <td>110.0</td>\n",
       "      <td>10048.0</td>\n",
       "      <td>2.0</td>\n",
       "      <td>16.0</td>\n",
       "      <td>0.0</td>\n",
       "      <td>0.622348</td>\n",
       "      <td>4.098983</td>\n",
       "    </tr>\n",
       "    <tr>\n",
       "      <th>InDetTRT_Extension</th>\n",
       "      <td>330.0</td>\n",
       "      <td>6925.0</td>\n",
       "      <td>2.0</td>\n",
       "      <td>5.0</td>\n",
       "      <td>0.0</td>\n",
       "      <td>1.867044</td>\n",
       "      <td>2.824986</td>\n",
       "    </tr>\n",
       "    <tr>\n",
       "      <th>CaloTopoCluster</th>\n",
       "      <td>140.0</td>\n",
       "      <td>3356.0</td>\n",
       "      <td>2.0</td>\n",
       "      <td>13.0</td>\n",
       "      <td>0.0</td>\n",
       "      <td>0.792079</td>\n",
       "      <td>1.369047</td>\n",
       "    </tr>\n",
       "    <tr>\n",
       "      <th>InDetTRT_TrackSegmentsFinder</th>\n",
       "      <td>170.0</td>\n",
       "      <td>3102.0</td>\n",
       "      <td>2.0</td>\n",
       "      <td>11.0</td>\n",
       "      <td>0.0</td>\n",
       "      <td>0.961810</td>\n",
       "      <td>1.265430</td>\n",
       "    </tr>\n",
       "    <tr>\n",
       "      <th>InDetTrackCollectionMerger</th>\n",
       "      <td>205.0</td>\n",
       "      <td>2482.0</td>\n",
       "      <td>2.0</td>\n",
       "      <td>10.0</td>\n",
       "      <td>0.0</td>\n",
       "      <td>1.159830</td>\n",
       "      <td>1.012507</td>\n",
       "    </tr>\n",
       "    <tr>\n",
       "      <th>InDetPRD_AssociationPixelPrdAssociation</th>\n",
       "      <td>20.0</td>\n",
       "      <td>2473.0</td>\n",
       "      <td>2.0</td>\n",
       "      <td>28.0</td>\n",
       "      <td>0.0</td>\n",
       "      <td>0.113154</td>\n",
       "      <td>1.008836</td>\n",
       "    </tr>\n",
       "    <tr>\n",
       "      <th>InDetTRTonly_PRD_Association</th>\n",
       "      <td>15.0</td>\n",
       "      <td>2336.0</td>\n",
       "      <td>2.0</td>\n",
       "      <td>34.0</td>\n",
       "      <td>0.0</td>\n",
       "      <td>0.084866</td>\n",
       "      <td>0.952948</td>\n",
       "    </tr>\n",
       "    <tr>\n",
       "      <th>InDetSegmentPRD_Association</th>\n",
       "      <td>20.0</td>\n",
       "      <td>1998.0</td>\n",
       "      <td>2.0</td>\n",
       "      <td>29.0</td>\n",
       "      <td>0.0</td>\n",
       "      <td>0.113154</td>\n",
       "      <td>0.815064</td>\n",
       "    </tr>\n",
       "  </tbody>\n",
       "</table>\n",
       "</div>"
      ],
      "text/plain": [
       "                                            cpu   malloc    n  order  vmem  \\\n",
       "InDetTRT_RIO_Maker                        255.0  58036.0  2.0    7.0   0.0   \n",
       "InDetSiSpTrackFinder                     6350.0  37259.0  2.0    0.0   0.0   \n",
       "InDetExtensionProcessor                  2085.0  35935.0  2.0    2.0   0.0   \n",
       "InDetSCT_Clusterization                   115.0  29029.0  2.0   15.0   0.0   \n",
       "InDetAmbiguitySolver                     3705.0  24777.0  2.0    1.0   0.0   \n",
       "InDetSiTrackerSpacePointFinder             90.0  17901.0  2.0   19.0   0.0   \n",
       "CaloCellMaker                             160.0  10628.0  2.0   12.0   0.0   \n",
       "InDetPixelClusterization                  110.0  10048.0  2.0   16.0   0.0   \n",
       "InDetTRT_Extension                        330.0   6925.0  2.0    5.0   0.0   \n",
       "CaloTopoCluster                           140.0   3356.0  2.0   13.0   0.0   \n",
       "InDetTRT_TrackSegmentsFinder              170.0   3102.0  2.0   11.0   0.0   \n",
       "InDetTrackCollectionMerger                205.0   2482.0  2.0   10.0   0.0   \n",
       "InDetPRD_AssociationPixelPrdAssociation    20.0   2473.0  2.0   28.0   0.0   \n",
       "InDetTRTonly_PRD_Association               15.0   2336.0  2.0   34.0   0.0   \n",
       "InDetSegmentPRD_Association                20.0   1998.0  2.0   29.0   0.0   \n",
       "\n",
       "                                         cpu_ratio  malloc_ratio  \n",
       "InDetTRT_RIO_Maker                        1.442716     23.675214  \n",
       "InDetSiSpTrackFinder                     35.926450     15.199442  \n",
       "InDetExtensionProcessor                  11.796322     14.659329  \n",
       "InDetSCT_Clusterization                   0.650636     11.842095  \n",
       "InDetAmbiguitySolver                     20.961810     10.107533  \n",
       "InDetSiTrackerSpacePointFinder            0.509194      7.302537  \n",
       "CaloCellMaker                             0.905233      4.335588  \n",
       "InDetPixelClusterization                  0.622348      4.098983  \n",
       "InDetTRT_Extension                        1.867044      2.824986  \n",
       "CaloTopoCluster                           0.792079      1.369047  \n",
       "InDetTRT_TrackSegmentsFinder              0.961810      1.265430  \n",
       "InDetTrackCollectionMerger                1.159830      1.012507  \n",
       "InDetPRD_AssociationPixelPrdAssociation   0.113154      1.008836  \n",
       "InDetTRTonly_PRD_Association              0.084866      0.952948  \n",
       "InDetSegmentPRD_Association               0.113154      0.815064  "
      ]
     },
     "execution_count": 14,
     "metadata": {},
     "output_type": "execute_result"
    }
   ],
   "source": [
    "df_evt.sort_values(by=['malloc'], ascending=False).head(15)"
   ]
  },
  {
   "cell_type": "code",
   "execution_count": 22,
   "metadata": {},
   "outputs": [
    {
     "data": {
      "image/png": "[encoded data removed]",
      "text/plain": [
       "<matplotlib.figure.Figure at 0x1133c4208>"
      ]
     },
     "metadata": {},
     "output_type": "display_data"
    }
   ],
   "source": [
    "series = df_evt[df_evt['cpu'] > 100].sort_values(by=['cpu'], ascending=False)['cpu']\n",
    "plt.semilogy(series.values, '*-')\n",
    "plt.xticks(np.linspace(0, len(series), len(series)), list(series.index), rotation='vertical');"
   ]
  },
  {
   "cell_type": "code",
   "execution_count": 23,
   "metadata": {},
   "outputs": [
    {
     "data": {
      "text/plain": [
       "{'cpu': (6860.0, 1), 'malloc': (39888.0, 1), 'vmem': (0.0, 0)}"
      ]
     },
     "execution_count": 23,
     "metadata": {},
     "output_type": "execute_result"
    }
   ],
   "source": [
    "info['evt_max_info']['InDetSiSpTrackFinder']"
   ]
  },
  {
   "cell_type": "code",
   "execution_count": null,
   "metadata": {},
   "outputs": [],
   "source": []
  }
 ],
 "metadata": {
  "kernelspec": {
   "display_name": "Python 3",
   "language": "python",
   "name": "python3"
  },
  "language_info": {
   "codemirror_mode": {
    "name": "ipython",
    "version": 3
   },
   "file_extension": ".py",
   "mimetype": "text/x-python",
   "name": "python",
   "nbconvert_exporter": "python",
   "pygments_lexer": "ipython3",
   "version": "3.6.2"
  }
 },
 "nbformat": 4,
 "nbformat_minor": 2
}
