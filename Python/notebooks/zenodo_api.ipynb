{
 "cells": [
  {
   "cell_type": "code",
   "execution_count": 18,
   "metadata": {},
   "outputs": [],
   "source": [
    "import subprocess\n",
    "# get the access token from 1password\n",
    "ACCESS_TOKEN = subprocess.run([\"op\",\"item\", \"get\", \"Zenodo\", \"--fields\", \"credential\"], capture_output=True).stdout.decode().strip()"
   ]
  },
  {
   "cell_type": "code",
   "execution_count": 37,
   "metadata": {},
   "outputs": [
    {
     "name": "stdout",
     "output_type": "stream",
     "text": [
      "200\n",
      "{'created': '2019-05-22T19:44:25.250309+00:00', 'modified': '2020-01-24T19:24:53.854409+00:00', 'id': 3164691, 'conceptrecid': '2658763', 'doi': '10.5281/zenodo.3164691', 'conceptdoi': '10.5281/zenodo.2658763', 'doi_url': 'https://doi.org/10.5281/zenodo.3164691', 'metadata': {'title': 'Pythia8 Quark and Gluon Jets for Energy Flow', 'doi': '10.5281/zenodo.3164691', 'publication_date': '2019-05-02', 'description': '<p>Two&nbsp;datasets of quark and gluon jets generated with Pythia 8, one with all kinematically realizable quark jets and one that excludes charm and bottom quark jets (at the level of the hard process). The one without c and b jets was originally used in <a href=\"https://arxiv.org/abs/1810.05165\">Energy Flow Networks: Deep Sets for Particle Jets</a>. Generation parameters are listed below:</p>\\n\\n<ul>\\n\\t<li>Pythia 8.226 (without bc jets), Pythia 8.235 (with bc jets),&nbsp;<span class=\"math-tex\">\\\\(\\\\sqrt{s}=14\\\\,\\\\text{TeV} \\\\)</span></li>\\n\\t<li>Quarks&nbsp;from&nbsp;WeakBosonAndParton:qg2gmZq, gluons from&nbsp;WeakBosonAndParton:qqbar2gmZg with the Z decaying to neutrinos</li>\\n\\t<li>FastJet 3.3.0, anti-ki jets with R=0.4</li>\\n\\t<li><span class=\"math-tex\">\\\\(p_T^\\\\text{jet}\\\\in[500,550]\\\\,\\\\text{GeV},\\\\,|y^\\\\text{jet} |&lt;1.7\\\\)</span></li>\\n</ul>\\n\\n<p>There are 20 files in each dataset, each in compressed NumPy format. Files including charm and bottom jets have &#39;withbc&#39; in their filename. There are two arrays in each file</p>\\n\\n<ul>\\n\\t<li>X: (100000,M,4), exactly 50k quark and 50k gluon jets, randomly sorted, where M is the max multiplicity of the jets in that file (other jets have been padded with zero-particles), and the features of each particle are its pt, rapidity, azimuthal angle, and pdgid.</li>\\n\\t<li>y: (100000,), an array of labels for the jets where gluon is 0 and quark is 1.</li>\\n</ul>\\n\\n<p>If you use this dataset, please cite this Zenodo record as well as the corresponding paper:</p>\\n\\n<ul>\\n\\t<li>P. T. Komiske, E. M. Metodiev, J. Thaler, Energy Flow Networks: Deep Sets for Particle Jets, JHEP 01 (2019) 121, arXiv:1810.05165.</li>\\n</ul>\\n\\n<p>For the corresponding dataset of Herwig jets, see <a href=\"https://zenodo.org/record/2664330\">this Zenodo record</a>. The datasets can be downloaded and read into python automatically using the&nbsp;<a href=\"https://energyflow.network/docs/datasets/#quark-and-gluon-jets\">EnergyFlow Python package</a>.</p>\\n\\n<p>Changes:</p>\\n\\n<ul>\\n\\t<li>v1 - Added files with b and c quark jets.</li>\\n</ul>', 'access_right': 'open', 'creators': [{'name': 'Komiske, Patrick', 'affiliation': 'MIT', 'orcid': '0000-0002-2983-9518'}, {'name': 'Metodiev, Eric', 'affiliation': 'MIT', 'orcid': '0000-0002-3995-5686'}, {'name': 'Thaler, Jesse', 'affiliation': 'MIT', 'orcid': '0000-0002-2406-8160'}], 'keywords': ['jet', 'quark', 'gluon', 'pythia', 'energyflow'], 'related_identifiers': [{'identifier': 'arXiv:1810.05165', 'relation': 'isSupplementTo', 'scheme': 'arxiv'}], 'version': 'v1', 'references': ['P. T. Komiske, E. M. Metodiev, J. Thaler, Energy Flow Networks: Deep Sets for Particle Jets, JHEP 01 (2019) 121, arXiv:1810.05165.', 'P. T. Komiske, E. M. Metodiev, EnergyFlow, https://energyflow.network.'], 'resource_type': {'title': 'Dataset', 'type': 'dataset'}, 'license': {'id': 'cc-by-4.0'}, 'relations': {'version': [{'index': 1, 'is_last': True, 'parent': {'pid_type': 'recid', 'pid_value': '2658763'}}]}}, 'title': 'Pythia8 Quark and Gluon Jets for Energy Flow', 'links': {'self': 'https://zenodo.org/api/records/3164691', 'self_html': 'https://zenodo.org/records/3164691', 'self_doi': 'https://zenodo.org/doi/10.5281/zenodo.3164691', 'doi': 'https://doi.org/10.5281/zenodo.3164691', 'parent': 'https://zenodo.org/api/records/2658763', 'parent_html': 'https://zenodo.org/records/2658763', 'parent_doi': 'https://zenodo.org/doi/10.5281/zenodo.2658763', 'self_iiif_manifest': 'https://zenodo.org/api/iiif/record:3164691/manifest', 'self_iiif_sequence': 'https://zenodo.org/api/iiif/record:3164691/sequence/default', 'files': 'https://zenodo.org/api/records/3164691/files', 'media_files': 'https://zenodo.org/api/records/3164691/media-files', 'archive': 'https://zenodo.org/api/records/3164691/files-archive', 'archive_media': 'https://zenodo.org/api/records/3164691/media-files-archive', 'latest': 'https://zenodo.org/api/records/3164691/versions/latest', 'latest_html': 'https://zenodo.org/records/3164691/latest', 'draft': 'https://zenodo.org/api/records/3164691/draft', 'versions': 'https://zenodo.org/api/records/3164691/versions', 'access_links': 'https://zenodo.org/api/records/3164691/access/links', 'access_grants': 'https://zenodo.org/api/records/3164691/access/grants', 'access_users': 'https://zenodo.org/api/records/3164691/access/users', 'access_request': 'https://zenodo.org/api/records/3164691/access/request', 'access': 'https://zenodo.org/api/records/3164691/access', 'reserve_doi': 'https://zenodo.org/api/records/3164691/draft/pids/doi', 'communities': 'https://zenodo.org/api/records/3164691/communities', 'communities-suggestions': 'https://zenodo.org/api/records/3164691/communities-suggestions', 'requests': 'https://zenodo.org/api/records/3164691/requests'}, 'updated': '2020-01-24T19:24:53.854409+00:00', 'recid': '3164691', 'revision': 6, 'files': [{'id': 'd6f8d2d7-b568-49e0-89b8-70908b4f0001', 'key': 'QG_jets_4.npz', 'size': 106565182, 'checksum': 'md5:a56d6bb98361b55382aa8c06225e05d8', 'links': {'self': 'https://zenodo.org/api/records/3164691/files/QG_jets_4.npz/content'}}, {'id': '86e60ffb-f66c-417e-af65-66b9f5d2b918', 'key': 'QG_jets_withbc_16.npz', 'size': 107107377, 'checksum': 'md5:c611ace22f23518ae20d9e828fb5d0bc', 'links': {'self': 'https://zenodo.org/api/records/3164691/files/QG_jets_withbc_16.npz/content'}}, {'id': '140e7959-c44f-4a64-9e7e-bbc6d3056613', 'key': 'QG_jets_withbc_17.npz', 'size': 106653616, 'checksum': 'md5:821cff3746d2fa07ad1b9feb056dd88b', 'links': {'self': 'https://zenodo.org/api/records/3164691/files/QG_jets_withbc_17.npz/content'}}, {'id': 'e713842e-4fdc-437c-af55-24c307d0d513', 'key': 'QG_jets_19.npz', 'size': 106802397, 'checksum': 'md5:6753508e34014cc69714a01fca20ec38', 'links': {'self': 'https://zenodo.org/api/records/3164691/files/QG_jets_19.npz/content'}}, {'id': '0e92ede4-bd39-4885-99e7-7a4c4e957019', 'key': 'QG_jets_6.npz', 'size': 106687429, 'checksum': 'md5:95a9f7e555fb7b1073967056b9030b11', 'links': {'self': 'https://zenodo.org/api/records/3164691/files/QG_jets_6.npz/content'}}, {'id': 'ba2342e4-88bf-4f43-af70-99d793ac1e4f', 'key': 'QG_jets_withbc_18.npz', 'size': 106973398, 'checksum': 'md5:5c4775a99d18ac713360d9bbc43bfb43', 'links': {'self': 'https://zenodo.org/api/records/3164691/files/QG_jets_withbc_18.npz/content'}}, {'id': '95099b93-0c17-420a-a791-28ddd6d5296c', 'key': 'QG_jets_withbc_15.npz', 'size': 106736157, 'checksum': 'md5:dae5923aba89ad393e1c59c63f2552e2', 'links': {'self': 'https://zenodo.org/api/records/3164691/files/QG_jets_withbc_15.npz/content'}}, {'id': 'a8935c70-9dbf-4061-abf1-b35581cb2781', 'key': 'QG_jets_1.npz', 'size': 106477587, 'checksum': 'md5:f6a1081c76a47386bc11abcf0e499552', 'links': {'self': 'https://zenodo.org/api/records/3164691/files/QG_jets_1.npz/content'}}, {'id': 'bf89ecbc-05b9-496a-84ce-f8edef11c29d', 'key': 'QG_jets_7.npz', 'size': 106651521, 'checksum': 'md5:4ae72aaabe121bd489532c99a6bdde95', 'links': {'self': 'https://zenodo.org/api/records/3164691/files/QG_jets_7.npz/content'}}, {'id': '686334d2-89bc-4717-a4f6-2823b06af7b8', 'key': 'QG_jets_18.npz', 'size': 106552587, 'checksum': 'md5:d43d611484b55391e891ba31c605f792', 'links': {'self': 'https://zenodo.org/api/records/3164691/files/QG_jets_18.npz/content'}}, {'id': 'c10947bd-02c5-462d-a250-ca71239add57', 'key': 'QG_jets_17.npz', 'size': 106507224, 'checksum': 'md5:8fd47760957b5fd9adec9048b50cd1a9', 'links': {'self': 'https://zenodo.org/api/records/3164691/files/QG_jets_17.npz/content'}}, {'id': 'bad4478f-e940-4810-9790-3022e72a8d7f', 'key': 'QG_jets_16.npz', 'size': 106709425, 'checksum': 'md5:48605d55edff665f0c7d2f800b5a622e', 'links': {'self': 'https://zenodo.org/api/records/3164691/files/QG_jets_16.npz/content'}}, {'id': '60806f68-44d7-419d-9c50-e4d3fa10ef20', 'key': 'QG_jets_withbc_19.npz', 'size': 106706913, 'checksum': 'md5:5fd9bcfa8baafb6b3f6efb5114420976', 'links': {'self': 'https://zenodo.org/api/records/3164691/files/QG_jets_withbc_19.npz/content'}}, {'id': '156250c3-00fa-4241-9cf4-0afbad6fcb24', 'key': 'QG_jets_15.npz', 'size': 106666295, 'checksum': 'md5:c5e083019de6cd6a0ef12bcec1ea566b', 'links': {'self': 'https://zenodo.org/api/records/3164691/files/QG_jets_15.npz/content'}}, {'id': '034f842c-34e3-46e8-a12e-173b0e0791ad', 'key': 'QG_jets_withbc_1.npz', 'size': 106915710, 'checksum': 'md5:5e0c0a08c5de47b190b514ce49ff4e94', 'links': {'self': 'https://zenodo.org/api/records/3164691/files/QG_jets_withbc_1.npz/content'}}, {'id': 'cf82f7f0-95c8-4343-9675-208fa46a8f67', 'key': 'QG_jets_withbc_2.npz', 'size': 106703159, 'checksum': 'md5:7c4209b14f778bb6c8cb6833a3d47854', 'links': {'self': 'https://zenodo.org/api/records/3164691/files/QG_jets_withbc_2.npz/content'}}, {'id': '4773d40a-415b-4ec8-91ad-f82a71ec9e01', 'key': 'QG_jets_withbc_14.npz', 'size': 107142865, 'checksum': 'md5:625a2d19e9b3ac6907362be3cefc404c', 'links': {'self': 'https://zenodo.org/api/records/3164691/files/QG_jets_withbc_14.npz/content'}}, {'id': '52015627-ad26-40ce-af34-faa6006f266e', 'key': 'QG_jets_14.npz', 'size': 106555251, 'checksum': 'md5:488ced3ea409d7e2b196da67f7d182ec', 'links': {'self': 'https://zenodo.org/api/records/3164691/files/QG_jets_14.npz/content'}}, {'id': 'a455dfc6-f776-4ed5-bdca-bfc819452ac9', 'key': 'QG_jets_withbc_3.npz', 'size': 106817189, 'checksum': 'md5:cabbd75d4313e07bf8cd8e3479e06c18', 'links': {'self': 'https://zenodo.org/api/records/3164691/files/QG_jets_withbc_3.npz/content'}}, {'id': 'a77a2112-442a-48bf-a9ea-d2da99aafe3e', 'key': 'QG_jets_13.npz', 'size': 106771379, 'checksum': 'md5:af45818c361e11ca9b3adaba30db06ad', 'links': {'self': 'https://zenodo.org/api/records/3164691/files/QG_jets_13.npz/content'}}, {'id': 'dec70f06-2e6f-4991-8dd4-4750be45b1b3', 'key': 'QG_jets_12.npz', 'size': 106691248, 'checksum': 'md5:1ed1f6f19fb8439c9811dced41d5127d', 'links': {'self': 'https://zenodo.org/api/records/3164691/files/QG_jets_12.npz/content'}}, {'id': '9a412cd1-96c2-41ed-af1d-9f3ff4e0cc28', 'key': 'QG_jets_5.npz', 'size': 106582696, 'checksum': 'md5:266c688e9e6ff1cd20840692d45eaaf8', 'links': {'self': 'https://zenodo.org/api/records/3164691/files/QG_jets_5.npz/content'}}, {'id': 'a6930943-8204-4a56-a7fb-fea914065750', 'key': 'QG_jets_11.npz', 'size': 106648707, 'checksum': 'md5:ccd29c9d1abb34dd7cfb48cfc57a9695', 'links': {'self': 'https://zenodo.org/api/records/3164691/files/QG_jets_11.npz/content'}}, {'id': '61b7d854-7148-4e3a-9287-99d2b0c1c099', 'key': 'QG_jets_10.npz', 'size': 106512110, 'checksum': 'md5:4b424b553e1e7f852e47ea9904bc2dcf', 'links': {'self': 'https://zenodo.org/api/records/3164691/files/QG_jets_10.npz/content'}}, {'id': '9b7595a0-c893-41b7-b16a-66817dc29b83', 'key': 'QG_jets_2.npz', 'size': 106490468, 'checksum': 'md5:2628367c57ba598f4473c870d1381041', 'links': {'self': 'https://zenodo.org/api/records/3164691/files/QG_jets_2.npz/content'}}, {'id': '7653d5d7-7f8f-4a6a-a855-af13b59da214', 'key': 'QG_jets_8.npz', 'size': 106844873, 'checksum': 'md5:a2b80bd4199468fde4f302d346a8c9d8', 'links': {'self': 'https://zenodo.org/api/records/3164691/files/QG_jets_8.npz/content'}}, {'id': '15cea9a6-93c3-404b-bc98-068ca11031a6', 'key': 'QG_jets_9.npz', 'size': 106562240, 'checksum': 'md5:1157cbace488c70c9dcfc250f3345b06', 'links': {'self': 'https://zenodo.org/api/records/3164691/files/QG_jets_9.npz/content'}}, {'id': 'b8c47a95-f305-4593-b697-1ae2cc3ea20e', 'key': 'QG_jets.npz', 'size': 106689379, 'checksum': 'md5:f5d052f10a79c6e8b9382637aca0ef52', 'links': {'self': 'https://zenodo.org/api/records/3164691/files/QG_jets.npz/content'}}, {'id': 'd5612a5f-e1e3-4bbc-a274-b94fbbd67db6', 'key': 'QG_jets_withbc_9.npz', 'size': 107086295, 'checksum': 'md5:40b9d803d1579ef77d6eda733e385e22', 'links': {'self': 'https://zenodo.org/api/records/3164691/files/QG_jets_withbc_9.npz/content'}}, {'id': '2cb36b24-7501-4108-a014-9e2e8d8d08a4', 'key': 'QG_jets_withbc_8.npz', 'size': 106711619, 'checksum': 'md5:a7d76ec2ab2ef6d5777de5574e289c26', 'links': {'self': 'https://zenodo.org/api/records/3164691/files/QG_jets_withbc_8.npz/content'}}, {'id': '51776492-9e0b-46e2-9872-f8120cd628ff', 'key': 'QG_jets_withbc_0.npz', 'size': 106768083, 'checksum': 'md5:e9ac4044a07f56a919a96e2b30c15fed', 'links': {'self': 'https://zenodo.org/api/records/3164691/files/QG_jets_withbc_0.npz/content'}}, {'id': 'a2db6fdc-53c9-41e7-94b8-8ec162c25218', 'key': 'QG_jets_withbc_13.npz', 'size': 106814110, 'checksum': 'md5:d3dca7cb617c66e6f58ea248a10b5ccb', 'links': {'self': 'https://zenodo.org/api/records/3164691/files/QG_jets_withbc_13.npz/content'}}, {'id': '6e56b2f5-fbce-494f-9942-f2ecd86b18a8', 'key': 'QG_jets_withbc_4.npz', 'size': 107022825, 'checksum': 'md5:87e793e74e5e665e40c1ece764952934', 'links': {'self': 'https://zenodo.org/api/records/3164691/files/QG_jets_withbc_4.npz/content'}}, {'id': '9e24b4bd-f34e-44d7-b79e-f2f0df489d49', 'key': 'QG_jets_withbc_7.npz', 'size': 106987327, 'checksum': 'md5:4220bee4b081850e41b3462c06538bda', 'links': {'self': 'https://zenodo.org/api/records/3164691/files/QG_jets_withbc_7.npz/content'}}, {'id': '4113ea69-e043-4814-879b-a3bf3532e2e2', 'key': 'QG_jets_withbc_6.npz', 'size': 106876101, 'checksum': 'md5:fed4dfe45618598c853f8d9d24a40afd', 'links': {'self': 'https://zenodo.org/api/records/3164691/files/QG_jets_withbc_6.npz/content'}}, {'id': '6d65f730-ebad-4e47-96e9-fa3929e4ef4f', 'key': 'QG_jets_withbc_12.npz', 'size': 107113462, 'checksum': 'md5:68514a76032dddb3b9cfd38654a4d433', 'links': {'self': 'https://zenodo.org/api/records/3164691/files/QG_jets_withbc_12.npz/content'}}, {'id': '1e2f6a19-0ef8-4ea4-9d64-0fff8b45c375', 'key': 'QG_jets_withbc_5.npz', 'size': 106853002, 'checksum': 'md5:fd0ff359e1e64023b1c1f05e854c7180', 'links': {'self': 'https://zenodo.org/api/records/3164691/files/QG_jets_withbc_5.npz/content'}}, {'id': '9ffebc9c-d7c4-4a4a-af5f-96d710dc9f9d', 'key': 'QG_jets_withbc_11.npz', 'size': 106863723, 'checksum': 'md5:d7731f5abdf7d3e0c17eca846c25eff3', 'links': {'self': 'https://zenodo.org/api/records/3164691/files/QG_jets_withbc_11.npz/content'}}, {'id': '98f05bb1-2a58-4665-9440-b9e3b9d718ac', 'key': 'QG_jets_withbc_10.npz', 'size': 106742588, 'checksum': 'md5:bd5871239ddadcf080e62ffea07bb122', 'links': {'self': 'https://zenodo.org/api/records/3164691/files/QG_jets_withbc_10.npz/content'}}, {'id': '12628bc9-4a37-4825-94d8-cb91f2322269', 'key': 'QG_jets_3.npz', 'size': 106428597, 'checksum': 'md5:dd3ad998b0a1bd9acea2ecf029a8a921', 'links': {'self': 'https://zenodo.org/api/records/3164691/files/QG_jets_3.npz/content'}}], 'owners': [{'id': '63280'}], 'status': 'published', 'stats': {'downloads': 9918, 'unique_downloads': 5060, 'views': 4325, 'unique_views': 3876, 'version_downloads': 9729, 'version_unique_downloads': 4931, 'version_unique_views': 3445, 'version_views': 3862}, 'state': 'done', 'submitted': True}\n"
     ]
    }
   ],
   "source": [
    "import requests\n",
    "record_id = \"3164691\"\n",
    "repository_url = f\"https://zenodo.org/api/records/{record_id}\"\n",
    "response = requests.get(repository_url, params={'access_token': ACCESS_TOKEN})\n",
    "print(response.status_code)\n",
    "data = response.json()"
   ]
  },
  {
   "cell_type": "code",
   "execution_count": 38,
   "metadata": {},
   "outputs": [
    {
     "name": "stdout",
     "output_type": "stream",
     "text": [
      "created: 2019-05-22T19:44:25.250309+00:00\n",
      "modified: 2020-01-24T19:24:53.854409+00:00\n",
      "id: 3164691\n",
      "conceptrecid: 2658763\n",
      "doi: 10.5281/zenodo.3164691\n",
      "conceptdoi: 10.5281/zenodo.2658763\n",
      "doi_url: https://doi.org/10.5281/zenodo.3164691\n",
      "metadata: {'title': 'Pythia8 Quark and Gluon Jets for Energy Flow', 'doi': '10.5281/zenodo.3164691', 'publication_date': '2019-05-02', 'description': '<p>Two&nbsp;datasets of quark and gluon jets generated with Pythia 8, one with all kinematically realizable quark jets and one that excludes charm and bottom quark jets (at the level of the hard process). The one without c and b jets was originally used in <a href=\"https://arxiv.org/abs/1810.05165\">Energy Flow Networks: Deep Sets for Particle Jets</a>. Generation parameters are listed below:</p>\\n\\n<ul>\\n\\t<li>Pythia 8.226 (without bc jets), Pythia 8.235 (with bc jets),&nbsp;<span class=\"math-tex\">\\\\(\\\\sqrt{s}=14\\\\,\\\\text{TeV} \\\\)</span></li>\\n\\t<li>Quarks&nbsp;from&nbsp;WeakBosonAndParton:qg2gmZq, gluons from&nbsp;WeakBosonAndParton:qqbar2gmZg with the Z decaying to neutrinos</li>\\n\\t<li>FastJet 3.3.0, anti-ki jets with R=0.4</li>\\n\\t<li><span class=\"math-tex\">\\\\(p_T^\\\\text{jet}\\\\in[500,550]\\\\,\\\\text{GeV},\\\\,|y^\\\\text{jet} |&lt;1.7\\\\)</span></li>\\n</ul>\\n\\n<p>There are 20 files in each dataset, each in compressed NumPy format. Files including charm and bottom jets have &#39;withbc&#39; in their filename. There are two arrays in each file</p>\\n\\n<ul>\\n\\t<li>X: (100000,M,4), exactly 50k quark and 50k gluon jets, randomly sorted, where M is the max multiplicity of the jets in that file (other jets have been padded with zero-particles), and the features of each particle are its pt, rapidity, azimuthal angle, and pdgid.</li>\\n\\t<li>y: (100000,), an array of labels for the jets where gluon is 0 and quark is 1.</li>\\n</ul>\\n\\n<p>If you use this dataset, please cite this Zenodo record as well as the corresponding paper:</p>\\n\\n<ul>\\n\\t<li>P. T. Komiske, E. M. Metodiev, J. Thaler, Energy Flow Networks: Deep Sets for Particle Jets, JHEP 01 (2019) 121, arXiv:1810.05165.</li>\\n</ul>\\n\\n<p>For the corresponding dataset of Herwig jets, see <a href=\"https://zenodo.org/record/2664330\">this Zenodo record</a>. The datasets can be downloaded and read into python automatically using the&nbsp;<a href=\"https://energyflow.network/docs/datasets/#quark-and-gluon-jets\">EnergyFlow Python package</a>.</p>\\n\\n<p>Changes:</p>\\n\\n<ul>\\n\\t<li>v1 - Added files with b and c quark jets.</li>\\n</ul>', 'access_right': 'open', 'creators': [{'name': 'Komiske, Patrick', 'affiliation': 'MIT', 'orcid': '0000-0002-2983-9518'}, {'name': 'Metodiev, Eric', 'affiliation': 'MIT', 'orcid': '0000-0002-3995-5686'}, {'name': 'Thaler, Jesse', 'affiliation': 'MIT', 'orcid': '0000-0002-2406-8160'}], 'keywords': ['jet', 'quark', 'gluon', 'pythia', 'energyflow'], 'related_identifiers': [{'identifier': 'arXiv:1810.05165', 'relation': 'isSupplementTo', 'scheme': 'arxiv'}], 'version': 'v1', 'references': ['P. T. Komiske, E. M. Metodiev, J. Thaler, Energy Flow Networks: Deep Sets for Particle Jets, JHEP 01 (2019) 121, arXiv:1810.05165.', 'P. T. Komiske, E. M. Metodiev, EnergyFlow, https://energyflow.network.'], 'resource_type': {'title': 'Dataset', 'type': 'dataset'}, 'license': {'id': 'cc-by-4.0'}, 'relations': {'version': [{'index': 1, 'is_last': True, 'parent': {'pid_type': 'recid', 'pid_value': '2658763'}}]}}\n",
      "title: Pythia8 Quark and Gluon Jets for Energy Flow\n",
      "links: {'self': 'https://zenodo.org/api/records/3164691', 'self_html': 'https://zenodo.org/records/3164691', 'self_doi': 'https://zenodo.org/doi/10.5281/zenodo.3164691', 'doi': 'https://doi.org/10.5281/zenodo.3164691', 'parent': 'https://zenodo.org/api/records/2658763', 'parent_html': 'https://zenodo.org/records/2658763', 'parent_doi': 'https://zenodo.org/doi/10.5281/zenodo.2658763', 'self_iiif_manifest': 'https://zenodo.org/api/iiif/record:3164691/manifest', 'self_iiif_sequence': 'https://zenodo.org/api/iiif/record:3164691/sequence/default', 'files': 'https://zenodo.org/api/records/3164691/files', 'media_files': 'https://zenodo.org/api/records/3164691/media-files', 'archive': 'https://zenodo.org/api/records/3164691/files-archive', 'archive_media': 'https://zenodo.org/api/records/3164691/media-files-archive', 'latest': 'https://zenodo.org/api/records/3164691/versions/latest', 'latest_html': 'https://zenodo.org/records/3164691/latest', 'draft': 'https://zenodo.org/api/records/3164691/draft', 'versions': 'https://zenodo.org/api/records/3164691/versions', 'access_links': 'https://zenodo.org/api/records/3164691/access/links', 'access_grants': 'https://zenodo.org/api/records/3164691/access/grants', 'access_users': 'https://zenodo.org/api/records/3164691/access/users', 'access_request': 'https://zenodo.org/api/records/3164691/access/request', 'access': 'https://zenodo.org/api/records/3164691/access', 'reserve_doi': 'https://zenodo.org/api/records/3164691/draft/pids/doi', 'communities': 'https://zenodo.org/api/records/3164691/communities', 'communities-suggestions': 'https://zenodo.org/api/records/3164691/communities-suggestions', 'requests': 'https://zenodo.org/api/records/3164691/requests'}\n",
      "updated: 2020-01-24T19:24:53.854409+00:00\n",
      "recid: 3164691\n",
      "revision: 6\n",
      "files: [{'id': 'd6f8d2d7-b568-49e0-89b8-70908b4f0001', 'key': 'QG_jets_4.npz', 'size': 106565182, 'checksum': 'md5:a56d6bb98361b55382aa8c06225e05d8', 'links': {'self': 'https://zenodo.org/api/records/3164691/files/QG_jets_4.npz/content'}}, {'id': '86e60ffb-f66c-417e-af65-66b9f5d2b918', 'key': 'QG_jets_withbc_16.npz', 'size': 107107377, 'checksum': 'md5:c611ace22f23518ae20d9e828fb5d0bc', 'links': {'self': 'https://zenodo.org/api/records/3164691/files/QG_jets_withbc_16.npz/content'}}, {'id': '140e7959-c44f-4a64-9e7e-bbc6d3056613', 'key': 'QG_jets_withbc_17.npz', 'size': 106653616, 'checksum': 'md5:821cff3746d2fa07ad1b9feb056dd88b', 'links': {'self': 'https://zenodo.org/api/records/3164691/files/QG_jets_withbc_17.npz/content'}}, {'id': 'e713842e-4fdc-437c-af55-24c307d0d513', 'key': 'QG_jets_19.npz', 'size': 106802397, 'checksum': 'md5:6753508e34014cc69714a01fca20ec38', 'links': {'self': 'https://zenodo.org/api/records/3164691/files/QG_jets_19.npz/content'}}, {'id': '0e92ede4-bd39-4885-99e7-7a4c4e957019', 'key': 'QG_jets_6.npz', 'size': 106687429, 'checksum': 'md5:95a9f7e555fb7b1073967056b9030b11', 'links': {'self': 'https://zenodo.org/api/records/3164691/files/QG_jets_6.npz/content'}}, {'id': 'ba2342e4-88bf-4f43-af70-99d793ac1e4f', 'key': 'QG_jets_withbc_18.npz', 'size': 106973398, 'checksum': 'md5:5c4775a99d18ac713360d9bbc43bfb43', 'links': {'self': 'https://zenodo.org/api/records/3164691/files/QG_jets_withbc_18.npz/content'}}, {'id': '95099b93-0c17-420a-a791-28ddd6d5296c', 'key': 'QG_jets_withbc_15.npz', 'size': 106736157, 'checksum': 'md5:dae5923aba89ad393e1c59c63f2552e2', 'links': {'self': 'https://zenodo.org/api/records/3164691/files/QG_jets_withbc_15.npz/content'}}, {'id': 'a8935c70-9dbf-4061-abf1-b35581cb2781', 'key': 'QG_jets_1.npz', 'size': 106477587, 'checksum': 'md5:f6a1081c76a47386bc11abcf0e499552', 'links': {'self': 'https://zenodo.org/api/records/3164691/files/QG_jets_1.npz/content'}}, {'id': 'bf89ecbc-05b9-496a-84ce-f8edef11c29d', 'key': 'QG_jets_7.npz', 'size': 106651521, 'checksum': 'md5:4ae72aaabe121bd489532c99a6bdde95', 'links': {'self': 'https://zenodo.org/api/records/3164691/files/QG_jets_7.npz/content'}}, {'id': '686334d2-89bc-4717-a4f6-2823b06af7b8', 'key': 'QG_jets_18.npz', 'size': 106552587, 'checksum': 'md5:d43d611484b55391e891ba31c605f792', 'links': {'self': 'https://zenodo.org/api/records/3164691/files/QG_jets_18.npz/content'}}, {'id': 'c10947bd-02c5-462d-a250-ca71239add57', 'key': 'QG_jets_17.npz', 'size': 106507224, 'checksum': 'md5:8fd47760957b5fd9adec9048b50cd1a9', 'links': {'self': 'https://zenodo.org/api/records/3164691/files/QG_jets_17.npz/content'}}, {'id': 'bad4478f-e940-4810-9790-3022e72a8d7f', 'key': 'QG_jets_16.npz', 'size': 106709425, 'checksum': 'md5:48605d55edff665f0c7d2f800b5a622e', 'links': {'self': 'https://zenodo.org/api/records/3164691/files/QG_jets_16.npz/content'}}, {'id': '60806f68-44d7-419d-9c50-e4d3fa10ef20', 'key': 'QG_jets_withbc_19.npz', 'size': 106706913, 'checksum': 'md5:5fd9bcfa8baafb6b3f6efb5114420976', 'links': {'self': 'https://zenodo.org/api/records/3164691/files/QG_jets_withbc_19.npz/content'}}, {'id': '156250c3-00fa-4241-9cf4-0afbad6fcb24', 'key': 'QG_jets_15.npz', 'size': 106666295, 'checksum': 'md5:c5e083019de6cd6a0ef12bcec1ea566b', 'links': {'self': 'https://zenodo.org/api/records/3164691/files/QG_jets_15.npz/content'}}, {'id': '034f842c-34e3-46e8-a12e-173b0e0791ad', 'key': 'QG_jets_withbc_1.npz', 'size': 106915710, 'checksum': 'md5:5e0c0a08c5de47b190b514ce49ff4e94', 'links': {'self': 'https://zenodo.org/api/records/3164691/files/QG_jets_withbc_1.npz/content'}}, {'id': 'cf82f7f0-95c8-4343-9675-208fa46a8f67', 'key': 'QG_jets_withbc_2.npz', 'size': 106703159, 'checksum': 'md5:7c4209b14f778bb6c8cb6833a3d47854', 'links': {'self': 'https://zenodo.org/api/records/3164691/files/QG_jets_withbc_2.npz/content'}}, {'id': '4773d40a-415b-4ec8-91ad-f82a71ec9e01', 'key': 'QG_jets_withbc_14.npz', 'size': 107142865, 'checksum': 'md5:625a2d19e9b3ac6907362be3cefc404c', 'links': {'self': 'https://zenodo.org/api/records/3164691/files/QG_jets_withbc_14.npz/content'}}, {'id': '52015627-ad26-40ce-af34-faa6006f266e', 'key': 'QG_jets_14.npz', 'size': 106555251, 'checksum': 'md5:488ced3ea409d7e2b196da67f7d182ec', 'links': {'self': 'https://zenodo.org/api/records/3164691/files/QG_jets_14.npz/content'}}, {'id': 'a455dfc6-f776-4ed5-bdca-bfc819452ac9', 'key': 'QG_jets_withbc_3.npz', 'size': 106817189, 'checksum': 'md5:cabbd75d4313e07bf8cd8e3479e06c18', 'links': {'self': 'https://zenodo.org/api/records/3164691/files/QG_jets_withbc_3.npz/content'}}, {'id': 'a77a2112-442a-48bf-a9ea-d2da99aafe3e', 'key': 'QG_jets_13.npz', 'size': 106771379, 'checksum': 'md5:af45818c361e11ca9b3adaba30db06ad', 'links': {'self': 'https://zenodo.org/api/records/3164691/files/QG_jets_13.npz/content'}}, {'id': 'dec70f06-2e6f-4991-8dd4-4750be45b1b3', 'key': 'QG_jets_12.npz', 'size': 106691248, 'checksum': 'md5:1ed1f6f19fb8439c9811dced41d5127d', 'links': {'self': 'https://zenodo.org/api/records/3164691/files/QG_jets_12.npz/content'}}, {'id': '9a412cd1-96c2-41ed-af1d-9f3ff4e0cc28', 'key': 'QG_jets_5.npz', 'size': 106582696, 'checksum': 'md5:266c688e9e6ff1cd20840692d45eaaf8', 'links': {'self': 'https://zenodo.org/api/records/3164691/files/QG_jets_5.npz/content'}}, {'id': 'a6930943-8204-4a56-a7fb-fea914065750', 'key': 'QG_jets_11.npz', 'size': 106648707, 'checksum': 'md5:ccd29c9d1abb34dd7cfb48cfc57a9695', 'links': {'self': 'https://zenodo.org/api/records/3164691/files/QG_jets_11.npz/content'}}, {'id': '61b7d854-7148-4e3a-9287-99d2b0c1c099', 'key': 'QG_jets_10.npz', 'size': 106512110, 'checksum': 'md5:4b424b553e1e7f852e47ea9904bc2dcf', 'links': {'self': 'https://zenodo.org/api/records/3164691/files/QG_jets_10.npz/content'}}, {'id': '9b7595a0-c893-41b7-b16a-66817dc29b83', 'key': 'QG_jets_2.npz', 'size': 106490468, 'checksum': 'md5:2628367c57ba598f4473c870d1381041', 'links': {'self': 'https://zenodo.org/api/records/3164691/files/QG_jets_2.npz/content'}}, {'id': '7653d5d7-7f8f-4a6a-a855-af13b59da214', 'key': 'QG_jets_8.npz', 'size': 106844873, 'checksum': 'md5:a2b80bd4199468fde4f302d346a8c9d8', 'links': {'self': 'https://zenodo.org/api/records/3164691/files/QG_jets_8.npz/content'}}, {'id': '15cea9a6-93c3-404b-bc98-068ca11031a6', 'key': 'QG_jets_9.npz', 'size': 106562240, 'checksum': 'md5:1157cbace488c70c9dcfc250f3345b06', 'links': {'self': 'https://zenodo.org/api/records/3164691/files/QG_jets_9.npz/content'}}, {'id': 'b8c47a95-f305-4593-b697-1ae2cc3ea20e', 'key': 'QG_jets.npz', 'size': 106689379, 'checksum': 'md5:f5d052f10a79c6e8b9382637aca0ef52', 'links': {'self': 'https://zenodo.org/api/records/3164691/files/QG_jets.npz/content'}}, {'id': 'd5612a5f-e1e3-4bbc-a274-b94fbbd67db6', 'key': 'QG_jets_withbc_9.npz', 'size': 107086295, 'checksum': 'md5:40b9d803d1579ef77d6eda733e385e22', 'links': {'self': 'https://zenodo.org/api/records/3164691/files/QG_jets_withbc_9.npz/content'}}, {'id': '2cb36b24-7501-4108-a014-9e2e8d8d08a4', 'key': 'QG_jets_withbc_8.npz', 'size': 106711619, 'checksum': 'md5:a7d76ec2ab2ef6d5777de5574e289c26', 'links': {'self': 'https://zenodo.org/api/records/3164691/files/QG_jets_withbc_8.npz/content'}}, {'id': '51776492-9e0b-46e2-9872-f8120cd628ff', 'key': 'QG_jets_withbc_0.npz', 'size': 106768083, 'checksum': 'md5:e9ac4044a07f56a919a96e2b30c15fed', 'links': {'self': 'https://zenodo.org/api/records/3164691/files/QG_jets_withbc_0.npz/content'}}, {'id': 'a2db6fdc-53c9-41e7-94b8-8ec162c25218', 'key': 'QG_jets_withbc_13.npz', 'size': 106814110, 'checksum': 'md5:d3dca7cb617c66e6f58ea248a10b5ccb', 'links': {'self': 'https://zenodo.org/api/records/3164691/files/QG_jets_withbc_13.npz/content'}}, {'id': '6e56b2f5-fbce-494f-9942-f2ecd86b18a8', 'key': 'QG_jets_withbc_4.npz', 'size': 107022825, 'checksum': 'md5:87e793e74e5e665e40c1ece764952934', 'links': {'self': 'https://zenodo.org/api/records/3164691/files/QG_jets_withbc_4.npz/content'}}, {'id': '9e24b4bd-f34e-44d7-b79e-f2f0df489d49', 'key': 'QG_jets_withbc_7.npz', 'size': 106987327, 'checksum': 'md5:4220bee4b081850e41b3462c06538bda', 'links': {'self': 'https://zenodo.org/api/records/3164691/files/QG_jets_withbc_7.npz/content'}}, {'id': '4113ea69-e043-4814-879b-a3bf3532e2e2', 'key': 'QG_jets_withbc_6.npz', 'size': 106876101, 'checksum': 'md5:fed4dfe45618598c853f8d9d24a40afd', 'links': {'self': 'https://zenodo.org/api/records/3164691/files/QG_jets_withbc_6.npz/content'}}, {'id': '6d65f730-ebad-4e47-96e9-fa3929e4ef4f', 'key': 'QG_jets_withbc_12.npz', 'size': 107113462, 'checksum': 'md5:68514a76032dddb3b9cfd38654a4d433', 'links': {'self': 'https://zenodo.org/api/records/3164691/files/QG_jets_withbc_12.npz/content'}}, {'id': '1e2f6a19-0ef8-4ea4-9d64-0fff8b45c375', 'key': 'QG_jets_withbc_5.npz', 'size': 106853002, 'checksum': 'md5:fd0ff359e1e64023b1c1f05e854c7180', 'links': {'self': 'https://zenodo.org/api/records/3164691/files/QG_jets_withbc_5.npz/content'}}, {'id': '9ffebc9c-d7c4-4a4a-af5f-96d710dc9f9d', 'key': 'QG_jets_withbc_11.npz', 'size': 106863723, 'checksum': 'md5:d7731f5abdf7d3e0c17eca846c25eff3', 'links': {'self': 'https://zenodo.org/api/records/3164691/files/QG_jets_withbc_11.npz/content'}}, {'id': '98f05bb1-2a58-4665-9440-b9e3b9d718ac', 'key': 'QG_jets_withbc_10.npz', 'size': 106742588, 'checksum': 'md5:bd5871239ddadcf080e62ffea07bb122', 'links': {'self': 'https://zenodo.org/api/records/3164691/files/QG_jets_withbc_10.npz/content'}}, {'id': '12628bc9-4a37-4825-94d8-cb91f2322269', 'key': 'QG_jets_3.npz', 'size': 106428597, 'checksum': 'md5:dd3ad998b0a1bd9acea2ecf029a8a921', 'links': {'self': 'https://zenodo.org/api/records/3164691/files/QG_jets_3.npz/content'}}]\n",
      "owners: [{'id': '63280'}]\n",
      "status: published\n",
      "stats: {'downloads': 9918, 'unique_downloads': 5060, 'views': 4325, 'unique_views': 3876, 'version_downloads': 9729, 'version_unique_downloads': 4931, 'version_unique_views': 3445, 'version_views': 3862}\n",
      "state: done\n",
      "submitted: True\n"
     ]
    }
   ],
   "source": [
    "for key, value in data.items():\n",
    "    print(f\"{key}: {value}\")"
   ]
  },
  {
   "cell_type": "code",
   "execution_count": 39,
   "metadata": {},
   "outputs": [],
   "source": [
    "import requests\n",
    "from pathlib import Path\n",
    "from tqdm import tqdm\n",
    "import hashlib\n",
    "import json\n",
    "import datetime\n",
    "\n",
    "def compute_md5(file_path):\n",
    "    \"\"\"\n",
    "    Compute the MD5 checksum of a file.\n",
    "    \"\"\"\n",
    "    md5 = hashlib.md5()\n",
    "    with open(file_path, \"rb\") as file:\n",
    "        for chunk in iter(lambda: file.read(4096), b\"\"):\n",
    "            md5.update(chunk)\n",
    "    return \"md5:{}\".format(md5.hexdigest())\n",
    "\n",
    "def download_zenodo_record(record_id, save_dir=\".\", access_token=ACCESS_TOKEN, do_not_save=False, max_files=-1):\n",
    "    repository_url = f\"https://zenodo.org/api/records/{record_id}\"\n",
    "    response = requests.get(repository_url, params={'access_token': ACCESS_TOKEN})\n",
    "    if response.status_code == 200:\n",
    "        data = response.json()\n",
    "        files = data[\"files\"]\n",
    "        print(f\"{record_id} has {len(files)} files.\")\n",
    "        if not do_not_save:\n",
    "            # add download date to the metadata\n",
    "            today = datetime.datetime.now().strftime(\"%Y-%m-%d\")\n",
    "            data[\"downloaded_on\"] = today\n",
    "\n",
    "            # save metadata for the record.\n",
    "            out_metaname = Path(save_dir) / f\"{record_id}.json\"\n",
    "            with open(out_metaname, \"w\") as f:\n",
    "                json.dump(data, f)\n",
    "\n",
    "            print(\"Saving files...\")\n",
    "            if max_files > 0:\n",
    "                print(f\"Downloading at most {max_files} files...\")\n",
    "            Path(save_dir).mkdir(parents=True, exist_ok=True)\n",
    "            for idx, file_info in enumerate(files):\n",
    "                if max_files > 0 and idx >= max_files:\n",
    "                    break\n",
    "                filename = file_info[\"key\"]\n",
    "                file_download_url = file_info[\"links\"][\"self\"]\n",
    "                file_size = file_info[\"size\"]\n",
    "                outname = Path(save_dir) / filename\n",
    "                if outname.exists():\n",
    "                    # check if the md5sum is the same\n",
    "                    current_md5 = compute_md5(outname)\n",
    "                    if current_md5 == file_info[\"checksum\"]:\n",
    "                        print(f\"File {filename} already exists. Skipping.\")\n",
    "                        continue\n",
    "                    else:\n",
    "                        print(f\"File {filename} already exists, but the checksum is different. Re-downloading.\")\n",
    "                        print(f\"{current_md5}, {file_info['checksum']}\")\n",
    "\n",
    "                with tqdm(total=file_size, unit='B', unit_scale=True, unit_divisor=1024, desc=filename) as pbar:\n",
    "                    def download_file(url, local_filename):\n",
    "                        with requests.get(url, stream=True) as r:\n",
    "                            r.raise_for_status()\n",
    "                            with open(local_filename, 'wb') as f:\n",
    "                                for chunk in r.iter_content(chunk_size=8192):\n",
    "                                    f.write(chunk)\n",
    "                                    pbar.update(len(chunk))\n",
    "                    download_file(file_download_url, outname)\n",
    "        else:\n",
    "            print(\", \".join([file_info[\"key\"] for file_info in files]))\n",
    "    else:\n",
    "        print(f\"Failed to get repository info: {response.status_code}\")\n",
    "        print(response.text)"
   ]
  },
  {
   "cell_type": "code",
   "execution_count": 40,
   "metadata": {},
   "outputs": [
    {
     "name": "stdout",
     "output_type": "stream",
     "text": [
      "3164691 has 40 files.\n",
      "Saving files...\n",
      "Downloading at most 1 files...\n",
      "File QG_jets_4.npz already exists. Skipping.\n"
     ]
    }
   ],
   "source": [
    "download_zenodo_record(3164691, save_dir=\".\", do_not_save=False, max_files=1)"
   ]
  },
  {
   "cell_type": "code",
   "execution_count": 42,
   "metadata": {},
   "outputs": [],
   "source": [
    "from dataclasses import dataclass\n",
    "\n",
    "@dataclass\n",
    "class ZenodoDataset:\n",
    "    record_id: int\n",
    "    title: str\n",
    "    save_dir: str\n"
   ]
  },
  {
   "cell_type": "code",
   "execution_count": 43,
   "metadata": {},
   "outputs": [],
   "source": [
    "HEP_datasets_in_Zenodo = [\n",
    "    ZenodoDataset(3164691, \"Pythia8 Quark and Gluon Jets for Energy Flow\", \"quark_gluon\"),\n",
    "    ZenodoDataset(2603256, \"Top Quark Tagging Reference Dataset\", \"top_tagging\"),\n",
    "    ZenodoDataset(6619768, \"JetClass: A Large-Scale Dataset for Deep Learning in Jet Physics\", \"jet_class\"),\n",
    "    ZenodoDataset(10246934, \"Herwig dataset for HadML particle GAN training\", \"herwig\"),\n",
    "    ZenodoDataset(8370883, \"MicroBooNE BNB Inclusive Overlay Sample (No Wire Info)\", \"microboone_nowire\"),\n",
    "    ZenodoDataset(8137810, \"Long-lived particles (LLP) in a monitored-drift-tube like detector\", \"llp_in_mdt\"),\n",
    "    ZenodoDataset(6975118, \"JetNet 30\", \"jetnet30\"),\n",
    "    ZenodoDataset(6975117, \"JetNet 150\", \"jetnet150\"),\n",
    "    ZenodoDataset(6047873, \"Particle-based Fast Jet Simulation at the LHC with Variational Autoencoders: generator-level and reconstruction-level jets dataset\", \"full_jet_dataset\"),\n",
    "    ZenodoDataset(6812533, \"Large Radius Tracking Events in pp collisions with a Generic detector\", \"lrt_acts_generic\"),\\\n",
    "    ZenodoDataset(3981290, \"Supervised jet clustering reference data\", \"supervised_jet_clustering\"),\n",
    "]"
   ]
  },
  {
   "cell_type": "code",
   "execution_count": null,
   "metadata": {},
   "outputs": [],
   "source": []
  }
 ],
 "metadata": {
  "kernelspec": {
   "display_name": ".venv",
   "language": "python",
   "name": "python3"
  },
  "language_info": {
   "codemirror_mode": {
    "name": "ipython",
    "version": 3
   },
   "file_extension": ".py",
   "mimetype": "text/x-python",
   "name": "python",
   "nbconvert_exporter": "python",
   "pygments_lexer": "ipython3",
   "version": "3.10.12"
  }
 },
 "nbformat": 4,
 "nbformat_minor": 2
}
