{
 "cells": [
  {
   "cell_type": "code",
   "execution_count": 1,
   "metadata": {},
   "outputs": [],
   "source": [
    "import numpy as np"
   ]
  },
  {
   "cell_type": "code",
   "execution_count": 2,
   "metadata": {},
   "outputs": [],
   "source": [
    "ndata = 11\n",
    "x = np.linspace(0, 1, ndata)"
   ]
  },
  {
   "cell_type": "code",
   "execution_count": 3,
   "metadata": {},
   "outputs": [],
   "source": [
    "k = 1.3\n",
    "b = 0.5\n",
    "y = k*x + b"
   ]
  },
  {
   "cell_type": "code",
   "execution_count": 4,
   "metadata": {},
   "outputs": [],
   "source": [
    "np.random.seed(40)\n",
    "data = y*(1 + np.random.normal(loc=0, scale=0.10, size=ndata))"
   ]
  },
  {
   "cell_type": "code",
   "execution_count": 5,
   "metadata": {},
   "outputs": [],
   "source": [
    "import matplotlib.pyplot as plt\n",
    "%matplotlib inline"
   ]
  },
  {
   "cell_type": "code",
   "execution_count": 17,
   "metadata": {},
   "outputs": [],
   "source": [
    "true_x = np.linspace(0, 1, 100)\n",
    "true_y = k*true_x + b"
   ]
  },
  {
   "cell_type": "code",
   "execution_count": 18,
   "metadata": {},
   "outputs": [],
   "source": [
    "from scipy import stats"
   ]
  },
  {
   "cell_type": "code",
   "execution_count": 19,
   "metadata": {},
   "outputs": [],
   "source": [
    "p, V = np.polyfit(x, data, 1, cov=True)"
   ]
  },
  {
   "cell_type": "code",
   "execution_count": 20,
   "metadata": {},
   "outputs": [
    {
     "name": "stdout",
     "output_type": "stream",
     "text": [
      "(array([ 1.4705246 ,  0.45184833]), array([[ 0.01761743, -0.00880872],\n",
      "       [-0.00880872,  0.0061661 ]]))\n"
     ]
    }
   ],
   "source": [
    "print(p, V)"
   ]
  },
  {
   "cell_type": "code",
   "execution_count": 21,
   "metadata": {},
   "outputs": [
    {
     "name": "stdout",
     "output_type": "stream",
     "text": [
      "slope: 1.47052459801 +/- 0.132730674131\n",
      "intercept: 0.451848325938 +/- 0.0785245257825\n"
     ]
    }
   ],
   "source": [
    "print \"slope: {} +/- {}\".format(p[0], np.sqrt(V[0][0]))\n",
    "print \"intercept: {} +/- {}\".format(p[1], np.sqrt(V[1][1]))"
   ]
  },
  {
   "cell_type": "code",
   "execution_count": 22,
   "metadata": {},
   "outputs": [],
   "source": [
    "fitted_y = p[0]*true_x + p[1]"
   ]
  },
  {
   "cell_type": "code",
   "execution_count": 23,
   "metadata": {},
   "outputs": [],
   "source": [
    "fitted_y_err = []\n",
    "for xi in true_x:\n",
    "    variance_y = np.matmul(np.array([xi, 1]), np.matmul(V, np.array([xi, 1]).transpose()))\n",
    "    fitted_y_err.append(np.sqrt(variance_y))\n",
    "fitted_y_err = np.array(fitted_y_err)"
   ]
  },
  {
   "cell_type": "code",
   "execution_count": 24,
   "metadata": {},
   "outputs": [],
   "source": [
    "fitted_y_up = fitted_y + fitted_y_err\n",
    "fitted_y_down = fitted_y - fitted_y_err"
   ]
  },
  {
   "cell_type": "code",
   "execution_count": 30,
   "metadata": {},
   "outputs": [
    {
     "data": {
      "image/png": "[encoded data removed]",
      "text/plain": [
       "<matplotlib.figure.Figure at 0x11b4a6310>"
      ]
     },
     "metadata": {},
     "output_type": "display_data"
    }
   ],
   "source": [
    "plt.plot(x, data, '*', label='data')\n",
    "plt.plot(true_x, true_y, '-', color='g', label='true')\n",
    "plt.plot(true_x, fitted_y, '--', label='fitted')\n",
    "plt.fill_between(true_x, fitted_y_down, fitted_y_up, color='orange')\n",
    "plt.legend()\n",
    "plt.savefig(\"line_fit.eps\")"
   ]
  },
  {
   "cell_type": "code",
   "execution_count": 29,
   "metadata": {},
   "outputs": [
    {
     "name": "stdout",
     "output_type": "stream",
     "text": [
      "0.0 & 0.1 & 0.2 & 0.3 & 0.4 & 0.5 & 0.6 & 0.7 & 0.8 & 0.9 & 1.0\n",
      "0.47 & 0.62 & 0.71 & 0.97 & 0.83 & 1.10 & 1.57 & 1.48 & 1.65 & 1.85 & 1.81\n"
     ]
    }
   ],
   "source": [
    "print(\" & \".join([str(i) for i in x]))\n",
    "print(\" & \".join([\"{:.2f}\".format(i) for i in data]))"
   ]
  },
  {
   "cell_type": "code",
   "execution_count": null,
   "metadata": {},
   "outputs": [],
   "source": []
  },
  {
   "cell_type": "code",
   "execution_count": 87,
   "metadata": {},
   "outputs": [
    {
     "name": "stdout",
     "output_type": "stream",
     "text": [
      "2.0.2\n"
     ]
    }
   ],
   "source": [
    "import matplotlib\n",
    "print(matplotlib.__version__)"
   ]
  },
  {
   "cell_type": "markdown",
   "metadata": {},
   "source": [
    "# P-values"
   ]
  },
  {
   "cell_type": "code",
   "execution_count": 42,
   "metadata": {},
   "outputs": [],
   "source": [
    "from scipy.stats import norm"
   ]
  },
  {
   "cell_type": "code",
   "execution_count": 104,
   "metadata": {},
   "outputs": [],
   "source": [
    "nbkg = 5000\n",
    "nsb = 5000\n",
    "background = np.random.normal(10, 4.4, nbkg)\n",
    "sb = np.random.normal(16, 3, nsb)"
   ]
  },
  {
   "cell_type": "code",
   "execution_count": 112,
   "metadata": {},
   "outputs": [
    {
     "data": {
      "image/png": "[encoded data removed]",
      "text/plain": [
       "<matplotlib.figure.Figure at 0x1137b3a90>"
      ]
     },
     "metadata": {},
     "output_type": "display_data"
    }
   ],
   "source": [
    "fig = plt.figure(figsize=(6, 6))\n",
    "ax = fig.add_subplot(1, 1, 1)\n",
    "x_range = (-5, 35)\n",
    "nbins = 40\n",
    "ndata = 15\n",
    "# hist_sb, bins, _ = ax.hist(sb, histtype='step', bins=nbins, \n",
    "#                            range=x_range, lw=2, label='H1',\n",
    "#                            color='blue', normed=1\n",
    "#                           )\n",
    "hist_b, bins, _ = ax.hist(background, histtype='step', \n",
    "                          bins=nbins, range=x_range, lw=2, label='H0',\n",
    "                          color='orange', normed=1\n",
    "                         )\n",
    "ax.plot([ndata, ndata], [0, 0.15], label=\"observed\", color='green')\n",
    "\n",
    "idatabin = 0\n",
    "for ibin,bin_val in enumerate(bins):\n",
    "    if bin_val >= ndata:\n",
    "        break\n",
    "    else:\n",
    "        idatabin = ibin\n",
    "        \n",
    "ax.fill_between(bins[ibin:][:-1], 0, hist_b[ibin:], color='orange', step='post')\n",
    "ax.annotate(\"p0-value\", xy=(16, 0.01), xytext=(25, 0.025), \n",
    "            arrowprops=dict(facecolor='black', shrink=0.02), fontsize='x-large')\n",
    "ax.set_xlabel(\"Test Statistic\")\n",
    "ax.legend()\n",
    "plt.savefig(\"p0_demo.eps\")"
   ]
  },
  {
   "cell_type": "code",
   "execution_count": 33,
   "metadata": {},
   "outputs": [
    {
     "data": {
      "image/png": "[encoded data removed]",
      "text/plain": [
       "<matplotlib.figure.Figure at 0x11b9a05d0>"
      ]
     },
     "metadata": {},
     "output_type": "display_data"
    }
   ],
   "source": [
    "np.random.seed(40)\n",
    "bkg_poisson = np.random.poisson(10, 5000)\n",
    "\n",
    "fig = plt.figure(figsize=(6, 6))\n",
    "ax = fig.add_subplot(1, 1, 1)\n",
    "x_range = (0, 30)\n",
    "nbins = 30\n",
    "\n",
    "ndata = 15\n",
    "\n",
    "hist_b, bins, _ = ax.hist(bkg_poisson, histtype='step', \n",
    "                          bins=nbins, range=x_range, lw=2, label='background-only',\n",
    "                          color='orange', normed=1\n",
    "                         )\n",
    "ax.plot([ndata, ndata], [0, 0.15], label=\"observed\", color='green')\n",
    "\n",
    "idatabin = 0\n",
    "for ibin,bin_val in enumerate(bins):\n",
    "    if bin_val >= ndata:\n",
    "        break\n",
    "    else:\n",
    "        idatabin = ibin\n",
    "\n",
    "idatabin += 1\n",
    "ax.fill_between(bins[idatabin:][:-1], 0, hist_b[idatabin:], color='orange', step='post')\n",
    "ax.annotate(\"p0-value\", xy=(16, 0.01), xytext=(25, 0.025), \n",
    "            arrowprops=dict(facecolor='black', shrink=0.02), fontsize='x-large')\n",
    "ax.set_xlabel(\"$N$\")\n",
    "ax.legend()\n",
    "plt.savefig(\"p0_demo.eps\")"
   ]
  },
  {
   "cell_type": "code",
   "execution_count": 34,
   "metadata": {},
   "outputs": [
    {
     "name": "stdout",
     "output_type": "stream",
     "text": [
      "0.0788\n"
     ]
    }
   ],
   "source": [
    "print(sum(hist_b[idatabin:]))"
   ]
  },
  {
   "cell_type": "code",
   "execution_count": 36,
   "metadata": {},
   "outputs": [
    {
     "name": "stdout",
     "output_type": "stream",
     "text": [
      "Welcome to JupyROOT 6.12/04\n"
     ]
    }
   ],
   "source": [
    "import ROOT"
   ]
  },
  {
   "cell_type": "code",
   "execution_count": 39,
   "metadata": {},
   "outputs": [
    {
     "data": {
      "text/plain": [
       "1.413189544250503"
      ]
     },
     "execution_count": 39,
     "metadata": {},
     "output_type": "execute_result"
    }
   ],
   "source": [
    "ROOT.Math.normal_quantile(1- 0.0788, 1)"
   ]
  },
  {
   "cell_type": "code",
   "execution_count": 38,
   "metadata": {},
   "outputs": [
    {
     "data": {
      "text/plain": [
       "0.9999997133484282"
      ]
     },
     "execution_count": 38,
     "metadata": {},
     "output_type": "execute_result"
    }
   ],
   "source": [
    "ROOT.Math.normal_cdf(5)"
   ]
  },
  {
   "cell_type": "code",
   "execution_count": 40,
   "metadata": {},
   "outputs": [
    {
     "data": {
      "text/plain": [
       "1.413189544250503"
      ]
     },
     "execution_count": 40,
     "metadata": {},
     "output_type": "execute_result"
    },
    {
     "name": "stdout",
     "output_type": "stream",
     "text": [
      "\n",
      "\u001b[1mRooFit v3.60 -- Developed by Wouter Verkerke and David Kirkby\u001b[0m \n",
      "                Copyright (C) 2000-2013 NIKHEF, University of California & Stanford University\n",
      "                All rights reserved, please read http://roofit.sourceforge.net/license.txt\n",
      "\n"
     ]
    }
   ],
   "source": [
    "ROOT.RooStats.PValueToSignificance(0.0788)"
   ]
  },
  {
   "cell_type": "code",
   "execution_count": null,
   "metadata": {},
   "outputs": [],
   "source": []
  }
 ],
 "metadata": {
  "kernelspec": {
   "display_name": "Python 3",
   "language": "python",
   "name": "python3"
  },
  "language_info": {
   "codemirror_mode": {
    "name": "ipython",
    "version": 3
   },
   "file_extension": ".py",
   "mimetype": "text/x-python",
   "name": "python",
   "nbconvert_exporter": "python",
   "pygments_lexer": "ipython3",
   "version": "3.6.2"
  }
 },
 "nbformat": 4,
 "nbformat_minor": 2
}
