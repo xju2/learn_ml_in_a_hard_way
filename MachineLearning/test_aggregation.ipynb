{
 "cells": [
  {
   "cell_type": "code",
   "execution_count": 3,
   "metadata": {},
   "outputs": [],
   "source": [
    "import torch\n",
    "import torch.nn as nn\n",
    "from torch_geometric.nn import aggr"
   ]
  },
  {
   "cell_type": "code",
   "execution_count": 11,
   "metadata": {},
   "outputs": [],
   "source": [
    "class ScatterAdd(nn.Module):\n",
    "    def __init__(self, indices):\n",
    "        \n",
    "        super().__init__()\n",
    "        self.indices = indices\n",
    "        # self.aggr_add = aggr.SumAggregation()\n",
    "        self.aggr_func = aggr.MultiAggregation(['sum', 'mean', 'max', 'std'], mode='cat')\n",
    "        \n",
    "    def forward(self, source):\n",
    "        x_out = self.aggr_func(source, self.indices)\n",
    "        return x_out\n"
   ]
  },
  {
   "cell_type": "code",
   "execution_count": 12,
   "metadata": {},
   "outputs": [
    {
     "data": {
      "text/plain": [
       "ScatterAdd(\n",
       "  (aggr_func): MultiAggregation([\n",
       "    SumAggregation(),\n",
       "    MeanAggregation(),\n",
       "    MaxAggregation(),\n",
       "    StdAggregation(),\n",
       "  ], mode=cat)\n",
       ")"
      ]
     },
     "execution_count": 12,
     "metadata": {},
     "output_type": "execute_result"
    }
   ],
   "source": [
    "index = torch.tensor([0, 0, 1, 2])\n",
    "model = ScatterAdd(index)\n",
    "model.eval()"
   ]
  },
  {
   "cell_type": "code",
   "execution_count": 13,
   "metadata": {},
   "outputs": [],
   "source": [
    "# Feature matrix holding 10 elements with 64 features each:\n",
    "torch.manual_seed(12345)\n",
    "# x = torch.randn(4, 2)\n",
    "x = torch.ones(4, 2)"
   ]
  },
  {
   "cell_type": "code",
   "execution_count": 14,
   "metadata": {},
   "outputs": [
    {
     "data": {
      "text/plain": [
       "tensor([[2., 2., 1., 1., 1., 1., 0., 0.],\n",
       "        [1., 1., 1., 1., 1., 1., 0., 0.],\n",
       "        [1., 1., 1., 1., 1., 1., 0., 0.]])"
      ]
     },
     "execution_count": 14,
     "metadata": {},
     "output_type": "execute_result"
    }
   ],
   "source": [
    "model(x)"
   ]
  },
  {
   "cell_type": "code",
   "execution_count": 15,
   "metadata": {},
   "outputs": [
    {
     "data": {
      "text/plain": [
       "tensor([[ 0.2309, -3.9140,  0.1155, -1.9570,  1.4271, -1.8701,  1.3117,  0.0869],\n",
       "        [-0.4560, -1.4295, -0.4560, -1.4295, -0.4560, -1.4295,  0.0000,  0.0000],\n",
       "        [-0.7175,  1.3922, -0.7175,  1.3922, -0.7175,  1.3922,  0.0000,  0.0000]])"
      ]
     },
     "execution_count": 15,
     "metadata": {},
     "output_type": "execute_result"
    }
   ],
   "source": [
    "new_src = torch.randn(4, 2)\n",
    "torch_script = torch.jit.script(model)\n",
    "script_out = torch_script(new_src)\n",
    "script_out"
   ]
  },
  {
   "cell_type": "markdown",
   "metadata": {},
   "source": [
    "The aggregation functions cannot be imported to ONNX. For example, the following code will throw an error:\n",
    "\n",
    "```python\n",
    "torch.onnx.export(torch_script, new_src, \n",
    "                  \"scatter_add.onnx\", \n",
    "                  input_names=[\"source\"], \n",
    "                  output_names=[\"x_out\"],\n",
    "                  export_params=True, \n",
    "                  opset_version=16)\n",
    "```\n",
    "\n",
    "However, they can be saved as jit script and perform the inference as seen in the following code."
   ]
  },
  {
   "cell_type": "code",
   "execution_count": 16,
   "metadata": {},
   "outputs": [],
   "source": [
    "torch.jit.save(torch_script, \"scatter_add.pt\")"
   ]
  },
  {
   "cell_type": "code",
   "execution_count": 17,
   "metadata": {},
   "outputs": [],
   "source": [
    "new_model = torch.jit.load(\"scatter_add.pt\")"
   ]
  },
  {
   "cell_type": "code",
   "execution_count": 18,
   "metadata": {},
   "outputs": [],
   "source": [
    "new_output = new_model(new_src)"
   ]
  },
  {
   "cell_type": "code",
   "execution_count": 19,
   "metadata": {},
   "outputs": [],
   "source": [
    "assert new_output.equal(script_out)"
   ]
  }
 ],
 "metadata": {
  "kernelspec": {
   "display_name": ".venv",
   "language": "python",
   "name": "python3"
  },
  "language_info": {
   "codemirror_mode": {
    "name": "ipython",
    "version": 3
   },
   "file_extension": ".py",
   "mimetype": "text/x-python",
   "name": "python",
   "nbconvert_exporter": "python",
   "pygments_lexer": "ipython3",
   "version": "3.9.7"
  }
 },
 "nbformat": 4,
 "nbformat_minor": 2
}
